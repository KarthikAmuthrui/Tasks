{
  "nbformat": 4,
  "nbformat_minor": 0,
  "metadata": {
    "colab": {
      "name": "Task-1.ipynb",
      "provenance": [],
      "collapsed_sections": [],
      "authorship_tag": "ABX9TyN6tz+DPFGzdd6HAmc4Zaqz",
      "include_colab_link": true
    },
    "kernelspec": {
      "name": "python3",
      "display_name": "Python 3"
    },
    "language_info": {
      "name": "python"
    }
  },
  "cells": [
    {
      "cell_type": "markdown",
      "metadata": {
        "id": "view-in-github",
        "colab_type": "text"
      },
      "source": [
        "<a href=\"https://colab.research.google.com/github/KarthikAmuthrui/Tasks/blob/main/Task_1.ipynb\" target=\"_parent\"><img src=\"https://colab.research.google.com/assets/colab-badge.svg\" alt=\"Open In Colab\"/></a>"
      ]
    },
    {
      "cell_type": "markdown",
      "source": [
        "## **TASK-01**"
      ],
      "metadata": {
        "id": "fOODHUQPV8mo"
      }
    },
    {
      "cell_type": "markdown",
      "source": [
        "## //creating an registration and login system//"
      ],
      "metadata": {
        "id": "3lcRyBm_7xfG"
      }
    },
    {
      "cell_type": "code",
      "execution_count": 27,
      "metadata": {
        "id": "tvSCAud8qgQZ",
        "colab": {
          "base_uri": "https://localhost:8080/"
        },
        "outputId": "b3c93cca-6469-4f1c-d4c3-087167e27ff8"
      },
      "outputs": [
        {
          "output_type": "stream",
          "name": "stdout",
          "text": [
            "please enter your choice: \n",
            "\n",
            "1.registration\n",
            "2.login\n",
            "1\n",
            "please enter your email: chaithu@gmail.com\n",
            "please enter your password: Chaithu#123\n",
            "please re-enter your password: Chaithu#123\n",
            "login\n",
            "login\n",
            "login\n",
            "login\n",
            "you are already registered\n",
            "please login\n",
            "None\n"
          ]
        }
      ],
      "source": [
        "import csv\n",
        "import re\n",
        "\n",
        "#creating choice...\n",
        "def choices():\n",
        "  print(\"please enter your choice: \")\n",
        "  choice = int(input(\"\\n1.registration\\n2.login\\n\"))\n",
        "  if choice == 1:\n",
        "    return register()\n",
        "  elif choice == 2:\n",
        "    return login()\n",
        "  else:\n",
        "    return TypeError(\"Invalid choice\")\n",
        "\n",
        "#ceating user registration function...\n",
        "def register():\n",
        "  m = 0\n",
        "  n = 1\n",
        "#opening a file in write and read modes and adding email and passwords...\n",
        "  with open(\"users.csv\",mode = \"a+\", newline = \"\") as f:\n",
        "    writer = csv.writer(f, delimiter = \",\")\n",
        "\n",
        "    #getting email from user...\n",
        "    Email = input(\"please enter your email: \")\n",
        "    x = re.search(\"^[a-zA-Z]+[0-9]*[@][a-z]+[\\.][a-z]{2,3}$\",Email)\n",
        "    if x:\n",
        "      m += 1\n",
        "    else:\n",
        "      print(\"please enter correct email format!\")\n",
        "      register()\n",
        "    #getting passwords from user...\n",
        "    Password = input(\"please enter your password: \")\n",
        "    Password2 = input(\"please re-enter your password: \")\n",
        "    #password verification....\n",
        "    if Password == Password2:\n",
        "      y = re.search(\"^(?=.*[a-z])(?=.*[A-Z])(?=.*[0-9])(?=.*[!@#$%^&*-+=()])(?=\\\\S+$).{5,16}$\",Password)\n",
        "      if y:\n",
        "        n -= 1\n",
        "      else:\n",
        "        print(\"please enter the password with atleast one lowercase,one uppercase,one special symbol, and one digit\")\n",
        "        print(\"please try again!\")\n",
        "    else:\n",
        "      print(\"please enter both the passwords as same\")\n",
        "      register()\n",
        "    \n",
        "    with open(\"users.csv\",mode = \"r\", newline = \"\") as f:\n",
        "      reader = csv.reader(f, delimiter = \",\")\n",
        "      for row in reader:\n",
        "        if row == [Email, Password]:\n",
        "          print(\"you are already registered\\nplease login\")\n",
        "          n += 1\n",
        "          login()\n",
        "          break\n",
        "        \n",
        "    if m+n == 1:\n",
        "       #appending email and password in a csv file...\n",
        "       writer.writerow([Email,Password])\n",
        "       print(\"Registration is succesfull!\")\n",
        "       return True\n",
        "    \n",
        "# creating user login function....\n",
        "def login():\n",
        "  # getting email and passwords from user...\n",
        "  Email = input(\"please enter your email: \")\n",
        "  Password = input(\"please enter your password: \")\n",
        "  # opening the csv file...\n",
        "  with open(\"users.csv\",mode = \"r\") as f:\n",
        "    reader = csv.reader(f,delimiter = \",\")\n",
        "    for row in reader:\n",
        "      #validating the email and password...\n",
        "      if row == [Email, Password]:\n",
        "        print(\"you are logged in!\")\n",
        "        return True\n",
        "      \n",
        "    print(\"Invalid email or password\")\n",
        "    #providing options to the user...\n",
        "    choice = int(input(\"please enter 1.Register or 2.forgot password or 3.exit: \\n\"))\n",
        "    if choice == 1:\n",
        "      return register()\n",
        "    elif choice == 2:\n",
        "       return forget_password()\n",
        "    elif choice == 3:\n",
        "      return exit\n",
        "    else:\n",
        "      print(\"Invaid choice\")\n",
        "\n",
        "# creating function for forgotten password....\n",
        "def forget_password():\n",
        "  count = 0\n",
        "  Email = input(\"please enter your email:\")\n",
        "  Password = input(\"please enter your old password:\")\n",
        "  Password2 = input(\"please enter your new password:\")\n",
        "  z = re.search(\"^(?=.*[a-z])(?=.*[A-Z])(?=.*[0-9])(?=.*[!@#$%^&*-+=()])(?=\\\\S+$).{5,16}$\",Password2)\n",
        "  if z:\n",
        "    count += 1\n",
        "  else:\n",
        "    print(\"please enter the password with atleast one lowercase,one uppercase,one special symbol, and one digit\")\n",
        "    print(\"please try again!\")\n",
        "    forget_password()\n",
        "\n",
        "  with open(\"users.csv\", mode =\"a\",newline =\"\")as f:\n",
        "    writer = csv.writer(f,delimiter=\",\")\n",
        "    if count == 1:\n",
        "      writer.writerow([Email,Password2])\n",
        "      print(\"your password is updated\")\n",
        "      return True\n",
        "      \n",
        "    print(\"sorry! Try again\")\n",
        "    return forget_password()\n",
        "\n",
        "print(choices())"
      ]
    },
    {
      "cell_type": "code",
      "source": [
        "if m+n == 1:\n",
        "       #appending email and password in a csv file...\n",
        "       writer.writerow([Email,Password])\n",
        "       print(\"Registration is succesfull!\")\n",
        "       return True\n",
        "    else:\n",
        "       print(\"please try again!\")\n",
        "       return register()"
      ],
      "metadata": {
        "id": "hqenJJrPre_g"
      },
      "execution_count": null,
      "outputs": []
    }
  ]
}