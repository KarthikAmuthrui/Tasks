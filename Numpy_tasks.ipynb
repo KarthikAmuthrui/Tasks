{
  "cells": [
    {
      "cell_type": "markdown",
      "metadata": {
        "id": "view-in-github",
        "colab_type": "text"
      },
      "source": [
        "<a href=\"https://colab.research.google.com/github/KarthikAmuthrui/Tasks/blob/main/Numpy_tasks.ipynb\" target=\"_parent\"><img src=\"https://colab.research.google.com/assets/colab-badge.svg\" alt=\"Open In Colab\"/></a>"
      ]
    },
    {
      "cell_type": "markdown",
      "metadata": {
        "id": "RsgLfZfS0nI0"
      },
      "source": [
        "# Numpy\n",
        "\n"
      ]
    },
    {
      "cell_type": "markdown",
      "metadata": {
        "id": "L-Ajefu60nI5"
      },
      "source": [
        "#### 1. Import the numpy package under the name `np` (★☆☆) \n",
        "(**hint**: import … as …)"
      ]
    },
    {
      "cell_type": "code",
      "execution_count": 1,
      "metadata": {
        "collapsed": true,
        "id": "C2fmyBPB0nI6"
      },
      "outputs": [],
      "source": [
        "import numpy as np"
      ]
    },
    {
      "cell_type": "markdown",
      "metadata": {
        "id": "1e4O9NLu0nI8"
      },
      "source": [
        "#### 2. Print the numpy version and the configuration (★☆☆) \n",
        "(**hint**: np.\\_\\_version\\_\\_, np.show\\_config)"
      ]
    },
    {
      "cell_type": "code",
      "execution_count": 2,
      "metadata": {
        "id": "RM6sK1V70nI8",
        "colab": {
          "base_uri": "https://localhost:8080/"
        },
        "outputId": "6d7de734-0292-4b44-9f43-8a27d96f9e9a"
      },
      "outputs": [
        {
          "output_type": "stream",
          "name": "stdout",
          "text": [
            "1.21.6\n",
            "blas_mkl_info:\n",
            "  NOT AVAILABLE\n",
            "blis_info:\n",
            "  NOT AVAILABLE\n",
            "openblas_info:\n",
            "    libraries = ['openblas', 'openblas']\n",
            "    library_dirs = ['/usr/local/lib']\n",
            "    language = c\n",
            "    define_macros = [('HAVE_CBLAS', None)]\n",
            "    runtime_library_dirs = ['/usr/local/lib']\n",
            "blas_opt_info:\n",
            "    libraries = ['openblas', 'openblas']\n",
            "    library_dirs = ['/usr/local/lib']\n",
            "    language = c\n",
            "    define_macros = [('HAVE_CBLAS', None)]\n",
            "    runtime_library_dirs = ['/usr/local/lib']\n",
            "lapack_mkl_info:\n",
            "  NOT AVAILABLE\n",
            "openblas_lapack_info:\n",
            "    libraries = ['openblas', 'openblas']\n",
            "    library_dirs = ['/usr/local/lib']\n",
            "    language = c\n",
            "    define_macros = [('HAVE_CBLAS', None)]\n",
            "    runtime_library_dirs = ['/usr/local/lib']\n",
            "lapack_opt_info:\n",
            "    libraries = ['openblas', 'openblas']\n",
            "    library_dirs = ['/usr/local/lib']\n",
            "    language = c\n",
            "    define_macros = [('HAVE_CBLAS', None)]\n",
            "    runtime_library_dirs = ['/usr/local/lib']\n",
            "Supported SIMD extensions in this NumPy install:\n",
            "    baseline = SSE,SSE2,SSE3\n",
            "    found = SSSE3,SSE41,POPCNT,SSE42,AVX,F16C,FMA3,AVX2\n",
            "    not found = AVX512F,AVX512CD,AVX512_KNL,AVX512_KNM,AVX512_SKX,AVX512_CLX,AVX512_CNL,AVX512_ICL\n",
            "None\n"
          ]
        }
      ],
      "source": [
        "print(np.__version__)\n",
        "print(np.__config__.show())"
      ]
    },
    {
      "cell_type": "markdown",
      "metadata": {
        "id": "sutZ9S6n0nI9"
      },
      "source": [
        "#### 3. Create a null vector of size 10 (★☆☆) \n",
        "(**hint**: np.zeros)"
      ]
    },
    {
      "cell_type": "code",
      "execution_count": 3,
      "metadata": {
        "colab": {
          "base_uri": "https://localhost:8080/"
        },
        "id": "ruHtMycc0nI9",
        "outputId": "fce230e5-37e1-4482-ceb7-823298ba3907"
      },
      "outputs": [
        {
          "output_type": "execute_result",
          "data": {
            "text/plain": [
              "array([0., 0., 0., 0., 0., 0., 0., 0., 0., 0.])"
            ]
          },
          "metadata": {},
          "execution_count": 3
        }
      ],
      "source": [
        "x = np.zeros(10)\n",
        "x"
      ]
    },
    {
      "cell_type": "markdown",
      "metadata": {
        "id": "xtH5RuDb0nI9"
      },
      "source": [
        "#### 4.  How to find the memory size of any array (★☆☆) \n",
        "(**hint**: size, itemsize)"
      ]
    },
    {
      "cell_type": "code",
      "execution_count": 4,
      "metadata": {
        "colab": {
          "base_uri": "https://localhost:8080/"
        },
        "id": "3cI5RbK80nI-",
        "outputId": "bea4bd37-cdc2-4c63-d867-77e886f99380"
      },
      "outputs": [
        {
          "output_type": "stream",
          "name": "stdout",
          "text": [
            "10\n",
            "8\n"
          ]
        }
      ],
      "source": [
        "#size: This attribute gives the number of elements present in the NumPy array.\n",
        "\n",
        "#itemsize: This attribute gives the memory size of one element of NumPy array in bytes.\n",
        "print(x.size)\n",
        "print(x.itemsize)"
      ]
    },
    {
      "cell_type": "markdown",
      "metadata": {
        "id": "CaA89DaA0nI-"
      },
      "source": [
        "#### 5.  How to get the documentation of the numpy add function from the command line? (★☆☆) \n",
        "(**hint**: np.info)"
      ]
    },
    {
      "cell_type": "code",
      "execution_count": 5,
      "metadata": {
        "collapsed": true,
        "id": "62Z7TPmV0nI_",
        "colab": {
          "base_uri": "https://localhost:8080/"
        },
        "outputId": "9b772229-bdde-4979-a574-cc838284da62"
      },
      "outputs": [
        {
          "output_type": "stream",
          "name": "stdout",
          "text": [
            "add(x1, x2, /, out=None, *, where=True, casting='same_kind', order='K', dtype=None, subok=True[, signature, extobj])\n",
            "\n",
            "Add arguments element-wise.\n",
            "\n",
            "Parameters\n",
            "----------\n",
            "x1, x2 : array_like\n",
            "    The arrays to be added.\n",
            "    If ``x1.shape != x2.shape``, they must be broadcastable to a common\n",
            "    shape (which becomes the shape of the output).\n",
            "out : ndarray, None, or tuple of ndarray and None, optional\n",
            "    A location into which the result is stored. If provided, it must have\n",
            "    a shape that the inputs broadcast to. If not provided or None,\n",
            "    a freshly-allocated array is returned. A tuple (possible only as a\n",
            "    keyword argument) must have length equal to the number of outputs.\n",
            "where : array_like, optional\n",
            "    This condition is broadcast over the input. At locations where the\n",
            "    condition is True, the `out` array will be set to the ufunc result.\n",
            "    Elsewhere, the `out` array will retain its original value.\n",
            "    Note that if an uninitialized `out` array is created via the default\n",
            "    ``out=None``, locations within it where the condition is False will\n",
            "    remain uninitialized.\n",
            "**kwargs\n",
            "    For other keyword-only arguments, see the\n",
            "    :ref:`ufunc docs <ufuncs.kwargs>`.\n",
            "\n",
            "Returns\n",
            "-------\n",
            "add : ndarray or scalar\n",
            "    The sum of `x1` and `x2`, element-wise.\n",
            "    This is a scalar if both `x1` and `x2` are scalars.\n",
            "\n",
            "Notes\n",
            "-----\n",
            "Equivalent to `x1` + `x2` in terms of array broadcasting.\n",
            "\n",
            "Examples\n",
            "--------\n",
            ">>> np.add(1.0, 4.0)\n",
            "5.0\n",
            ">>> x1 = np.arange(9.0).reshape((3, 3))\n",
            ">>> x2 = np.arange(3.0)\n",
            ">>> np.add(x1, x2)\n",
            "array([[  0.,   2.,   4.],\n",
            "       [  3.,   5.,   7.],\n",
            "       [  6.,   8.,  10.]])\n",
            "\n",
            "The ``+`` operator can be used as a shorthand for ``np.add`` on ndarrays.\n",
            "\n",
            ">>> x1 = np.arange(9.0).reshape((3, 3))\n",
            ">>> x2 = np.arange(3.0)\n",
            ">>> x1 + x2\n",
            "array([[ 0.,  2.,  4.],\n",
            "       [ 3.,  5.,  7.],\n",
            "       [ 6.,  8., 10.]])\n"
          ]
        }
      ],
      "source": [
        "np.info(np.add)"
      ]
    },
    {
      "cell_type": "markdown",
      "metadata": {
        "id": "gYzLk_JG0nI_"
      },
      "source": [
        "#### 6.  Create a null vector of size 10 but the fifth value which is 1 (★☆☆) \n",
        "(**hint**: array\\[4\\])"
      ]
    },
    {
      "cell_type": "code",
      "execution_count": 6,
      "metadata": {
        "colab": {
          "base_uri": "https://localhost:8080/"
        },
        "id": "pUPW_FQ60nJA",
        "outputId": "6c7ea2ce-6619-483f-8038-128838fb8f9a"
      },
      "outputs": [
        {
          "output_type": "stream",
          "name": "stdout",
          "text": [
            "[0. 0. 0. 0. 1. 0. 0. 0. 0. 0.]\n"
          ]
        }
      ],
      "source": [
        "x = np.zeros(10)\n",
        "x[4] = 1\n",
        "print(x)"
      ]
    },
    {
      "cell_type": "markdown",
      "metadata": {
        "id": "s24WeiE_0nJA"
      },
      "source": [
        "#### 7.  Create a vector with values ranging from 10 to 49 (★☆☆) \n",
        "(**hint**: np.arange)"
      ]
    },
    {
      "cell_type": "code",
      "execution_count": 7,
      "metadata": {
        "colab": {
          "base_uri": "https://localhost:8080/"
        },
        "id": "9GdtPmwJ0nJA",
        "outputId": "d2d8e731-bfd6-44cb-b2d8-e6b7fc73e157"
      },
      "outputs": [
        {
          "output_type": "execute_result",
          "data": {
            "text/plain": [
              "array([10, 11, 12, 13, 14, 15, 16, 17, 18, 19, 20, 21, 22, 23, 24, 25, 26,\n",
              "       27, 28, 29, 30, 31, 32, 33, 34, 35, 36, 37, 38, 39, 40, 41, 42, 43,\n",
              "       44, 45, 46, 47, 48, 49])"
            ]
          },
          "metadata": {},
          "execution_count": 7
        }
      ],
      "source": [
        "v = np.arange(10,50)\n",
        "v"
      ]
    },
    {
      "cell_type": "markdown",
      "metadata": {
        "id": "c37KfBtp0nJB"
      },
      "source": [
        "#### 8.  Reverse a vector (first element becomes last) (★☆☆) \n",
        "(**hint**: array\\[::-1\\])"
      ]
    },
    {
      "cell_type": "code",
      "execution_count": 8,
      "metadata": {
        "colab": {
          "base_uri": "https://localhost:8080/"
        },
        "id": "Z210pRXK0nJB",
        "outputId": "b21e5b5a-c7bd-44d3-c6b2-372ae297df90"
      },
      "outputs": [
        {
          "output_type": "execute_result",
          "data": {
            "text/plain": [
              "array([49, 48, 47, 46, 45, 44, 43, 42, 41, 40, 39, 38, 37, 36, 35, 34, 33,\n",
              "       32, 31, 30, 29, 28, 27, 26, 25, 24, 23, 22, 21, 20, 19, 18, 17, 16,\n",
              "       15, 14, 13, 12, 11, 10])"
            ]
          },
          "metadata": {},
          "execution_count": 8
        }
      ],
      "source": [
        "v[::-1]"
      ]
    },
    {
      "cell_type": "markdown",
      "metadata": {
        "id": "OFCYhqgZ0nJB"
      },
      "source": [
        "#### 9.  Create a 3x3 matrix with values ranging from 0 to 8 (★☆☆) \n",
        "(**hint**: reshape)"
      ]
    },
    {
      "cell_type": "code",
      "execution_count": 9,
      "metadata": {
        "colab": {
          "base_uri": "https://localhost:8080/"
        },
        "id": "B0uKwF4q0nJC",
        "outputId": "3b35f667-90b4-48f8-9f51-1b96c958f410"
      },
      "outputs": [
        {
          "output_type": "execute_result",
          "data": {
            "text/plain": [
              "array([[0, 1, 2],\n",
              "       [3, 4, 5],\n",
              "       [6, 7, 8]])"
            ]
          },
          "metadata": {},
          "execution_count": 9
        }
      ],
      "source": [
        "z =np.arange(0,9)\n",
        "z = z.reshape(3,3)\n",
        "# or z = np.arange(o,9).reshape(3,3)\n",
        "z"
      ]
    },
    {
      "cell_type": "markdown",
      "metadata": {
        "id": "Diu00Tj50nJC"
      },
      "source": [
        "#### 10. Find indices of non-zero elements from \\[1,2,0,0,4,0\\] (★☆☆) \n",
        "(**hint**: np.nonzero)"
      ]
    },
    {
      "cell_type": "code",
      "execution_count": 10,
      "metadata": {
        "colab": {
          "base_uri": "https://localhost:8080/"
        },
        "id": "TsO4InnI0nJD",
        "outputId": "643ae291-7c25-4cc5-810e-cee09929b8d3"
      },
      "outputs": [
        {
          "output_type": "execute_result",
          "data": {
            "text/plain": [
              "(array([0, 1, 4]),)"
            ]
          },
          "metadata": {},
          "execution_count": 10
        }
      ],
      "source": [
        "nz = np.nonzero([1,2,0,0,4,0])#It will provide indices of non zero elements in the array.\n",
        "nz "
      ]
    },
    {
      "cell_type": "markdown",
      "metadata": {
        "id": "YexZAPwd0nJD"
      },
      "source": [
        "#### 11. Create a 3x3 identity matrix (★☆☆) \n",
        "(**hint**: np.eye)"
      ]
    },
    {
      "cell_type": "code",
      "execution_count": 11,
      "metadata": {
        "colab": {
          "base_uri": "https://localhost:8080/"
        },
        "id": "HBn8ciDL0nJD",
        "outputId": "4073a65d-f7c6-4a7d-9315-f073fcfa7acc"
      },
      "outputs": [
        {
          "output_type": "execute_result",
          "data": {
            "text/plain": [
              "array([[1., 0., 0.],\n",
              "       [0., 1., 0.],\n",
              "       [0., 0., 1.]])"
            ]
          },
          "metadata": {},
          "execution_count": 11
        }
      ],
      "source": [
        "I = np.eye(3,3)\n",
        "I"
      ]
    },
    {
      "cell_type": "markdown",
      "metadata": {
        "id": "QfF1aziK0nJE"
      },
      "source": [
        "#### 12. Create a 3x3x3 array with random values (★☆☆) \n",
        "(**hint**: np.random.random)"
      ]
    },
    {
      "cell_type": "code",
      "execution_count": 12,
      "metadata": {
        "collapsed": true,
        "colab": {
          "base_uri": "https://localhost:8080/"
        },
        "id": "RQIzlm4s0nJE",
        "outputId": "adffea0c-3b7a-474d-a37b-9af22edab427"
      },
      "outputs": [
        {
          "output_type": "execute_result",
          "data": {
            "text/plain": [
              "array([[[0.00199515, 0.08985824, 0.68336302],\n",
              "        [0.07196668, 0.95406391, 0.75203199],\n",
              "        [0.81528115, 0.51233272, 0.13163961]],\n",
              "\n",
              "       [[0.72268864, 0.50605488, 0.77127144],\n",
              "        [0.7952562 , 0.44300054, 0.01006022],\n",
              "        [0.61917041, 0.82827065, 0.94153531]],\n",
              "\n",
              "       [[0.48649387, 0.20031833, 0.4846499 ],\n",
              "        [0.42236928, 0.04144685, 0.55738522],\n",
              "        [0.90815172, 0.37566067, 0.90189697]]])"
            ]
          },
          "metadata": {},
          "execution_count": 12
        }
      ],
      "source": [
        "r = np.random.random((3,3,3))\n",
        "r"
      ]
    },
    {
      "cell_type": "markdown",
      "metadata": {
        "id": "883Yte9p0nJE"
      },
      "source": [
        "#### 13. Create a 10x10 array with random values and find the minimum and maximum values (★☆☆) \n",
        "(**hint**: min, max)"
      ]
    },
    {
      "cell_type": "code",
      "execution_count": 13,
      "metadata": {
        "colab": {
          "base_uri": "https://localhost:8080/"
        },
        "id": "NW1YVl6L0nJF",
        "outputId": "b666db65-580c-4483-e1a8-5f06a0b29450"
      },
      "outputs": [
        {
          "output_type": "stream",
          "name": "stdout",
          "text": [
            "0.006777737681714302\n",
            "0.9901171523903717\n"
          ]
        }
      ],
      "source": [
        "n = np.random.random((10,10))\n",
        "print(n.min())\n",
        "print(n.max())"
      ]
    },
    {
      "cell_type": "markdown",
      "metadata": {
        "id": "TG9bbQ-O0nJF"
      },
      "source": [
        "#### 14. Create a random vector of size 30 and find the mean value (★☆☆) \n",
        "(**hint**: mean)"
      ]
    },
    {
      "cell_type": "code",
      "execution_count": 14,
      "metadata": {
        "colab": {
          "base_uri": "https://localhost:8080/"
        },
        "id": "BvlnwFRK0nJF",
        "outputId": "33559be9-a442-40ea-cdb3-45dc8602507e"
      },
      "outputs": [
        {
          "output_type": "stream",
          "name": "stdout",
          "text": [
            "0.5169370066312822\n"
          ]
        }
      ],
      "source": [
        "m = np.random.random(30)\n",
        "print(m.mean())"
      ]
    },
    {
      "cell_type": "markdown",
      "metadata": {
        "id": "8RkYdNqe0nJG"
      },
      "source": [
        "#### 15. Create a 2d array with 1 on the border and 0 inside (★☆☆) \n",
        "(**hint**: array\\[1:-1, 1:-1\\])"
      ]
    },
    {
      "cell_type": "code",
      "execution_count": 15,
      "metadata": {
        "colab": {
          "base_uri": "https://localhost:8080/"
        },
        "id": "8c07jZ400nJG",
        "outputId": "d89544c1-efc8-4dae-8b3c-8a09115e061c"
      },
      "outputs": [
        {
          "output_type": "execute_result",
          "data": {
            "text/plain": [
              "array([[1., 1., 1., 1., 1.],\n",
              "       [1., 0., 0., 0., 1.],\n",
              "       [1., 0., 0., 0., 1.],\n",
              "       [1., 0., 0., 0., 1.],\n",
              "       [1., 1., 1., 1., 1.]])"
            ]
          },
          "metadata": {},
          "execution_count": 15
        }
      ],
      "source": [
        "Z = np.ones((5,5))\n",
        "Z[1:-1,1:-1]=0\n",
        "Z"
      ]
    },
    {
      "cell_type": "markdown",
      "metadata": {
        "id": "SNxI-iCV0nJG"
      },
      "source": [
        "#### 16. How to add a border (filled with 0's) around an existing array? (★☆☆) \n",
        "(**hint**: np.pad)"
      ]
    },
    {
      "cell_type": "code",
      "execution_count": 16,
      "metadata": {
        "colab": {
          "base_uri": "https://localhost:8080/"
        },
        "id": "Mad9HcsX0nJH",
        "outputId": "9a4da287-37a1-4e98-9dff-c48e0c3655de"
      },
      "outputs": [
        {
          "output_type": "execute_result",
          "data": {
            "text/plain": [
              "array([[0., 0., 0., 0., 0.],\n",
              "       [0., 1., 1., 1., 0.],\n",
              "       [0., 1., 1., 1., 0.],\n",
              "       [0., 1., 1., 1., 0.],\n",
              "       [0., 0., 0., 0., 0.]])"
            ]
          },
          "metadata": {},
          "execution_count": 16
        }
      ],
      "source": [
        "z = np.zeros((5,5))\n",
        "z[1:-1,1:-1]=1\n",
        "z"
      ]
    },
    {
      "cell_type": "markdown",
      "metadata": {
        "id": "Zo1fG4P90nJH"
      },
      "source": [
        "#### 17. What is the result of the following expression? (★☆☆) \n",
        "(**hint**: NaN = not a number, inf = infinity)"
      ]
    },
    {
      "cell_type": "markdown",
      "metadata": {
        "id": "dRz7vUzR0nJH"
      },
      "source": [
        "```python\n",
        "0 * np.nan\n",
        "np.nan == np.nan\n",
        "np.inf > np.nan\n",
        "np.nan - np.nan\n",
        "0.3 == 3 * 0.1\n",
        "```"
      ]
    },
    {
      "cell_type": "code",
      "execution_count": 17,
      "metadata": {
        "colab": {
          "base_uri": "https://localhost:8080/"
        },
        "id": "lnFs75NV0nJI",
        "outputId": "ebe90eb3-2cb8-4771-b3b9-d53592942442"
      },
      "outputs": [
        {
          "output_type": "stream",
          "name": "stdout",
          "text": [
            "nan\n",
            "False\n",
            "False\n",
            "nan\n",
            "False\n"
          ]
        }
      ],
      "source": [
        "print(0 * np.nan)\n",
        "print(np.nan == np.nan)\n",
        "print(np.inf > np.nan)\n",
        "print(np.nan - np.nan)\n",
        "print(0.3 == 3 * 0.1)"
      ]
    },
    {
      "cell_type": "markdown",
      "metadata": {
        "id": "Up-JVXVq0nJI"
      },
      "source": [
        "#### 18. Create a 5x5 matrix with values 1,2,3,4 just below the diagonal (★☆☆) \n",
        "(**hint**: np.diag)"
      ]
    },
    {
      "cell_type": "code",
      "execution_count": 18,
      "metadata": {
        "colab": {
          "base_uri": "https://localhost:8080/"
        },
        "id": "4rSSyk-I0nJJ",
        "outputId": "96f7c595-9af8-4897-eb6b-ec41ebbf1a9c"
      },
      "outputs": [
        {
          "output_type": "execute_result",
          "data": {
            "text/plain": [
              "array([[0, 0, 0, 0, 0],\n",
              "       [1, 0, 0, 0, 0],\n",
              "       [0, 2, 0, 0, 0],\n",
              "       [0, 0, 3, 0, 0],\n",
              "       [0, 0, 0, 4, 0]])"
            ]
          },
          "metadata": {},
          "execution_count": 18
        }
      ],
      "source": [
        "Z = np.diag(np.arange(1,5),k=-1)\n",
        "Z"
      ]
    },
    {
      "cell_type": "markdown",
      "metadata": {
        "id": "jBVGqpbg0nJJ"
      },
      "source": [
        "#### 19. Create a 8x8 matrix and fill it with a checkerboard pattern (★☆☆) \n",
        "(**hint**: array\\[::2\\])"
      ]
    },
    {
      "cell_type": "code",
      "execution_count": 19,
      "metadata": {
        "colab": {
          "base_uri": "https://localhost:8080/"
        },
        "id": "OArSoZpu0nJK",
        "outputId": "45b53c7f-3201-4a34-ea8b-b75987a3f28c"
      },
      "outputs": [
        {
          "output_type": "execute_result",
          "data": {
            "text/plain": [
              "array([[1., 0., 1., 0., 1., 0., 1., 0.],\n",
              "       [0., 1., 0., 1., 0., 1., 0., 1.],\n",
              "       [1., 0., 1., 0., 1., 0., 1., 0.],\n",
              "       [0., 1., 0., 1., 0., 1., 0., 1.],\n",
              "       [1., 0., 1., 0., 1., 0., 1., 0.],\n",
              "       [0., 1., 0., 1., 0., 1., 0., 1.],\n",
              "       [1., 0., 1., 0., 1., 0., 1., 0.],\n",
              "       [0., 1., 0., 1., 0., 1., 0., 1.]])"
            ]
          },
          "metadata": {},
          "execution_count": 19
        }
      ],
      "source": [
        "z = np.ones(64).reshape(8,8)\n",
        "z[1::2,::2] = 0\n",
        "z[::2,1::2] = 0\n",
        "z\n"
      ]
    },
    {
      "cell_type": "markdown",
      "metadata": {
        "id": "qsTPuIQf0nJK"
      },
      "source": [
        "#### 20. Consider a (6,7,8) shape array, what is the index (x,y,z) of the 100th element? \n",
        "(**hint**: np.unravel_index)"
      ]
    },
    {
      "cell_type": "code",
      "execution_count": 20,
      "metadata": {
        "id": "vhvj1Po10nJL",
        "colab": {
          "base_uri": "https://localhost:8080/"
        },
        "outputId": "7be6caab-40da-4a8a-e1d9-f6413783b7a3"
      },
      "outputs": [
        {
          "output_type": "execute_result",
          "data": {
            "text/plain": [
              "(1, 5, 4)"
            ]
          },
          "metadata": {},
          "execution_count": 20
        }
      ],
      "source": [
        "np.unravel_index(100, (6, 7, 8))"
      ]
    },
    {
      "cell_type": "markdown",
      "metadata": {
        "id": "_Oujf8xQ0nJL"
      },
      "source": [
        "#### 21. Create a checkerboard 8x8 matrix using the tile function (★☆☆) \n",
        "(**hint**: np.tile)"
      ]
    },
    {
      "cell_type": "code",
      "execution_count": 21,
      "metadata": {
        "colab": {
          "base_uri": "https://localhost:8080/"
        },
        "id": "i3lvUrMt0nJL",
        "outputId": "4287970c-5b49-4c4e-d75d-49a0acffff56"
      },
      "outputs": [
        {
          "output_type": "execute_result",
          "data": {
            "text/plain": [
              "array([[0, 1, 0, 1, 0, 1, 0, 1],\n",
              "       [0, 1, 0, 1, 0, 1, 0, 1],\n",
              "       [0, 1, 0, 1, 0, 1, 0, 1],\n",
              "       [0, 1, 0, 1, 0, 1, 0, 1],\n",
              "       [0, 1, 0, 1, 0, 1, 0, 1],\n",
              "       [0, 1, 0, 1, 0, 1, 0, 1],\n",
              "       [0, 1, 0, 1, 0, 1, 0, 1],\n",
              "       [0, 1, 0, 1, 0, 1, 0, 1]])"
            ]
          },
          "metadata": {},
          "execution_count": 21
        }
      ],
      "source": [
        "arr = np.array([[0,1,0,1]])\n",
        "z = np.tile(arr,(8,2))\n",
        "z"
      ]
    },
    {
      "cell_type": "markdown",
      "metadata": {
        "id": "h2-fc9L_0nJM"
      },
      "source": [
        "#### 22. Normalize a 5x5 random matrix (★☆☆) \n",
        "(**hint**: (x - min) / (max - min))"
      ]
    },
    {
      "cell_type": "code",
      "execution_count": 22,
      "metadata": {
        "colab": {
          "base_uri": "https://localhost:8080/"
        },
        "id": "SHVwOVcD0nJM",
        "outputId": "cfb12cbe-a96d-4e51-fc24-72cc293de753"
      },
      "outputs": [
        {
          "output_type": "execute_result",
          "data": {
            "text/plain": [
              "array([[0.19934955, 0.        , 0.75568171, 0.92617263, 1.        ],\n",
              "       [0.75544898, 0.82443033, 0.07165746, 0.14813829, 0.29415535],\n",
              "       [0.3003633 , 0.00888052, 0.87782483, 0.89305775, 0.72991109],\n",
              "       [0.49618107, 0.49914366, 0.71833466, 0.97178388, 0.87398272],\n",
              "       [0.0458032 , 0.5614442 , 0.78884477, 0.34634132, 0.63950613]])"
            ]
          },
          "metadata": {},
          "execution_count": 22
        }
      ],
      "source": [
        "z = np.random.random((5,5))\n",
        "min = z.min()\n",
        "max = z.max()\n",
        "z = (z-min)/(max-min)\n",
        "z\n"
      ]
    },
    {
      "cell_type": "markdown",
      "metadata": {
        "id": "GyJEgp1h0nJM"
      },
      "source": [
        "#### 23. Create a custom dtype that describes a color as four unsigned bytes (RGBA) (★☆☆) \n",
        "(**hint**: np.dtype)"
      ]
    },
    {
      "cell_type": "code",
      "execution_count": 23,
      "metadata": {
        "collapsed": true,
        "id": "MynYfFvE0nJN",
        "colab": {
          "base_uri": "https://localhost:8080/"
        },
        "outputId": "76d5bf17-02c4-403a-f406-6ae203e6dbe1"
      },
      "outputs": [
        {
          "output_type": "stream",
          "name": "stderr",
          "text": [
            "/usr/local/lib/python3.7/dist-packages/ipykernel_launcher.py:4: FutureWarning: Passing (type, 1) or '1type' as a synonym of type is deprecated; in a future version of numpy, it will be understood as (type, (1,)) / '(1,)type'.\n",
            "  after removing the cwd from sys.path.\n"
          ]
        }
      ],
      "source": [
        "color = np.dtype([(\"r\", np.ubyte, 1),\n",
        "                  (\"g\", np.ubyte, 1),\n",
        "                  (\"b\", np.ubyte, 1),\n",
        "                  (\"a\", np.ubyte, 1)])"
      ]
    },
    {
      "cell_type": "markdown",
      "metadata": {
        "id": "eVxmBPtA0nJN"
      },
      "source": [
        "#### 24. Multiply a 5x3 matrix by a 3x2 matrix (real matrix product) (★☆☆) \n",
        "(**hint**: np.dot | @)"
      ]
    },
    {
      "cell_type": "code",
      "execution_count": 24,
      "metadata": {
        "colab": {
          "base_uri": "https://localhost:8080/"
        },
        "id": "FAbDscjI0nJN",
        "outputId": "b07d9f76-aaf1-4f85-96a9-779986039da6"
      },
      "outputs": [
        {
          "output_type": "execute_result",
          "data": {
            "text/plain": [
              "array([[ 10,  13],\n",
              "       [ 28,  40],\n",
              "       [ 46,  67],\n",
              "       [ 64,  94],\n",
              "       [ 82, 121]])"
            ]
          },
          "metadata": {},
          "execution_count": 24
        }
      ],
      "source": [
        "x = np.arange(15).reshape(5,3)\n",
        "y = np.arange(6).reshape(3,2)\n",
        "z = np.dot(x,y)\n",
        "z"
      ]
    },
    {
      "cell_type": "markdown",
      "metadata": {
        "id": "SHvaullf0nJO"
      },
      "source": [
        "#### 25. Given a 1D array, negate all elements which are between 3 and 8, in place. (★☆☆) \n",
        "(**hint**: >, <=)"
      ]
    },
    {
      "cell_type": "code",
      "execution_count": 25,
      "metadata": {
        "id": "gsFAzNUd0nJO",
        "colab": {
          "base_uri": "https://localhost:8080/"
        },
        "outputId": "83f3ebad-527d-41f8-a61f-73c6461b14ea"
      },
      "outputs": [
        {
          "output_type": "execute_result",
          "data": {
            "text/plain": [
              "array([ 0,  1,  2,  3, -1, -1, -1, -1, -1,  9, 10])"
            ]
          },
          "metadata": {},
          "execution_count": 25
        }
      ],
      "source": [
        "x = np.arange(11)\n",
        "x[(x > 3) & (x <= 8)] = -1\n",
        "x"
      ]
    },
    {
      "cell_type": "markdown",
      "metadata": {
        "id": "te6XzXcX0nJO"
      },
      "source": [
        "#### 26. What is the output of the following script? (★☆☆) \n",
        "(**hint**: np.sum)"
      ]
    },
    {
      "cell_type": "markdown",
      "metadata": {
        "id": "TDOmJBtE0nJP"
      },
      "source": [
        "```python\n",
        "# Author: Jake VanderPlas\n",
        "\n",
        "print(sum(range(5),-1))\n",
        "from numpy import *\n",
        "print(sum(range(5),-1))\n",
        "```"
      ]
    },
    {
      "cell_type": "code",
      "execution_count": 26,
      "metadata": {
        "colab": {
          "base_uri": "https://localhost:8080/"
        },
        "id": "e61HxrMO0nJP",
        "outputId": "ab05f815-3b16-47a6-c089-83fc3f251751"
      },
      "outputs": [
        {
          "output_type": "stream",
          "name": "stdout",
          "text": [
            "9\n",
            "10\n"
          ]
        }
      ],
      "source": [
        "print(sum(range(5),-1))\n",
        "from numpy import *\n",
        "print(sum(range(5),-1))"
      ]
    },
    {
      "cell_type": "markdown",
      "metadata": {
        "id": "hOzORw8e0nJP"
      },
      "source": [
        "#### 27. Consider an integer vector Z, which of these expressions are legal? (★☆☆)"
      ]
    },
    {
      "cell_type": "markdown",
      "metadata": {
        "id": "yQ7uWF9H0nJP"
      },
      "source": [
        "```python\n",
        "Z**Z\n",
        "2 << Z >> 2\n",
        "Z <- Z\n",
        "1j*Z\n",
        "Z/1/1\n",
        "Z<Z>Z\n",
        "```"
      ]
    },
    {
      "cell_type": "code",
      "execution_count": null,
      "metadata": {
        "id": "4c8bryK60nJQ"
      },
      "outputs": [],
      "source": [
        "Z = np.arange(3)\n",
        "Z ** Z       # = [0^0, 1^1, 2^2] = [1, 1, 4]\n",
        "2 << Z >> 2  # = [0, 1, 2]\n",
        "Z < - Z      # = [False, False, False]\n",
        "1j * Z       # = [0 + 0.j, 0 + 1.j, 0 + 2.j]\n",
        "Z / 1 / 1    # = [0, 1, 2]\n",
        "Z<Z>Z        # = illegal expression"
      ]
    },
    {
      "cell_type": "markdown",
      "metadata": {
        "id": "_Wa-YBiL0nJQ"
      },
      "source": [
        "#### 28. What are the result of the following expressions?"
      ]
    },
    {
      "cell_type": "markdown",
      "metadata": {
        "id": "abYOANRu0nJQ"
      },
      "source": [
        "```python\n",
        "np.array(0) / np.array(0)\n",
        "np.array(0) // np.array(0)\n",
        "np.array([np.nan]).astype(int).astype(float)\n",
        "```"
      ]
    },
    {
      "cell_type": "code",
      "execution_count": 28,
      "metadata": {
        "colab": {
          "base_uri": "https://localhost:8080/"
        },
        "id": "a7Aq7Prt0nJR",
        "outputId": "54eb6981-ce50-4115-e773-6a284dfbc2ae"
      },
      "outputs": [
        {
          "output_type": "stream",
          "name": "stdout",
          "text": [
            "nan\n",
            "0\n",
            "[-9.22337204e+18]\n"
          ]
        },
        {
          "output_type": "stream",
          "name": "stderr",
          "text": [
            "/usr/local/lib/python3.7/dist-packages/ipykernel_launcher.py:1: RuntimeWarning: invalid value encountered in true_divide\n",
            "  \"\"\"Entry point for launching an IPython kernel.\n",
            "/usr/local/lib/python3.7/dist-packages/ipykernel_launcher.py:2: RuntimeWarning: divide by zero encountered in floor_divide\n",
            "  \n"
          ]
        }
      ],
      "source": [
        "print(np.array(0) / np.array(0))\n",
        "print(np.array(0) // np.array(0))\n",
        "print(np.array([np.nan]).astype(int).astype(float))"
      ]
    },
    {
      "cell_type": "markdown",
      "metadata": {
        "id": "3qCU2AFl0nJR"
      },
      "source": [
        "#### 29. How to round away from zero a float array ? (★☆☆) \n",
        "(**hint**: np.uniform, np.copysign, np.ceil, np.abs)"
      ]
    },
    {
      "cell_type": "code",
      "execution_count": 29,
      "metadata": {
        "id": "oRsRdUl_0nJR",
        "colab": {
          "base_uri": "https://localhost:8080/"
        },
        "outputId": "084e0bd2-aa03-455f-8487-666e21bae563"
      },
      "outputs": [
        {
          "output_type": "execute_result",
          "data": {
            "text/plain": [
              "array([ 9., -8.,  3.,  5., -4.,  1.,  2., -8.,  3.,  9.])"
            ]
          },
          "metadata": {},
          "execution_count": 29
        }
      ],
      "source": [
        "x = np.random.uniform(-10, +10, 10)\n",
        "np.copysign(np.ceil(np.abs(x)), x)\n"
      ]
    },
    {
      "cell_type": "markdown",
      "metadata": {
        "id": "Ec2WqIe90nJR"
      },
      "source": [
        "#### 30. How to find common values between two arrays? (★☆☆) \n",
        "(**hint**: np.intersect1d)"
      ]
    },
    {
      "cell_type": "code",
      "execution_count": 30,
      "metadata": {
        "id": "PpNiAfKr0nJS",
        "colab": {
          "base_uri": "https://localhost:8080/"
        },
        "outputId": "e2edcd01-06a7-4540-e4e1-697981c4b56f"
      },
      "outputs": [
        {
          "output_type": "execute_result",
          "data": {
            "text/plain": [
              "array([5, 6, 7, 8, 9])"
            ]
          },
          "metadata": {},
          "execution_count": 30
        }
      ],
      "source": [
        "x = np.arange(0, 10)\n",
        "y = np.arange(5, 15)\n",
        "np.intersect1d(x, y)"
      ]
    },
    {
      "cell_type": "markdown",
      "metadata": {
        "id": "Rpi-cM3e0nJS"
      },
      "source": [
        "#### 31. How to ignore all numpy warnings (not recommended)? (★☆☆) \n",
        "(**hint**: np.seterr, np.errstate)"
      ]
    },
    {
      "cell_type": "code",
      "execution_count": 31,
      "metadata": {
        "id": "HKO2MKTQ0nJS",
        "colab": {
          "base_uri": "https://localhost:8080/"
        },
        "outputId": "d8d793e3-362e-46dc-e2d4-a19e64a7ad8d"
      },
      "outputs": [
        {
          "output_type": "execute_result",
          "data": {
            "text/plain": [
              "<numpy.errstate at 0x7fcb77cf33d0>"
            ]
          },
          "metadata": {},
          "execution_count": 31
        }
      ],
      "source": [
        "np.seterr(all = 'ignore')\n",
        "np.errstate()"
      ]
    },
    {
      "cell_type": "markdown",
      "metadata": {
        "id": "eGBcCR_h0nJT"
      },
      "source": [
        "#### 32. Is the following expressions true? (★☆☆) \n",
        "(**hint**: imaginary number)"
      ]
    },
    {
      "cell_type": "markdown",
      "metadata": {
        "id": "_WlwkLDZ0nJT"
      },
      "source": [
        "```python\n",
        "np.sqrt(-1) == np.emath.sqrt(-1)\n",
        "```"
      ]
    },
    {
      "cell_type": "code",
      "source": [
        "np.sqrt(-1) == np.emath.sqrt(-1) #False"
      ],
      "metadata": {
        "id": "pxl-bnDftfZ2",
        "colab": {
          "base_uri": "https://localhost:8080/"
        },
        "outputId": "40952144-7150-44f7-dcff-432401e1d848"
      },
      "execution_count": 32,
      "outputs": [
        {
          "output_type": "execute_result",
          "data": {
            "text/plain": [
              "False"
            ]
          },
          "metadata": {},
          "execution_count": 32
        }
      ]
    },
    {
      "cell_type": "markdown",
      "metadata": {
        "id": "leosegIA0nJU"
      },
      "source": [
        "#### 33. How to get the dates of yesterday, today and tomorrow? (★☆☆) \n",
        "(**hint**: np.datetime64, np.timedelta64)"
      ]
    },
    {
      "cell_type": "code",
      "execution_count": 33,
      "metadata": {
        "collapsed": true,
        "id": "lk3g3ajb0nJU",
        "colab": {
          "base_uri": "https://localhost:8080/"
        },
        "outputId": "87a2c4b7-e8b3-4ce1-a64b-cf9c7a971667"
      },
      "outputs": [
        {
          "output_type": "stream",
          "name": "stdout",
          "text": [
            "Yesterdays date: 2022-11-04\n",
            "Todays date: 2022-11-05\n",
            "Tomorrows date: 2022-11-06\n"
          ]
        }
      ],
      "source": [
        "print('Yesterdays date:',np.datetime64('today', 'D')-np.timedelta64(1, 'D'))\n",
        "print('Todays date:',np.datetime64('today', 'D'))\n",
        "print('Tomorrows date:',np.datetime64('today', 'D')+np.timedelta64(1, 'D'))\n"
      ]
    },
    {
      "cell_type": "markdown",
      "metadata": {
        "id": "130H3Lqm0nJV"
      },
      "source": [
        "#### 34. How to get all the dates corresponding to the month of July 2016? (★★☆) \n",
        "(**hint**: np.arange(dtype=datetime64\\['D'\\]))"
      ]
    },
    {
      "cell_type": "code",
      "execution_count": 34,
      "metadata": {
        "id": "dmHcyirO0nJV",
        "colab": {
          "base_uri": "https://localhost:8080/"
        },
        "outputId": "426a85c3-e7a2-4286-c000-2952c0193cae"
      },
      "outputs": [
        {
          "output_type": "stream",
          "name": "stdout",
          "text": [
            "['2016-07-01' '2016-07-02' '2016-07-03' '2016-07-04' '2016-07-05'\n",
            " '2016-07-06' '2016-07-07' '2016-07-08' '2016-07-09' '2016-07-10'\n",
            " '2016-07-11' '2016-07-12' '2016-07-13' '2016-07-14' '2016-07-15'\n",
            " '2016-07-16' '2016-07-17' '2016-07-18' '2016-07-19' '2016-07-20'\n",
            " '2016-07-21' '2016-07-22' '2016-07-23' '2016-07-24' '2016-07-25'\n",
            " '2016-07-26' '2016-07-27' '2016-07-28' '2016-07-29' '2016-07-30'\n",
            " '2016-07-31']\n"
          ]
        }
      ],
      "source": [
        "print(np.arange('2016-07', '2016-08',dtype='datetime64[D]'))"
      ]
    },
    {
      "cell_type": "markdown",
      "metadata": {
        "id": "WQyau0H60nJV"
      },
      "source": [
        "#### 35. How to compute ((A+B)\\*(-A/2)) in place (without copy)? (★★☆) \n",
        "(**hint**: np.add(out=), np.negative(out=), np.multiply(out=), np.divide(out=))"
      ]
    },
    {
      "cell_type": "code",
      "execution_count": 35,
      "metadata": {
        "id": "3CxdYrkl0nJW",
        "colab": {
          "base_uri": "https://localhost:8080/"
        },
        "outputId": "6c0b9483-219e-4682-f6a4-5f3ac232dd9a"
      },
      "outputs": [
        {
          "output_type": "execute_result",
          "data": {
            "text/plain": [
              "array([-1.5, -1.5, -1.5])"
            ]
          },
          "metadata": {},
          "execution_count": 35
        }
      ],
      "source": [
        "A = np.ones(3) * 1\n",
        "B = np.ones(3) * 2\n",
        "C = np.ones(3) * 3\n",
        "np.add(A, B, out=B)\n",
        "np.divide(A, 2, out=A)\n",
        "np.negative(A, out=A)\n",
        "np.multiply(A, B, out=A)\n"
      ]
    },
    {
      "cell_type": "markdown",
      "metadata": {
        "id": "jUxHm5fI0nJW"
      },
      "source": [
        "#### 36. Extract the integer part of a random array using 5 different methods (★★☆) \n",
        "(**hint**: %, np.floor, np.ceil, astype, np.trunc)"
      ]
    },
    {
      "cell_type": "code",
      "execution_count": 36,
      "metadata": {
        "id": "NFQcSLa60nJW",
        "colab": {
          "base_uri": "https://localhost:8080/"
        },
        "outputId": "9a49e684-3b0b-46c5-82b7-c0a8aab4f01d"
      },
      "outputs": [
        {
          "output_type": "execute_result",
          "data": {
            "text/plain": [
              "array([ 6., -4.,  8., -5.,  6., -5.,  2., -4.,  9., -8.])"
            ]
          },
          "metadata": {},
          "execution_count": 36
        }
      ],
      "source": [
        "x = np.random.uniform(-10, +10, 10)\n",
        "x.astype(np.int32)\n",
        "np.trunc(x)"
      ]
    },
    {
      "cell_type": "markdown",
      "metadata": {
        "id": "uDV_qiPR0nJX"
      },
      "source": [
        "#### 37. Create a 5x5 matrix with row values ranging from 0 to 4 (★★☆) \n",
        "(**hint**: np.arange)"
      ]
    },
    {
      "cell_type": "code",
      "execution_count": 37,
      "metadata": {
        "colab": {
          "base_uri": "https://localhost:8080/"
        },
        "id": "Lv4j_UL80nJX",
        "outputId": "8f5b98e7-62b6-4ae7-c7d0-b7e208194503"
      },
      "outputs": [
        {
          "output_type": "execute_result",
          "data": {
            "text/plain": [
              "array([[0., 1., 2., 3., 4.],\n",
              "       [0., 1., 2., 3., 4.],\n",
              "       [0., 1., 2., 3., 4.],\n",
              "       [0., 1., 2., 3., 4.],\n",
              "       [0., 1., 2., 3., 4.]])"
            ]
          },
          "metadata": {},
          "execution_count": 37
        }
      ],
      "source": [
        "z = np.zeros((5,5))\n",
        "z += np.arange(5)\n",
        "z"
      ]
    },
    {
      "cell_type": "markdown",
      "metadata": {
        "id": "jKzN5yb50nJY"
      },
      "source": [
        "#### 38. Consider a generator function that generates 10 integers and use it to build an array (★☆☆) \n",
        "(**hint**: np.fromiter)"
      ]
    },
    {
      "cell_type": "code",
      "execution_count": 38,
      "metadata": {
        "colab": {
          "base_uri": "https://localhost:8080/"
        },
        "id": "B9C5tbxg0nJY",
        "outputId": "fa843cd0-591a-4417-d183-9c1069b9c0f1"
      },
      "outputs": [
        {
          "output_type": "execute_result",
          "data": {
            "text/plain": [
              "array([0., 1., 2., 3., 4., 5., 6., 7., 8., 9.])"
            ]
          },
          "metadata": {},
          "execution_count": 38
        }
      ],
      "source": [
        "def generate(): \n",
        "    for x in range(10):\n",
        "     yield x\n",
        "        \n",
        "Z = np.fromiter(generate(), dtype=float, count=-1)\n",
        "Z"
      ]
    },
    {
      "cell_type": "markdown",
      "metadata": {
        "id": "8j1TcZv10nJZ"
      },
      "source": [
        "#### 39. Create a vector of size 10 with values ranging from 0 to 1, both excluded (★★☆) \n",
        "(**hint**: np.linspace)"
      ]
    },
    {
      "cell_type": "code",
      "execution_count": 39,
      "metadata": {
        "id": "xMcCYeDl0nJZ",
        "colab": {
          "base_uri": "https://localhost:8080/"
        },
        "outputId": "cf39f0d7-9a25-455b-f16e-49954e977d6b"
      },
      "outputs": [
        {
          "output_type": "execute_result",
          "data": {
            "text/plain": [
              "array([0.1 , 0.19, 0.28, 0.37, 0.46, 0.55, 0.64, 0.73, 0.82, 0.91])"
            ]
          },
          "metadata": {},
          "execution_count": 39
        }
      ],
      "source": [
        "np.linspace(0.1,1,10,endpoint = False)"
      ]
    },
    {
      "cell_type": "markdown",
      "metadata": {
        "id": "130mt85n0nJa"
      },
      "source": [
        "#### 40. Create a random vector of size 10 and sort it (★★☆) \n",
        "(**hint**: sort)"
      ]
    },
    {
      "cell_type": "code",
      "execution_count": 40,
      "metadata": {
        "colab": {
          "base_uri": "https://localhost:8080/"
        },
        "id": "2HcIbeUd0nJa",
        "outputId": "d3d46a07-8d0e-421a-a9b0-453c722b76c8"
      },
      "outputs": [
        {
          "output_type": "stream",
          "name": "stdout",
          "text": [
            "Before sorting: [0.69281144 0.37544552 0.41037433 0.76004019 0.15471894 0.96376769\n",
            " 0.19827067 0.54693313 0.7129656  0.9032559 ]\n",
            "After sorting: [0.15471894 0.19827067 0.37544552 0.41037433 0.54693313 0.69281144\n",
            " 0.7129656  0.76004019 0.9032559  0.96376769]\n"
          ]
        }
      ],
      "source": [
        "z = np.random.random(10)\n",
        "print('Before sorting:',z)\n",
        "z.sort()\n",
        "print('After sorting:',z)"
      ]
    },
    {
      "cell_type": "markdown",
      "metadata": {
        "id": "B94Q4XaB0nJa"
      },
      "source": [
        "#### 41. How to sum a small array faster than np.sum? (★★☆) \n",
        "(**hint**: np.add.reduce)"
      ]
    },
    {
      "cell_type": "code",
      "execution_count": 41,
      "metadata": {
        "id": "QUBFpvUf0nJa",
        "colab": {
          "base_uri": "https://localhost:8080/"
        },
        "outputId": "29ac6be6-1aa0-472c-9ec3-1aef10780d73"
      },
      "outputs": [
        {
          "output_type": "execute_result",
          "data": {
            "text/plain": [
              "array([ 6, 13])"
            ]
          },
          "metadata": {},
          "execution_count": 41
        }
      ],
      "source": [
        "arr = [np.array([2, 2]), np.array([0, 3]), np.array([4, 8])]\n",
        "res = np.add.reduce(arr)\n",
        "res"
      ]
    },
    {
      "cell_type": "markdown",
      "metadata": {
        "id": "-_1zWmJJ0nJb"
      },
      "source": [
        "#### 42. Consider two random array A and B, check if they are equal (★★☆) \n",
        "(**hint**: np.allclose, np.array\\_equal)"
      ]
    },
    {
      "cell_type": "code",
      "execution_count": 42,
      "metadata": {
        "id": "N0j9B4ri0nJb",
        "colab": {
          "base_uri": "https://localhost:8080/"
        },
        "outputId": "6f7c6921-d74a-44f4-b6aa-53755655d172"
      },
      "outputs": [
        {
          "output_type": "stream",
          "name": "stdout",
          "text": [
            "True\n"
          ]
        }
      ],
      "source": [
        "A = np.arange(10)\n",
        "B = np.arange(10)\n",
        "print(np.array_equal(A, B))\n",
        "#or print(np.allclose(A,B))"
      ]
    },
    {
      "cell_type": "markdown",
      "metadata": {
        "id": "kH4P6NO40nJb"
      },
      "source": [
        "#### 43. Make an array immutable (read-only) (★★☆) \n",
        "(**hint**: flags.writeable)"
      ]
    },
    {
      "cell_type": "code",
      "execution_count": 43,
      "metadata": {
        "id": "15CTUruG0nJb"
      },
      "outputs": [],
      "source": [
        "x = np.zeros(10)\n",
        "x.flags.writeable = False"
      ]
    },
    {
      "cell_type": "code",
      "source": [
        "x[1] = 1  # ValueError: assignment destination is read-only"
      ],
      "metadata": {
        "id": "LMR_IR4L1ykV"
      },
      "execution_count": null,
      "outputs": []
    },
    {
      "cell_type": "markdown",
      "metadata": {
        "id": "AR2nKcHu0nJc"
      },
      "source": [
        "#### 44. Consider a random 10x2 matrix representing cartesian coordinates, convert them to polar coordinates (★★☆) \n",
        "(**hint**: np.sqrt, np.arctan2)"
      ]
    },
    {
      "cell_type": "code",
      "execution_count": 45,
      "metadata": {
        "id": "YPVU7Mwd0nJc",
        "colab": {
          "base_uri": "https://localhost:8080/"
        },
        "outputId": "e6ed6d21-02e1-4d9b-9857-d872bba51edb"
      },
      "outputs": [
        {
          "output_type": "stream",
          "name": "stdout",
          "text": [
            "[1.25276886 0.97528459 0.29121059 0.64405161 0.22527574 0.5916977\n",
            " 0.81153142 0.47129031 0.39975244 1.14657275]\n",
            "[0.88700275 1.1734678  0.43711532 0.28743803 0.43956912 0.16031058\n",
            " 0.82258947 1.44411392 1.01369892 0.53770711]\n"
          ]
        }
      ],
      "source": [
        "Z = np.random.random((10, 2))\n",
        "X, Y = Z[:, 0], Z[:, 1]\n",
        "R = np.sqrt(X ** 2 + Y ** 2)\n",
        "T = np.arctan2(Y, X)\n",
        "print(R)\n",
        "print(T)"
      ]
    },
    {
      "cell_type": "markdown",
      "metadata": {
        "id": "OB4yZtMu0nJc"
      },
      "source": [
        "#### 45. Create random vector of size 10 and replace the maximum value by 0 (★★☆) \n",
        "(**hint**: argmax)"
      ]
    },
    {
      "cell_type": "code",
      "execution_count": 46,
      "metadata": {
        "id": "T2y0WwNz0nJc"
      },
      "outputs": [],
      "source": [
        "x = np.random.random(10)\n",
        "x[x == np.max(x)] = 0\n",
        "x[x.argmax()] = 0"
      ]
    },
    {
      "cell_type": "markdown",
      "metadata": {
        "id": "OGEmHXn40nJd"
      },
      "source": [
        "#### 46. Create a structured array with `x` and `y` coordinates covering the \\[0,1\\]x\\[0,1\\] area (★★☆) \n",
        "(**hint**: np.meshgrid)"
      ]
    },
    {
      "cell_type": "code",
      "execution_count": 47,
      "metadata": {
        "id": "VQnQr0_L0nJd"
      },
      "outputs": [],
      "source": [
        "z = np.zeros((5, 5), [('x', float), ('y', float)])\n",
        "z['x'], z['y'] = np.meshgrid(np.linspace(0, 1, 5), np.linspace(0, 1, 5))"
      ]
    },
    {
      "cell_type": "code",
      "source": [
        "z"
      ],
      "metadata": {
        "colab": {
          "base_uri": "https://localhost:8080/"
        },
        "id": "gJ7QUB4V2kgW",
        "outputId": "359fde24-f811-4513-c3ab-4c7d904eda14"
      },
      "execution_count": 48,
      "outputs": [
        {
          "output_type": "execute_result",
          "data": {
            "text/plain": [
              "array([[(0.  , 0.  ), (0.25, 0.  ), (0.5 , 0.  ), (0.75, 0.  ),\n",
              "        (1.  , 0.  )],\n",
              "       [(0.  , 0.25), (0.25, 0.25), (0.5 , 0.25), (0.75, 0.25),\n",
              "        (1.  , 0.25)],\n",
              "       [(0.  , 0.5 ), (0.25, 0.5 ), (0.5 , 0.5 ), (0.75, 0.5 ),\n",
              "        (1.  , 0.5 )],\n",
              "       [(0.  , 0.75), (0.25, 0.75), (0.5 , 0.75), (0.75, 0.75),\n",
              "        (1.  , 0.75)],\n",
              "       [(0.  , 1.  ), (0.25, 1.  ), (0.5 , 1.  ), (0.75, 1.  ),\n",
              "        (1.  , 1.  )]], dtype=[('x', '<f8'), ('y', '<f8')])"
            ]
          },
          "metadata": {},
          "execution_count": 48
        }
      ]
    },
    {
      "cell_type": "markdown",
      "metadata": {
        "id": "T2bAdOcw0nJd"
      },
      "source": [
        "####  47. Given two arrays, X and Y, construct the Cauchy matrix C (Cij =1/(xi - yj)) \n",
        "(**hint**: np.subtract.outer)"
      ]
    },
    {
      "cell_type": "code",
      "execution_count": 49,
      "metadata": {
        "id": "CvzMh9RI0nJe",
        "colab": {
          "base_uri": "https://localhost:8080/"
        },
        "outputId": "5cc8a405-6cc9-4ee9-d801-c682946db72e"
      },
      "outputs": [
        {
          "output_type": "execute_result",
          "data": {
            "text/plain": [
              "array([[  -223614.59090914,   -247945.85288989,     26394.03462709,\n",
              "          -151002.1714773 ,    138755.04375706],\n",
              "       [  -407470.37891561,   3306665.65764677,     70668.33406298,\n",
              "         -1064447.67449336, -22367585.65265066],\n",
              "       [ -7986724.46256522,  -2610445.24701977,   -256551.21750645,\n",
              "          1482318.83773353,   -261424.23351121],\n",
              "       [ -4231895.19196107,   1074304.20861119,   -235771.56884404,\n",
              "           -33020.12959118,   1153457.45278998],\n",
              "       [  -224406.52207595, -23175088.4368214 ,    138551.74096484,\n",
              "         -9518692.56068057,  -1734987.04679219]])"
            ]
          },
          "metadata": {},
          "execution_count": 49
        }
      ],
      "source": [
        "x = np.random.random((5, 5))\n",
        "y = np.random.random((5, 5))\n",
        "c = 1 / (x - y)\n",
        "c = 1 / np.subtract.outer(x, y)\n",
        "np.linalg.det(c)"
      ]
    },
    {
      "cell_type": "markdown",
      "metadata": {
        "id": "bb_EuXyn0nJe"
      },
      "source": [
        "#### 48. Print the minimum and maximum representable value for each numpy scalar type (★★☆) \n",
        "(**hint**: np.iinfo, np.finfo, eps)"
      ]
    },
    {
      "cell_type": "code",
      "execution_count": 50,
      "metadata": {
        "id": "Yno-P7kA0nJe",
        "colab": {
          "base_uri": "https://localhost:8080/"
        },
        "outputId": "1a308fa6-115e-4e40-a84f-159f90f5aed1"
      },
      "outputs": [
        {
          "output_type": "stream",
          "name": "stdout",
          "text": [
            "-128\n",
            "127\n",
            "-2147483648\n",
            "2147483647\n",
            "-9223372036854775808\n",
            "9223372036854775807\n",
            "-3.4028235e+38\n",
            "3.4028235e+38\n",
            "1.1920929e-07\n",
            "-1.7976931348623157e+308\n",
            "1.7976931348623157e+308\n",
            "2.220446049250313e-16\n"
          ]
        }
      ],
      "source": [
        "for dtype in [np.int8, np.int32, np.int64]:\n",
        "   print(np.iinfo(dtype).min)\n",
        "   print(np.iinfo(dtype).max)\n",
        "for dtype in [np.float32, np.float64]:\n",
        "   print(np.finfo(dtype).min)\n",
        "   print(np.finfo(dtype).max)\n",
        "   print(np.finfo(dtype).eps)"
      ]
    },
    {
      "cell_type": "markdown",
      "metadata": {
        "id": "uAKrGhBf0nJe"
      },
      "source": [
        "#### 49. How to print all the values of an array? (★★☆) \n",
        "(**hint**: np.set\\_printoptions)"
      ]
    },
    {
      "cell_type": "code",
      "execution_count": 51,
      "metadata": {
        "id": "3LYHBqbI0nJf",
        "colab": {
          "base_uri": "https://localhost:8080/"
        },
        "outputId": "cb86b011-147c-4d08-bf28-df6fcf2514ae"
      },
      "outputs": [
        {
          "output_type": "stream",
          "name": "stdout",
          "text": [
            "[[0. 0. 0. 0. 0. 0. 0. 0. 0. 0. 0. 0. 0. 0. 0. 0. 0. 0. 0. 0. 0. 0. 0. 0.\n",
            "  0.]\n",
            " [0. 0. 0. 0. 0. 0. 0. 0. 0. 0. 0. 0. 0. 0. 0. 0. 0. 0. 0. 0. 0. 0. 0. 0.\n",
            "  0.]\n",
            " [0. 0. 0. 0. 0. 0. 0. 0. 0. 0. 0. 0. 0. 0. 0. 0. 0. 0. 0. 0. 0. 0. 0. 0.\n",
            "  0.]\n",
            " [0. 0. 0. 0. 0. 0. 0. 0. 0. 0. 0. 0. 0. 0. 0. 0. 0. 0. 0. 0. 0. 0. 0. 0.\n",
            "  0.]\n",
            " [0. 0. 0. 0. 0. 0. 0. 0. 0. 0. 0. 0. 0. 0. 0. 0. 0. 0. 0. 0. 0. 0. 0. 0.\n",
            "  0.]\n",
            " [0. 0. 0. 0. 0. 0. 0. 0. 0. 0. 0. 0. 0. 0. 0. 0. 0. 0. 0. 0. 0. 0. 0. 0.\n",
            "  0.]\n",
            " [0. 0. 0. 0. 0. 0. 0. 0. 0. 0. 0. 0. 0. 0. 0. 0. 0. 0. 0. 0. 0. 0. 0. 0.\n",
            "  0.]\n",
            " [0. 0. 0. 0. 0. 0. 0. 0. 0. 0. 0. 0. 0. 0. 0. 0. 0. 0. 0. 0. 0. 0. 0. 0.\n",
            "  0.]\n",
            " [0. 0. 0. 0. 0. 0. 0. 0. 0. 0. 0. 0. 0. 0. 0. 0. 0. 0. 0. 0. 0. 0. 0. 0.\n",
            "  0.]\n",
            " [0. 0. 0. 0. 0. 0. 0. 0. 0. 0. 0. 0. 0. 0. 0. 0. 0. 0. 0. 0. 0. 0. 0. 0.\n",
            "  0.]\n",
            " [0. 0. 0. 0. 0. 0. 0. 0. 0. 0. 0. 0. 0. 0. 0. 0. 0. 0. 0. 0. 0. 0. 0. 0.\n",
            "  0.]\n",
            " [0. 0. 0. 0. 0. 0. 0. 0. 0. 0. 0. 0. 0. 0. 0. 0. 0. 0. 0. 0. 0. 0. 0. 0.\n",
            "  0.]\n",
            " [0. 0. 0. 0. 0. 0. 0. 0. 0. 0. 0. 0. 0. 0. 0. 0. 0. 0. 0. 0. 0. 0. 0. 0.\n",
            "  0.]\n",
            " [0. 0. 0. 0. 0. 0. 0. 0. 0. 0. 0. 0. 0. 0. 0. 0. 0. 0. 0. 0. 0. 0. 0. 0.\n",
            "  0.]\n",
            " [0. 0. 0. 0. 0. 0. 0. 0. 0. 0. 0. 0. 0. 0. 0. 0. 0. 0. 0. 0. 0. 0. 0. 0.\n",
            "  0.]\n",
            " [0. 0. 0. 0. 0. 0. 0. 0. 0. 0. 0. 0. 0. 0. 0. 0. 0. 0. 0. 0. 0. 0. 0. 0.\n",
            "  0.]\n",
            " [0. 0. 0. 0. 0. 0. 0. 0. 0. 0. 0. 0. 0. 0. 0. 0. 0. 0. 0. 0. 0. 0. 0. 0.\n",
            "  0.]\n",
            " [0. 0. 0. 0. 0. 0. 0. 0. 0. 0. 0. 0. 0. 0. 0. 0. 0. 0. 0. 0. 0. 0. 0. 0.\n",
            "  0.]\n",
            " [0. 0. 0. 0. 0. 0. 0. 0. 0. 0. 0. 0. 0. 0. 0. 0. 0. 0. 0. 0. 0. 0. 0. 0.\n",
            "  0.]\n",
            " [0. 0. 0. 0. 0. 0. 0. 0. 0. 0. 0. 0. 0. 0. 0. 0. 0. 0. 0. 0. 0. 0. 0. 0.\n",
            "  0.]\n",
            " [0. 0. 0. 0. 0. 0. 0. 0. 0. 0. 0. 0. 0. 0. 0. 0. 0. 0. 0. 0. 0. 0. 0. 0.\n",
            "  0.]\n",
            " [0. 0. 0. 0. 0. 0. 0. 0. 0. 0. 0. 0. 0. 0. 0. 0. 0. 0. 0. 0. 0. 0. 0. 0.\n",
            "  0.]\n",
            " [0. 0. 0. 0. 0. 0. 0. 0. 0. 0. 0. 0. 0. 0. 0. 0. 0. 0. 0. 0. 0. 0. 0. 0.\n",
            "  0.]\n",
            " [0. 0. 0. 0. 0. 0. 0. 0. 0. 0. 0. 0. 0. 0. 0. 0. 0. 0. 0. 0. 0. 0. 0. 0.\n",
            "  0.]\n",
            " [0. 0. 0. 0. 0. 0. 0. 0. 0. 0. 0. 0. 0. 0. 0. 0. 0. 0. 0. 0. 0. 0. 0. 0.\n",
            "  0.]]\n"
          ]
        }
      ],
      "source": [
        "import sys\n",
        "np.set_printoptions(threshold = sys.maxsize)\n",
        "Z = np.zeros((25,25))\n",
        "print(Z)"
      ]
    },
    {
      "cell_type": "markdown",
      "metadata": {
        "id": "-1wAE9rw0nJf"
      },
      "source": [
        "#### 50. How to find the closest value (to a given scalar) in a vector? (★★☆) \n",
        "(**hint**: argmin)"
      ]
    },
    {
      "cell_type": "code",
      "execution_count": 52,
      "metadata": {
        "id": "FeOcvC_u0nJf",
        "colab": {
          "base_uri": "https://localhost:8080/"
        },
        "outputId": "4f91f7bc-3f5f-4f22-e820-ff0bee4a5462"
      },
      "outputs": [
        {
          "output_type": "stream",
          "name": "stdout",
          "text": [
            "26\n"
          ]
        }
      ],
      "source": [
        "Z = np.arange(100)\n",
        "v = np.random.uniform(0,100)\n",
        "index = (np.abs(Z-v)).argmin()\n",
        "print(Z[index])"
      ]
    },
    {
      "cell_type": "markdown",
      "metadata": {
        "id": "Zm1L3uep0nJf"
      },
      "source": [
        "#### 51. Create a structured array representing a position (x,y) and a color (r,g,b) (★★☆) \n",
        "(**hint**: dtype)"
      ]
    },
    {
      "cell_type": "code",
      "execution_count": 53,
      "metadata": {
        "id": "6d0bVGLS0nJg",
        "colab": {
          "base_uri": "https://localhost:8080/"
        },
        "outputId": "d2177c28-c19a-4999-f801-f3fecd47b7c4"
      },
      "outputs": [
        {
          "output_type": "stream",
          "name": "stdout",
          "text": [
            "[((0., 0.), (0., 0., 0.)) ((0., 0.), (0., 0., 0.))\n",
            " ((0., 0.), (0., 0., 0.)) ((0., 0.), (0., 0., 0.))\n",
            " ((0., 0.), (0., 0., 0.)) ((0., 0.), (0., 0., 0.))\n",
            " ((0., 0.), (0., 0., 0.)) ((0., 0.), (0., 0., 0.))\n",
            " ((0., 0.), (0., 0., 0.)) ((0., 0.), (0., 0., 0.))]\n"
          ]
        },
        {
          "output_type": "stream",
          "name": "stderr",
          "text": [
            "/usr/local/lib/python3.7/dist-packages/ipykernel_launcher.py:5: FutureWarning: Passing (type, 1) or '1type' as a synonym of type is deprecated; in a future version of numpy, it will be understood as (type, (1,)) / '(1,)type'.\n",
            "  \"\"\"\n"
          ]
        }
      ],
      "source": [
        "Z = np.zeros(10, [ ('position', [ ('x', float, 1),\n",
        "                                   ('y', float, 1)]),\n",
        "                    ('color',    [ ('r', float, 1),\n",
        "                                   ('g', float, 1),\n",
        "                                   ('b', float, 1)])])\n",
        "print(Z)"
      ]
    },
    {
      "cell_type": "markdown",
      "metadata": {
        "id": "aR0cmRgV0nJg"
      },
      "source": [
        "#### 52. Consider a random vector with shape (100,2) representing coordinates, find point by point distances (★★☆) \n",
        "(**hint**: np.atleast\\_2d, T, np.sqrt)"
      ]
    },
    {
      "cell_type": "code",
      "execution_count": 54,
      "metadata": {
        "id": "1Uzy5TBT0nJg",
        "colab": {
          "base_uri": "https://localhost:8080/"
        },
        "outputId": "8e424113-ff01-45eb-8530-d242cd125eab"
      },
      "outputs": [
        {
          "output_type": "stream",
          "name": "stdout",
          "text": [
            "[[0.         0.21581749 0.67487321 0.64523738 0.67636035 0.47108056\n",
            "  0.30089065 0.5996187  0.55070119 0.84912759 0.31897681 0.8605983\n",
            "  0.20317609 0.77463637 0.37020086 0.75216892 0.52216124 0.73336884\n",
            "  0.38605698 0.54965958 0.73632669 0.63200788 0.57533266 0.58871865\n",
            "  0.89774222 0.44082512 0.37616632 0.68688845 0.82660137 0.8653114\n",
            "  0.6314356  0.71304185 0.53171537 0.64666475 0.25464966 0.14007768\n",
            "  0.81116221 0.57340859 0.75580115 0.87519216 0.92374909 0.40414341\n",
            "  0.76991318 0.5351041  0.60925657 1.09384812 0.75314178 0.11654526\n",
            "  0.29258577 0.89475928 0.06450504 0.88452413 1.05932152 0.2714803\n",
            "  0.91939569 0.29406675 0.77633857 0.51149798 0.37659365 0.69475218\n",
            "  0.65031074 0.61491229 0.42996074 0.84172347 0.48166829 0.629661\n",
            "  0.89433063 0.96094829 0.83946495 0.13204533 0.88063273 0.61510031\n",
            "  0.64794593 0.78490677 0.77952451 0.90607144 0.33657575 0.52379458\n",
            "  0.62384716 0.55501119 0.95535577 0.48340045 0.38609021 0.28009532\n",
            "  0.98334385 0.77241991 0.57210871 0.76332701 0.80343804 0.38887801\n",
            "  0.83618442 0.80910685 0.16290709 0.42832733 0.43366335 0.76227494\n",
            "  0.62910759 0.58772282 0.80142759 0.45197845]\n",
            " [0.21581749 0.         0.46407727 0.45942408 0.46130058 0.26190637\n",
            "  0.39792784 0.627144   0.33933041 0.8073617  0.18292788 0.82204337\n",
            "  0.33937322 0.60322446 0.45977524 0.53664544 0.31167693 0.5220954\n",
            "  0.19744533 0.44874706 0.52461181 0.49995197 0.38187659 0.58410699\n",
            "  0.88684966 0.22503466 0.22830645 0.59278443 0.68659064 0.71083307\n",
            "  0.42468915 0.50478466 0.38493387 0.51907277 0.38437875 0.24175962\n",
            "  0.6061743  0.57493146 0.62776403 0.67433005 0.82331835 0.33390512\n",
            "  0.554503   0.47853769 0.61538701 0.92056586 0.53738229 0.27331703\n",
            "  0.07754291 0.843242   0.16447052 0.80645535 0.87202788 0.32509405\n",
            "  0.85007702 0.34917216 0.5684804  0.40609039 0.18772815 0.56256829\n",
            "  0.67092314 0.58726703 0.21481257 0.70315767 0.48056995 0.55500366\n",
            "  0.80831828 0.81081422 0.65699781 0.20938011 0.73952627 0.6079379\n",
            "  0.45499764 0.57474903 0.6496518  0.70058686 0.14561562 0.34030235\n",
            "  0.55149828 0.59719448 0.81226107 0.48705839 0.47424766 0.32521035\n",
            "  0.78709084 0.61134072 0.36826924 0.66402398 0.68913754 0.21670571\n",
            "  0.84143664 0.59536565 0.27802874 0.22571454 0.24497728 0.5607651\n",
            "  0.49207534 0.53269145 0.58573141 0.49718697]\n",
            " [0.67487321 0.46407727 0.         0.4035932  0.16701453 0.20381584\n",
            "  0.82615143 0.95875419 0.23954958 1.00670977 0.49590524 1.02469905\n",
            "  0.79189638 0.53342067 0.87486433 0.12308793 0.25694023 0.0586308\n",
            "  0.39253894 0.63838513 0.24838852 0.59745422 0.15398564 0.88333309\n",
            "  1.12712364 0.25117504 0.47739425 0.74127205 0.69289719 0.66511034\n",
            "  0.05780002 0.04873759 0.50903989 0.61917836 0.83049434 0.69608996\n",
            "  0.35858511 0.88405344 0.68567441 0.43313971 0.89972933 0.62925235\n",
            "  0.13166804 0.7325484  0.92245264 0.76001753 0.16134349 0.73521808\n",
            "  0.3947764  1.01882802 0.62837233 0.93582269 0.65991619 0.74084652\n",
            "  0.9896493  0.76021776 0.10859481 0.60781487 0.39524962 0.63307281\n",
            "  0.98713207 0.85359199 0.25370659 0.70887932 0.80828378 0.75331837\n",
            "  0.92034509 0.75397106 0.52094395 0.66364927 0.72788539 0.89877529\n",
            "  0.36767118 0.11074058 0.69563675 0.41893605 0.34345008 0.21387473\n",
            "  0.75509048 0.95017613 0.77714674 0.81863736 0.88642245 0.73547923\n",
            "  0.54547345 0.57613115 0.29259725 0.78027964 0.76345903 0.42826112\n",
            "  1.11260391 0.25694627 0.73066403 0.33658942 0.37893435 0.12929329\n",
            "  0.58054847 0.77154663 0.19792927 0.8699632 ]\n",
            " [0.64523738 0.45942408 0.4035932  0.         0.2463114  0.38124832\n",
            "  0.63300497 0.64126689 0.19247774 0.61678819 0.33262247 0.63503387\n",
            "  0.65197299 0.15539495 0.65387284 0.35142886 0.19888088 0.42511374\n",
            "  0.26329553 0.28765406 0.21083965 0.20873194 0.48445701 0.55210856\n",
            "  0.74587322 0.31470301 0.27742089 0.35201531 0.29475596 0.28378499\n",
            "  0.42490161 0.44702494 0.17158949 0.22783371 0.66853084 0.58175955\n",
            "  0.20547042 0.55962743 0.28216445 0.24558329 0.49656086 0.36016863\n",
            "  0.36607947 0.3979885  0.59151769 0.46292251 0.31105017 0.63855081\n",
            "  0.39220972 0.62251223 0.58118252 0.53394413 0.41462798 0.54967805\n",
            "  0.58808356 0.55793426 0.48561639 0.27592793 0.27308801 0.23238949\n",
            "  0.6553131  0.50548259 0.33678707 0.31153431 0.5110708  0.3829492\n",
            "  0.51723529 0.38292538 0.19757898 0.55783155 0.33633427 0.55997114\n",
            "  0.03756695 0.46706827 0.29221393 0.2911069  0.45838799 0.5074341\n",
            "  0.38703423 0.651165   0.39681242 0.52252225 0.65959887 0.53881073\n",
            "  0.34150261 0.18390191 0.1290778  0.38044181 0.35991936 0.25644096\n",
            "  0.74510516 0.28389401 0.60379584 0.23881479 0.21505093 0.52867045\n",
            "  0.19142181 0.41979787 0.33340148 0.60139912]\n",
            " [0.67636035 0.46130058 0.16701453 0.2463114  0.         0.24994072\n",
            "  0.76591504 0.84908701 0.137084   0.8609373  0.42855019 0.87913136\n",
            "  0.75239076 0.36719305 0.80450691 0.11076035 0.16568493 0.1794386\n",
            "  0.32323261 0.50860736 0.09006437 0.45036873 0.28849611 0.76657038\n",
            "  0.98705658 0.23959926 0.39329114 0.59505149 0.52861893 0.49839414\n",
            "  0.20435503 0.20504018 0.37864226 0.47094658 0.78319626 0.66321903\n",
            "  0.20245917 0.77030484 0.52706022 0.28014868 0.73813052 0.53093859\n",
            "  0.12809321 0.61173739 0.80632707 0.60099603 0.08454941 0.71139143\n",
            "  0.38394452 0.86844441 0.61999682 0.77998882 0.50841594 0.67849173\n",
            "  0.83419302 0.69407676 0.23938144 0.48444816 0.32961621 0.47867617\n",
            "  0.87133213 0.72884079 0.25541675 0.54427053 0.7047663  0.61700525\n",
            "  0.76247961 0.58698452 0.35478675 0.63267664 0.56195438 0.77880881\n",
            "  0.20898684 0.22100652 0.53519784 0.27905543 0.38293407 0.33329388\n",
            "  0.61989706 0.84848976 0.61019997 0.71580819 0.81393391 0.67068211\n",
            "  0.39790536 0.4111806  0.16060574 0.62673033 0.60448185 0.34804758\n",
            "  0.98021673 0.1377559  0.6941725  0.26656134 0.29147987 0.28500939\n",
            "  0.43304991 0.64403468 0.12857641 0.77975813]\n",
            " [0.47108056 0.26190637 0.20381584 0.38124832 0.24994072 0.\n",
            "  0.63969765 0.81071362 0.19125046 0.91294589 0.32789848 0.93003701\n",
            "  0.59591363 0.53526625 0.69384913 0.29316295 0.18259092 0.26236953\n",
            "  0.23992066 0.53122035 0.33476498 0.52575511 0.14126832 0.74587958\n",
            "  1.01919595 0.08425855 0.32732518 0.65822023 0.66999064 0.66503213\n",
            "  0.16293597 0.24297408 0.41507105 0.54830566 0.63730686 0.49886317\n",
            "  0.44076659 0.74281528 0.63869495 0.51811094 0.85503775 0.4812549\n",
            "  0.30920371 0.60636726 0.78305849 0.81998329 0.30696173 0.53474056\n",
            "  0.19740743 0.93532755 0.42555086 0.86942292 0.74170604 0.55745908\n",
            "  0.92058041 0.5788147  0.30663587 0.49310708 0.23840609 0.57657613\n",
            "  0.84569569 0.72794859 0.07091261 0.68719145 0.6576966  0.6503036\n",
            "  0.8608742  0.76388264 0.55580009 0.46622153 0.71530967 0.76503022\n",
            "  0.35625424 0.31390704 0.65469461 0.525788   0.14259613 0.13454934\n",
            "  0.65003191 0.7937378  0.77791262 0.66696223 0.70664027 0.5538146\n",
            "  0.63747809 0.56456567 0.25271836 0.71309214 0.71373266 0.28084267\n",
            "  0.99171585 0.38600328 0.53430339 0.19849746 0.24936282 0.30103528\n",
            "  0.51122263 0.65325869 0.35518133 0.70446389]\n",
            " [0.30089065 0.39792784 0.82615143 0.63300497 0.76591504 0.63969765\n",
            "  0.         0.31217034 0.62892327 0.59969378 0.33770789 0.60760608\n",
            "  0.10472576 0.71386714 0.06939748 0.86597221 0.60082398 0.87999067\n",
            "  0.44391912 0.4128712  0.79537307 0.52322781 0.77270858 0.32688587\n",
            "  0.62156342 0.57549219 0.37541462 0.51329025 0.70312362 0.76274\n",
            "  0.79854395 0.87220227 0.4697592  0.52817396 0.06643944 0.17160477\n",
            "  0.83384482 0.3078282  0.62144879 0.87832615 0.73412997 0.27964068\n",
            "  0.88474276 0.34182526 0.33606986 1.01135078 0.85034644 0.18592003\n",
            "  0.44423633 0.65194822 0.28278873 0.67044198 1.01128808 0.08743159\n",
            "  0.69331893 0.07508512 0.9346619  0.39219383 0.43859986 0.57538364\n",
            "  0.36426293 0.37239444 0.57604932 0.71436279 0.23461803 0.43972729\n",
            "  0.68888119 0.84273521 0.79583638 0.19811871 0.75374136 0.3526223\n",
            "  0.65242363 0.93435811 0.64511933 0.92352037 0.5431964  0.73648124\n",
            "  0.43197979 0.26195685 0.82563042 0.23065228 0.08530275 0.09601259\n",
            "  0.96452281 0.69178383 0.61878924 0.58674782 0.64318237 0.41817638\n",
            "  0.55194593 0.87591583 0.13991519 0.50169758 0.4750741  0.93899917\n",
            "  0.52881042 0.38086202 0.89331115 0.16544108]\n",
            " [0.5996187  0.627144   0.95875419 0.64126689 0.84908701 0.81071362\n",
            "  0.31217034 0.         0.72533261 0.31566846 0.48459336 0.31865152\n",
            "  0.4163274  0.65232818 0.25247044 0.95937717 0.70362287 1.00283787\n",
            "  0.57379735 0.35406888 0.84511715 0.45349688 0.95196949 0.09353657\n",
            "  0.31118892 0.73053129 0.48582723 0.35859241 0.56980737 0.64456257\n",
            "  0.9483873  1.00747817 0.47562745 0.44443858 0.37617696 0.46011127\n",
            "  0.84187748 0.08200399 0.49107322 0.86033374 0.51314263 0.33115949\n",
            "  0.97710205 0.2432909  0.06094414 0.88693027 0.92973379 0.49141739\n",
            "  0.64230408 0.37211689 0.56554513 0.4254017  0.92437328 0.32954264\n",
            "  0.43068764 0.30597472 1.06362497 0.36795771 0.57375233 0.47599406\n",
            "  0.05212688 0.15572434 0.73997456 0.57431239 0.15302423 0.28794686\n",
            "  0.45294736 0.69526931 0.7393897  0.4756921  0.60793999 0.09856238\n",
            "  0.67343044 1.05490803 0.50943272 0.91498978 0.75767968 0.93246128\n",
            "  0.28060628 0.05575021 0.66673486 0.14403102 0.23952973 0.32271589\n",
            "  0.91350594 0.61182675 0.68848609 0.40753734 0.47427433 0.53451296\n",
            "  0.23978521 0.92276764 0.43803835 0.62532148 0.58012911 1.08509594\n",
            "  0.46770427 0.23110606 0.96268733 0.14850375]\n",
            " [0.55070119 0.33933041 0.23954958 0.19247774 0.137084   0.19125046\n",
            "  0.62892327 0.72533261 0.         0.76950426 0.29147069 0.78736475\n",
            "  0.61620605 0.34471131 0.66836256 0.24002822 0.02928474 0.27833267\n",
            "  0.18628072 0.39883809 0.18565799 0.36345864 0.29395707 0.64683424\n",
            "  0.88804711 0.13818969 0.25762986 0.50533185 0.48582112 0.47557424\n",
            "  0.24566821 0.2876861  0.26963707 0.38573127 0.64631671 0.52833649\n",
            "  0.27145715 0.64868162 0.46358268 0.34463302 0.68071027 0.40056886\n",
            "  0.25861786 0.49442842 0.68627084 0.63155651 0.22142671 0.5779609\n",
            "  0.26224015 0.78416186 0.49177245 0.70666046 0.55996156 0.54151239\n",
            "  0.75970949 0.55733366 0.33982023 0.36879152 0.19290093 0.40557775\n",
            "  0.75120587 0.61484805 0.15950945 0.50281002 0.57749787 0.51406871\n",
            "  0.69405553 0.57358424 0.36565888 0.49834338 0.52868163 0.66128197\n",
            "  0.16530157 0.32969005 0.47702156 0.3642063  0.29107498 0.31496432\n",
            "  0.51570639 0.72085897 0.58893196 0.58826668 0.6780854  0.53381579\n",
            "  0.46230964 0.37636716 0.06368813 0.54977212 0.54071455 0.2114314\n",
            "  0.8731056  0.25978381 0.55856552 0.13024775 0.15533561 0.36880167\n",
            "  0.34712245 0.53226007 0.26523488 0.6477013 ]\n",
            " [0.84912759 0.8073617  1.00670977 0.61678819 0.8609373  0.91294589\n",
            "  0.59969378 0.31566846 0.76950426 0.         0.62978481 0.01826142\n",
            "  0.69652618 0.55094038 0.5523905  0.96805451 0.75783916 1.03669768\n",
            "  0.68053558 0.38189134 0.82421802 0.41075499 1.04741042 0.27286057\n",
            "  0.1397026  0.82881755 0.60183291 0.26605121 0.40602313 0.48054637\n",
            "  1.01461759 1.0534413  0.50246909 0.38999079 0.66613282 0.71215115\n",
            "  0.77914089 0.29230636 0.35761449 0.76820888 0.24918964 0.47368614\n",
            "  0.98286433 0.32892023 0.26990005 0.68117795 0.92767308 0.75690012\n",
            "  0.79330054 0.05680967 0.80069837 0.14750286 0.75333292 0.58527613\n",
            "  0.12657122 0.5671416  1.09828023 0.42139879 0.68500068 0.38785046\n",
            "  0.27297427 0.23449761 0.84506611 0.40093173 0.37195468 0.2630112\n",
            "  0.18169626 0.48805238 0.62562381 0.71721005 0.41917085 0.24747068\n",
            "  0.654307   1.08175256 0.36203828 0.8256478  0.90766574 1.04658075\n",
            "  0.26397404 0.37054532 0.45103418 0.37289645 0.54222523 0.57443125\n",
            "  0.78059373 0.49989452 0.71413716 0.24577739 0.29554961 0.64025494\n",
            "  0.18255034 0.88883276 0.70051782 0.71456334 0.66366486 1.13552922\n",
            "  0.42801079 0.27467066 0.94688641 0.43885224]\n",
            " [0.31897681 0.18292788 0.49590524 0.33262247 0.42855019 0.32789848\n",
            "  0.33770789 0.48459336 0.29147069 0.62978481 0.         0.64511843\n",
            "  0.32984051 0.45577971 0.38051564 0.52843213 0.26318173 0.54726124\n",
            "  0.10636443 0.265823   0.46360133 0.32381547 0.4687228  0.42606235\n",
            "  0.71771581 0.25145338 0.05722253 0.40988351 0.51564721 0.5487301\n",
            "  0.47535254 0.54344479 0.21510508 0.34145503 0.35614196 0.25088551\n",
            "  0.5167195  0.42059927 0.45125617 0.57253854 0.64139796 0.16233664\n",
            "  0.54719747 0.30307094 0.46133837 0.77488164 0.51286086 0.3066174\n",
            "  0.16524327 0.66329824 0.25450979 0.62363768 0.74346665 0.25040469\n",
            "  0.66771378 0.26730936 0.60429152 0.22318502 0.10170664 0.3871188\n",
            "  0.52210205 0.41852594 0.25796402 0.53159758 0.33180221 0.37351432\n",
            "  0.6254069  0.64618973 0.52273479 0.22553705 0.56943538 0.4474905\n",
            "  0.34135805 0.60148684 0.47398255 0.61041194 0.28177883 0.44793437\n",
            "  0.37041259 0.46589608 0.64355271 0.34056279 0.39140752 0.24325739\n",
            "  0.67400636 0.45400762 0.28703407 0.48154948 0.50905761 0.08352809\n",
            "  0.67960548 0.54318533 0.27611847 0.16426743 0.13986246 0.61550744\n",
            "  0.31805629 0.35599588 0.5564155  0.37755787]\n",
            " [0.8605983  0.82204337 1.02469905 0.63503387 0.87913136 0.93003701\n",
            "  0.60760608 0.31865152 0.78736475 0.01826142 0.64511843 0.\n",
            "  0.70540266 0.56884965 0.55885111 0.98628787 0.77555672 1.05481888\n",
            "  0.69710833 0.39886883 0.84247839 0.42891338 1.06476505 0.28080148\n",
            "  0.12302052 0.84587645 0.61791387 0.28419749 0.42308381 0.49728213\n",
            "  1.03240214 1.07147065 0.52007992 0.40818714 0.67402879 0.72310569\n",
            "  0.79722825 0.29980959 0.37554321 0.78596022 0.26176462 0.4882021\n",
            "  1.00110829 0.34350585 0.27539598 0.69546394 0.94592711 0.76708874\n",
            "  0.80894176 0.05944495 0.8128894  0.16039904 0.76904943 0.59548184\n",
            "  0.13429414 0.57690492 1.11641485 0.43808835 0.70147505 0.4060983\n",
            "  0.27419747 0.24568653 0.86200582 0.4177184  0.38187676 0.2798664\n",
            "  0.19461581 0.50294796 0.64320866 0.72880674 0.4352872  0.25498833\n",
            "  0.67255034 1.09993068 0.37970612 0.84338417 0.92355653 1.06356453\n",
            "  0.28061075 0.37396739 0.46564401 0.38234948 0.54830965 0.58482438\n",
            "  0.79749261 0.51775298 0.73214207 0.26378051 0.31282278 0.65673598\n",
            "  0.17104372 0.90705338 0.71075377 0.73160702 0.6807118  1.15354928\n",
            "  0.44617784 0.28950119 0.96514455 0.44559493]\n",
            " [0.20317609 0.33937322 0.79189638 0.65197299 0.75239076 0.59591363\n",
            "  0.10472576 0.4163274  0.61620605 0.69652618 0.32984051 0.70540266\n",
            "  0.         0.75141128 0.17150335 0.84554735 0.58711287 0.84810989\n",
            "  0.43055741 0.4693042  0.79300263 0.57316646 0.72115051 0.42496641\n",
            "  0.72456639 0.54159463 0.37847071 0.58558626 0.76176154 0.81522972\n",
            "  0.75824696 0.83573356 0.50101916 0.58167536 0.05167507 0.0976341\n",
            "  0.8447032  0.40678162 0.68243487 0.89655334 0.81451399 0.32345764\n",
            "  0.86420859 0.41660393 0.43736166 1.05985888 0.83553378 0.08670619\n",
            "  0.39871131 0.74730042 0.19823557 0.75773078 1.04836331 0.12348555\n",
            "  0.7842721  0.13381846 0.89920334 0.44122334 0.42343788 0.63032792\n",
            "  0.46834269 0.46513494 0.53825176 0.77445584 0.32589968 0.51607923\n",
            "  0.77372454 0.90136329 0.82887491 0.13017319 0.81419919 0.45117548\n",
            "  0.66605028 0.90209438 0.70652462 0.9374125  0.48374792 0.67884798\n",
            "  0.50882536 0.36663483 0.88783684 0.3239244  0.18707549 0.1364246\n",
            "  0.99128351 0.73573381 0.61676976 0.66129569 0.71317007 0.41336435\n",
            "  0.65608706 0.87209178 0.06163891 0.48601086 0.46931117 0.89689106\n",
            "  0.57590244 0.46172341 0.88096211 0.26859939]\n",
            " [0.77463637 0.60322446 0.53342067 0.15539495 0.36719305 0.53526625\n",
            "  0.71386714 0.65232818 0.34471131 0.55094038 0.45577971 0.56884965\n",
            "  0.75141128 0.         0.72107598 0.45685219 0.35359227 0.54383884\n",
            "  0.40586786 0.31424328 0.30143966 0.20254213 0.63127304 0.5588976\n",
            "  0.68860061 0.47009406 0.39855721 0.30932528 0.16629607 0.13280073\n",
            "  0.56323284 0.57208281 0.25097865 0.20832058 0.7592333  0.69374891\n",
            "  0.23157534 0.57140646 0.19333383 0.21880335 0.38078016 0.4344606\n",
            "  0.46760179 0.4193245  0.59539032 0.31948224 0.41052435 0.75202003\n",
            "  0.54052611 0.54326278 0.71013458 0.44037874 0.29768842 0.63776352\n",
            "  0.49401007 0.64073108 0.60046587 0.32401237 0.41554112 0.17912773\n",
            "  0.6540784  0.50100883 0.4921813  0.180396   0.54754375 0.36722032\n",
            "  0.41664021 0.22890707 0.08730952 0.67390659 0.19484633 0.55947626\n",
            "  0.17950422 0.57766041 0.19092348 0.27623941 0.61280486 0.65868741\n",
            "  0.37381392 0.67479985 0.24631022 0.55859065 0.72366367 0.62561153\n",
            "  0.26220067 0.05159697 0.28256108 0.30530616 0.26159436 0.39035401\n",
            "  0.70500104 0.35034209 0.7105203  0.38986121 0.35908862 0.65093403\n",
            "  0.1915839  0.42123189 0.41686415 0.64773646]\n",
            " [0.37020086 0.45977524 0.87486433 0.65387284 0.80450691 0.69384913\n",
            "  0.06939748 0.25247044 0.66836256 0.5523905  0.38051564 0.55885111\n",
            "  0.17150335 0.72107598 0.         0.90755672 0.64111377 0.92728867\n",
            "  0.48653624 0.41103563 0.82752244 0.52393357 0.82936273 0.28099177\n",
            "  0.56361322 0.62587838 0.41125256 0.49478744 0.69413856 0.75814676\n",
            "  0.85020731 0.92173818 0.48544541 0.52593139 0.12579717 0.24018297\n",
            "  0.85777502 0.26082576 0.61146818 0.89724772 0.70505573 0.29396633\n",
            "  0.92627912 0.32544481 0.28387748 1.00808424 0.88904418 0.25484781\n",
            "  0.50098328 0.60636163 0.35150009 0.63453537 1.01649854 0.13672782\n",
            "  0.65301615 0.1151218  0.98344643 0.3970792  0.48221966 0.57112889\n",
            "  0.30443411 0.33369367 0.6281562  0.70404434 0.2034495  0.41871568\n",
            "  0.65551531 0.83251301 0.80543659 0.26542633 0.74273417 0.30536744\n",
            "  0.67641985 0.98159566 0.63447391 0.94491222 0.60407536 0.79569856\n",
            "  0.41064504 0.19954255 0.81255047 0.19662317 0.01590527 0.14010129\n",
            "  0.97720979 0.69452741 0.6525026  0.56493526 0.6249669  0.45700944\n",
            "  0.49108462 0.90832587 0.2092106  0.54440099 0.51313128 0.99088359\n",
            "  0.53162896 0.35659598 0.93040737 0.11371086]\n",
            " [0.75216892 0.53664544 0.12308793 0.35142886 0.11076035 0.29316295\n",
            "  0.86597221 0.95937717 0.24002822 0.96805451 0.52843213 0.98628787\n",
            "  0.84554735 0.45685219 0.90755672 0.         0.26653699 0.0974949\n",
            "  0.42209759 0.61925414 0.15571904 0.55828736 0.27592026 0.87723963\n",
            "  1.09567081 0.31191538 0.4975186  0.70266705 0.62206828 0.5837274\n",
            "  0.17946544 0.13610785 0.48937458 0.57836598 0.87921048 0.75339373\n",
            "  0.25396195 0.88082902 0.62808733 0.32321585 0.8347752  0.6391752\n",
            "  0.01877155 0.72247111 0.9169866  0.65137827 0.04792408 0.79835546\n",
            "  0.46141563 0.97362397 0.69977913 0.88213162 0.54578497 0.7787876\n",
            "  0.93644949 0.79554897 0.1454881  0.59518846 0.42740644 0.58314168\n",
            "  0.98200087 0.8395638  0.32227505 0.63687992 0.81424491 0.72687184\n",
            "  0.86304865 0.66536801 0.42868562 0.72190224 0.65067578 0.88956098\n",
            "  0.31386605 0.1209759  0.63433747 0.30196807 0.43543525 0.33359119\n",
            "  0.72991646 0.95793967 0.69220393 0.82521619 0.91756745 0.77165677\n",
            "  0.43013418 0.50427412 0.27100501 0.73093527 0.70471306 0.45065447\n",
            "  1.09023104 0.13922646 0.78590507 0.36427584 0.39516407 0.20219124\n",
            "  0.54092269 0.75469382 0.07493693 0.88726361]\n",
            " [0.52216124 0.31167693 0.25694023 0.19888088 0.16568493 0.18259092\n",
            "  0.60082398 0.70362287 0.02928474 0.75783916 0.26318173 0.77555672\n",
            "  0.58711287 0.35359227 0.64111377 0.26653699 0.         0.2992216\n",
            "  0.15755975 0.38323446 0.21420675 0.3556238  0.29650974 0.62670485\n",
            "  0.87395172 0.11943199 0.23115636 0.49531125 0.48823307 0.48258756\n",
            "  0.25718573 0.30555513 0.25583292 0.37811857 0.61751783 0.49907307\n",
            "  0.29655721 0.62787494 0.46111512 0.36825738 0.67829251 0.37679483\n",
            "  0.2852287  0.4756137  0.66594977 0.64784155 0.24975665 0.5486816\n",
            "  0.23493314 0.77442664 0.46293405 0.70010502 0.58011767 0.51345019\n",
            "  0.75265639 0.52958787 0.36008885 0.3512933  0.16396553 0.40117881\n",
            "  0.73074948 0.59677042 0.14144272 0.50537803 0.5546731  0.49998375\n",
            "  0.68881955 0.58177342 0.3807447  0.46906086 0.53290553 0.64188922\n",
            "  0.17598812 0.35161131 0.475777   0.39010391 0.27063522 0.31169271\n",
            "  0.50121489 0.69768373 0.59535155 0.56531174 0.65104494 0.50592742\n",
            "  0.48494674 0.38197707 0.07190574 0.54304674 0.53752355 0.18413278\n",
            "  0.85664488 0.28894989 0.52936643 0.10110404 0.12885561 0.38554746\n",
            "  0.33981558 0.51521185 0.29407619 0.62272067]\n",
            " [0.73336884 0.5220954  0.0586308  0.42511374 0.1794386  0.26236953\n",
            "  0.87999067 1.00283787 0.27833267 1.03669768 0.54726124 1.05481888\n",
            "  0.84810989 0.54383884 0.92728867 0.0974949  0.2992216  0.\n",
            "  0.44251614 0.67494945 0.24680129 0.62603498 0.20219853 0.92514061\n",
            "  1.16022308 0.30661649 0.52550607 0.77066079 0.70701656 0.67326515\n",
            "  0.11086508 0.04106562 0.54470071 0.6471747  0.88596877 0.75271306\n",
            "  0.35024691 0.92678782 0.70642872 0.4205764  0.91738873 0.67525133\n",
            "  0.09783265 0.77263688 0.96454458 0.74878421 0.14425342 0.79262689\n",
            "  0.4520039  1.04603583 0.68648222 0.95904697 0.64311972 0.79415852\n",
            "  1.013197   0.81301754 0.0619371  0.64654645 0.44589676 0.65716613\n",
            "  1.02945077 0.89265902 0.31047356 0.72241863 0.85366872 0.78758694\n",
            "  0.94183384 0.75788882 0.52193768 0.7203585  0.73860206 0.93958463\n",
            "  0.38801738 0.05436876 0.71462909 0.39900641 0.40201542 0.26445171\n",
            "  0.78984753 0.99637454 0.78340569 0.86422879 0.9385215  0.78841048\n",
            "  0.52735819 0.58928888 0.32485973 0.80514246 0.78389585 0.47665025\n",
            "  1.14915544 0.23653689 0.78703767 0.38553676 0.42517394 0.10749863\n",
            "  0.60885118 0.80940423 0.16866959 0.91865374]\n",
            " [0.38605698 0.19744533 0.39253894 0.26329553 0.32323261 0.23992066\n",
            "  0.44391912 0.57379735 0.18628072 0.68053558 0.10636443 0.69710833\n",
            "  0.43055741 0.40586786 0.48653624 0.42209759 0.15755975 0.44251614\n",
            "  0.         0.29986848 0.36368371 0.32097405 0.38056305 0.50633835\n",
            "  0.78159584 0.15737152 0.08807293 0.43647627 0.49759541 0.51619031\n",
            "  0.37598839 0.44060687 0.20290381 0.3421707  0.46003668 0.34499872\n",
            "  0.42715861 0.50385829 0.44627252 0.48929995 0.65333529 0.24283662\n",
            "  0.44086524 0.36705806 0.5438653  0.72319884 0.40728161 0.39708578\n",
            "  0.13836838 0.70720224 0.3231711  0.6520303  0.67751935 0.35669266\n",
            "  0.70046655 0.37364928 0.50046674 0.25922161 0.00979638 0.38073324\n",
            "  0.60702274 0.48829799 0.16922851 0.51456157 0.42120346 0.41772873\n",
            "  0.64825628 0.61680324 0.46056393 0.31625291 0.54933828 0.52519497\n",
            "  0.26247265 0.4965723  0.46651491 0.52196887 0.23590374 0.36947911\n",
            "  0.41656155 0.56058051 0.62057276 0.43097    0.49716002 0.34962175\n",
            "  0.59762482 0.41560751 0.19003204 0.50002749 0.51413724 0.04109194\n",
            "  0.75208177 0.44195341 0.37385243 0.05791618 0.04831249 0.51485995\n",
            "  0.31014158 0.41522505 0.4515151  0.47758593]\n",
            " [0.54965958 0.44874706 0.63838513 0.28765406 0.50860736 0.53122035\n",
            "  0.4128712  0.35406888 0.39883809 0.38189134 0.265823   0.39886883\n",
            "  0.4693042  0.31424328 0.41103563 0.61925414 0.38323446 0.67494945\n",
            "  0.29986848 0.         0.49452935 0.11322472 0.66685715 0.26446427\n",
            "  0.4913299  0.44702967 0.22672533 0.14411724 0.29257427 0.3498693\n",
            "  0.64001309 0.68647903 0.13040534 0.11545184 0.46617807 0.43564077\n",
            "  0.48802291 0.27222108 0.21340854 0.5102648  0.37833938 0.14926603\n",
            "  0.63607628 0.11104036 0.30392944 0.59877828 0.58532258 0.49251522\n",
            "  0.42097431 0.40733945 0.48950204 0.35834516 0.60637009 0.34733448\n",
            "  0.40396561 0.34435791 0.73684928 0.04275114 0.3049755  0.16260133\n",
            "  0.36798421 0.2206443  0.46317504 0.30515285 0.23407831 0.11908856\n",
            "  0.35959481 0.43232041 0.40075835 0.42572503 0.34489908 0.27309107\n",
            "  0.32086377 0.72402156 0.23755018 0.56354492 0.53167112 0.66470194\n",
            "  0.11911762 0.36762198 0.41869554 0.24529561 0.41227024 0.33442216\n",
            "  0.57526915 0.2839939  0.35080248 0.21735807 0.25381804 0.2603797\n",
            "  0.47438034 0.57061681 0.44176624 0.33275371 0.28186512 0.76761272\n",
            "  0.12266541 0.13544381 0.61461055 0.33349804]\n",
            " [0.73632669 0.52461181 0.24838852 0.21083965 0.09006437 0.33476498\n",
            "  0.79537307 0.84511715 0.18565799 0.82421802 0.46360133 0.84247839\n",
            "  0.79300263 0.30143966 0.82752244 0.15571904 0.21420675 0.24680129\n",
            "  0.36368371 0.49452935 0.         0.41925753 0.37812473 0.75819917\n",
            "  0.955331   0.31196464 0.42012817 0.5613209  0.46712438 0.42807482\n",
            "  0.29146639 0.27948318 0.36952437 0.4377098  0.81935174 0.70867357\n",
            "  0.11266859 0.76429031 0.4772755  0.1901353  0.68058089 0.54204823\n",
            "  0.1661828  0.60294911 0.79788477 0.51296796 0.10908697 0.76013695\n",
            "  0.44727282 0.82629976 0.67708064 0.73143096 0.4184781  0.70839499\n",
            "  0.78573199 0.72150245 0.30053737 0.47716741 0.37160303 0.43666782\n",
            "  0.86230489 0.71434041 0.3303516  0.48169932 0.70768846 0.59368082\n",
            "  0.71105916 0.51112224 0.27521725 0.67966289 0.49497792 0.76761972\n",
            "  0.17480982 0.27669262 0.48200599 0.19108663 0.46150978 0.4233243\n",
            "  0.59764168 0.85043337 0.53710051 0.71902586 0.83553531 0.69936615\n",
            "  0.30789634 0.34953403 0.17691875 0.58310191 0.55290558 0.3802342\n",
            "  0.95592199 0.08080639 0.7372882  0.31179627 0.32378653 0.3542228\n",
            "  0.40201475 0.62861278 0.12288714 0.79068005]\n",
            " [0.63200788 0.49995197 0.59745422 0.20873194 0.45036873 0.52575511\n",
            "  0.52322781 0.45349688 0.36345864 0.41075499 0.32381547 0.42891338\n",
            "  0.57316646 0.20254213 0.52393357 0.55828736 0.3556238  0.62603498\n",
            "  0.32097405 0.11322472 0.41925753 0.         0.65140753 0.36073833\n",
            "  0.5375378  0.44463519 0.27212494 0.14472516 0.19468278 0.24206809\n",
            "  0.60900878 0.64360824 0.11807752 0.02258872 0.57401476 0.52975868\n",
            "  0.39414906 0.37182226 0.12785211 0.4070225  0.33329706 0.24971963\n",
            "  0.57357372 0.21690979 0.39858367 0.4884677  0.51926364 0.58784827\n",
            "  0.45640662 0.42144026 0.56916214 0.34472436 0.49314537 0.45351692\n",
            "  0.39704898 0.45279532 0.68755985 0.13219122 0.32867453 0.06334143\n",
            "  0.45981572 0.30682768 0.46402458 0.20972    0.34512246 0.17733953\n",
            "  0.33512076 0.33138836 0.28966047 0.51562653 0.2486898  0.36411589\n",
            "  0.24576522 0.67104735 0.15020972 0.46220461 0.55603889 0.66001665\n",
            "  0.18242135 0.4732417  0.32346162 0.35612511 0.52539563 0.44080072\n",
            "  0.46457098 0.17077595 0.30519384 0.1877659  0.19322709 0.28855007\n",
            "  0.53690736 0.48975315 0.54023536 0.33543388 0.28760653 0.72576272\n",
            "  0.0173708  0.22334103 0.54201095 0.44590314]\n",
            " [0.57533266 0.38187659 0.15398564 0.48445701 0.28849611 0.14126832\n",
            "  0.77270858 0.95196949 0.29395707 1.04741042 0.4687228  1.06476505\n",
            "  0.72115051 0.63127304 0.82936273 0.27592026 0.29650974 0.20219853\n",
            "  0.38056305 0.66685715 0.37812473 0.65140753 0.         0.88683717\n",
            "  1.15688905 0.22343903 0.46827756 0.78864994 0.77903339 0.76387218\n",
            "  0.09652337 0.16610225 0.54599159 0.67396786 0.76522821 0.62351642\n",
            "  0.49077816 0.88396408 0.75699067 0.56813155 0.97421525 0.62243896\n",
            "  0.28555605 0.74589935 0.92415371 0.88880672 0.30939014 0.65336805\n",
            "  0.32860311 1.06729091 0.53874944 0.99612146 0.79652783 0.69264375\n",
            "  1.04834647 0.7147604  0.22039568 0.63006814 0.37940318 0.69764801\n",
            "  0.98690091 0.86775067 0.21211596 0.79590228 0.79894925 0.78578787\n",
            "  0.98527781 0.85900524 0.6355754  0.59102196 0.82036699 0.90574277\n",
            "  0.45351297 0.23915626 0.77086428 0.56155767 0.24043176 0.06314891\n",
            "  0.78596627 0.93461676 0.87750331 0.80818936 0.84262014 0.68980306\n",
            "  0.68467921 0.66727034 0.35734791 0.83910052 0.83374994 0.42127935\n",
            "  1.13137911 0.40328243 0.65968077 0.33594949 0.38623345 0.19057046\n",
            "  0.63589113 0.79175806 0.35004431 0.84437831]\n",
            " [0.58871865 0.58410699 0.88333309 0.55210856 0.76657038 0.74587958\n",
            "  0.32688587 0.09353657 0.64683424 0.27286057 0.42606235 0.28080148\n",
            "  0.42496641 0.5588976  0.28099177 0.87723963 0.62670485 0.92514061\n",
            "  0.50633835 0.26446427 0.75819917 0.36073833 0.88683717 0.\n",
            "  0.31005932 0.663689   0.41857162 0.26660277 0.47835051 0.55243474\n",
            "  0.8765637  0.93204093 0.38970301 0.35118331 0.39332333 0.4491921\n",
            "  0.75096115 0.02067143 0.39874156 0.76774743 0.43782604 0.26536484\n",
            "  0.8946475  0.15541133 0.03979142 0.79643533 0.8458329  0.48959206\n",
            "  0.58916612 0.32580897 0.546315   0.35814944 0.83148557 0.31889313\n",
            "  0.37280536 0.29872506 0.98647032 0.28244928 0.50747951 0.38246658\n",
            "  0.10476189 0.06526595 0.67498245 0.48352148 0.1078838  0.19466897\n",
            "  0.38218424 0.60627094 0.6459172  0.4587292  0.5180593  0.0264876\n",
            "  0.58517531 0.97632734 0.41766288 0.82269877 0.70588265 0.87195283\n",
            "  0.1872331  0.12693049 0.57907321 0.10532197 0.27188721 0.30918731\n",
            "  0.81997971 0.51829255 0.60634962 0.31979606 0.38598215 0.46586618\n",
            "  0.25744354 0.83489967 0.43363575 0.5545863  0.50717025 1.0110403\n",
            "  0.37525745 0.1377773  0.87717484 0.16732924]\n",
            " [0.89774222 0.88684966 1.12712364 0.74587322 0.98705658 1.01919595\n",
            "  0.62156342 0.31118892 0.88804711 0.1397026  0.71771581 0.12302052\n",
            "  0.72456639 0.68860061 0.56361322 1.09567081 0.87395172 1.16022308\n",
            "  0.78159584 0.4913299  0.955331   0.5375378  1.15688905 0.31005932\n",
            "  0.         0.93501494 0.6980353  0.3940322  0.54570712 0.62020748\n",
            "  1.13104592 1.17464951 0.61850996 0.51804096 0.68651694 0.75781544\n",
            "  0.91510221 0.32442838 0.4953988  0.90655058 0.38003656 0.55602587\n",
            "  1.11108306 0.41609986 0.28894748 0.8160512  1.05675819 0.79525911\n",
            "  0.88295903 0.16914154 0.85635127 0.28034801 0.89173066 0.62667964\n",
            "  0.24494052 0.60519324 1.22208466 0.52685519 0.78486664 0.52121613\n",
            "  0.25945874 0.29987339 0.94962526 0.54060926 0.41793788 0.37404228\n",
            "  0.31418509 0.62473436 0.76457761 0.76849491 0.55826037 0.28410596\n",
            "  0.78313398 1.20693448 0.50089546 0.96403407 0.99934402 1.15090263\n",
            "  0.37275104 0.36538191 0.58703051 0.41503898 0.5507091  0.61767215\n",
            "  0.92029617 0.63788372 0.83570985 0.3833852  0.43512817 0.74058359\n",
            "  0.08423229 1.02223552 0.74009088 0.82120246 0.77069351 1.25638224\n",
            "  0.55490814 0.36637177 1.07821311 0.45619252]\n",
            " [0.44082512 0.22503466 0.25117504 0.31470301 0.23959926 0.08425855\n",
            "  0.57549219 0.73053129 0.13818969 0.82881755 0.25145338 0.84587645\n",
            "  0.54159463 0.47009406 0.62587838 0.31191538 0.11943199 0.30661649\n",
            "  0.15737152 0.44702967 0.31196464 0.44463519 0.22343903 0.663689\n",
            "  0.93501494 0.         0.24535217 0.57507599 0.5961764  0.59673891\n",
            "  0.22462869 0.29672747 0.3322136  0.46710208 0.57944645 0.44665652\n",
            "  0.40737673 0.66120083 0.56044526 0.48193439 0.77575112 0.39996816\n",
            "  0.32994638 0.52267166 0.70123419 0.76727264 0.31282345 0.48859358\n",
            "  0.14954073 0.8516233  0.3878724  0.78723737 0.6980656  0.49082501\n",
            "  0.838005   0.51086937 0.35942489 0.40884858 0.15680956 0.49729886\n",
            "  0.76432387 0.64442149 0.0221433  0.61344659 0.57768093 0.566104\n",
            "  0.77950575 0.69686298 0.50013613 0.4144772  0.64329663 0.68238521\n",
            "  0.29459816 0.36074432 0.5773878  0.49828157 0.15300062 0.21798848\n",
            "  0.56579742 0.71556739 0.70840355 0.58722857 0.63793444 0.48598494\n",
            "  0.60012343 0.49508562 0.19103018 0.63135579 0.63443355 0.19790438\n",
            "  0.90812271 0.37639755 0.48065845 0.1142772  0.16516595 0.3652386\n",
            "  0.43059239 0.56919174 0.36138421 0.62898914]\n",
            " [0.37616632 0.22830645 0.47739425 0.27742089 0.39329114 0.32732518\n",
            "  0.37541462 0.48582723 0.25762986 0.60183291 0.05722253 0.61791387\n",
            "  0.37847071 0.39855721 0.41125256 0.4975186  0.23115636 0.52550607\n",
            "  0.08807293 0.22672533 0.42012817 0.27212494 0.46827756 0.41857162\n",
            "  0.6980353  0.24535217 0.         0.36898857 0.46173142 0.4926686\n",
            "  0.46320017 0.52580613 0.15990346 0.29088549 0.40063356 0.30442081\n",
            "  0.46623454 0.41585142 0.39997074 0.51944565 0.59597544 0.15477671\n",
            "  0.51615976 0.2821767  0.45592688 0.71768219 0.47781406 0.36113617\n",
            "  0.19424899 0.63169879 0.31168572 0.58454484 0.68677048 0.28829725\n",
            "  0.63068443 0.3020724  0.58456164 0.18425717 0.08892054 0.33509273\n",
            "  0.51897852 0.40240498 0.25644695 0.47793082 0.3333862  0.34082\n",
            "  0.58401013 0.59070141 0.46592736 0.28053698 0.51529499 0.43778329\n",
            "  0.28830491 0.57912323 0.42219417 0.55907431 0.30616666 0.45504164\n",
            "  0.33875395 0.47352872 0.58906461 0.34326728 0.42065671 0.27946825\n",
            "  0.61891231 0.39721382 0.24339381 0.43784725 0.46089396 0.04918425\n",
            "  0.66599906 0.50056594 0.32750822 0.14090611 0.10235557 0.60133266\n",
            "  0.26509432 0.33216252 0.5193144  0.39315269]\n",
            " [0.68688845 0.59278443 0.74127205 0.35201531 0.59505149 0.65822023\n",
            "  0.51329025 0.35859241 0.50533185 0.26605121 0.40988351 0.28419749\n",
            "  0.58558626 0.30932528 0.49478744 0.70266705 0.49531125 0.77066079\n",
            "  0.43647627 0.14411724 0.5613209  0.14472516 0.78864994 0.26660277\n",
            "  0.3940322  0.57507599 0.36898857 0.         0.2118602  0.28597662\n",
            "  0.75094164 0.78774766 0.24321804 0.12430938 0.57355191 0.5655518\n",
            "  0.52608356 0.28306606 0.13257802 0.52703651 0.23694044 0.28274564\n",
            "  0.71775767 0.17146852 0.29843648 0.53052058 0.66304454 0.62034192\n",
            "  0.56283826 0.27911555 0.62851457 0.21590425 0.56637365 0.4621613\n",
            "  0.26409365 0.45367489 0.83223034 0.18669856 0.44256178 0.13163925\n",
            "  0.35159193 0.20287592 0.59298432 0.21777085 0.29362966 0.07703222\n",
            "  0.2155406  0.34331165 0.3932995  0.55937678 0.25381681 0.26092533\n",
            "  0.38938422 0.81577042 0.15106517 0.58410341 0.67123305 0.79273231\n",
            "  0.08523301 0.39179685 0.31967295 0.30237772 0.49183727 0.44927498\n",
            "  0.56344158 0.26280877 0.44869885 0.07678601 0.13028686 0.39873562\n",
            "  0.39919596 0.62913652 0.5668015  0.46208605 0.41177975 0.86987689\n",
            "  0.16201262 0.14082701 0.68420727 0.39568632]\n",
            " [0.82660137 0.68659064 0.69289719 0.29475596 0.52861893 0.66999064\n",
            "  0.70312362 0.56980737 0.48582112 0.40602313 0.51564721 0.42308381\n",
            "  0.76176154 0.16629607 0.69413856 0.62206828 0.48823307 0.70701656\n",
            "  0.49759541 0.29257427 0.46712438 0.19468278 0.77903339 0.47835051\n",
            "  0.54570712 0.5961764  0.46173142 0.2118602  0.         0.07731506\n",
            "  0.71833413 0.73352321 0.30215331 0.18175137 0.75825612 0.72322032\n",
            "  0.3953297  0.49492605 0.08283252 0.3697027  0.21464264 0.43959066\n",
            "  0.6332866  0.36963145 0.50927704 0.31900813 0.57617046 0.78104645\n",
            "  0.63587106 0.38968137 0.76359352 0.28129181 0.35946934 0.63989777\n",
            "  0.33347734 0.63638431 0.76471093 0.32223791 0.5063468  0.13282907\n",
            "  0.55952086 0.41417312 0.61749935 0.01727875 0.49873066 0.28689214\n",
            "  0.25462045 0.13981316 0.22482318 0.7099152  0.05403332 0.47161079\n",
            "  0.32761215 0.74259012 0.06108789 0.42627146 0.72551335 0.79971556\n",
            "  0.29494807 0.60362644 0.12877985 0.50837864 0.69305005 0.62697739\n",
            "  0.37474937 0.11785697 0.42214285 0.17199247 0.11103576 0.47072607\n",
            "  0.5743426  0.51616673 0.73216677 0.49868105 0.45702833 0.8135146\n",
            "  0.19796875 0.35009722 0.58315137 0.60192932]\n",
            " [0.8653114  0.71083307 0.66511034 0.28378499 0.49839414 0.66503213\n",
            "  0.76274    0.64456257 0.47557424 0.48054637 0.5487301  0.49728213\n",
            "  0.81522972 0.13280073 0.75814676 0.5837274  0.48258756 0.67326515\n",
            "  0.51619031 0.3498693  0.42807482 0.24206809 0.76387218 0.55243474\n",
            "  0.62020748 0.59673891 0.4926686  0.28597662 0.07731506 0.\n",
            "  0.69587542 0.70276703 0.3338785  0.23472513 0.8152714  0.76992534\n",
            "  0.34380555 0.56844988 0.15375616 0.30759586 0.2723445  0.49177475\n",
            "  0.59323043 0.43646213 0.58430276 0.25003277 0.53654714 0.8282415\n",
            "  0.65393641 0.46106601 0.8013781  0.35027089 0.28235449 0.6952261\n",
            "  0.40051458 0.693683   0.72853088 0.37409874 0.52549146 0.18747288\n",
            "  0.6356846  0.48883953 0.6186478  0.07965379 0.56679735 0.35918609\n",
            "  0.32114734 0.10102962 0.16468117 0.754147   0.07121709 0.54671506\n",
            "  0.31108658 0.70468923 0.13541329 0.36246789 0.73473275 0.79026472\n",
            "  0.36708263 0.67676372 0.11364417 0.57684048 0.75799331 0.68244955\n",
            "  0.30047142 0.10212989 0.41263799 0.24930547 0.18736588 0.49428894\n",
            "  0.65091851 0.46795058 0.78168347 0.50857888 0.47204529 0.78066712\n",
            "  0.2403355  0.42146024 0.53789961 0.67002199]\n",
            " [0.6314356  0.42468915 0.05780002 0.42490161 0.20435503 0.16293597\n",
            "  0.79854395 0.9483873  0.24566821 1.01461759 0.47535254 1.03240214\n",
            "  0.75824696 0.56323284 0.85020731 0.17946544 0.25718573 0.11086508\n",
            "  0.37598839 0.64001309 0.29146639 0.60900878 0.09652337 0.8765637\n",
            "  1.13104592 0.22462869 0.46320017 0.75094164 0.71833413 0.69587542\n",
            "  0.         0.0822025  0.51300189 0.63121043 0.79883687 0.66143015\n",
            "  0.40364848 0.87593756 0.70485613 0.47987684 0.92093212 0.61734416\n",
            "  0.18908585 0.72886778 0.91513928 0.80440805 0.21439197 0.69766778\n",
            "  0.35953802 1.02982608 0.58784317 0.95134309 0.70786536 0.71470303\n",
            "  1.00465869 0.73512414 0.14494442 0.60680497 0.37732637 0.64920402\n",
            "  0.97929232 0.85075058 0.2224952  0.73475053 0.79642884 0.75713859\n",
            "  0.93769891 0.78772287 0.55826247 0.62881014 0.75614587 0.89336584\n",
            "  0.39078287 0.15619477 0.71649021 0.46954846 0.29642576 0.1560992\n",
            "  0.7582949  0.93654205 0.80892645 0.80641441 0.86240373 0.71019241\n",
            "  0.59454265 0.60321651 0.30495251 0.79471746 0.7825247  0.41417488\n",
            "  1.11226984 0.3092579  0.69669092 0.32306587 0.36939929 0.14067764\n",
            "  0.59255893 0.77068665 0.25380931 0.85240304]\n",
            " [0.71304185 0.50478466 0.04873759 0.44702494 0.20504018 0.24297408\n",
            "  0.87220227 1.00747817 0.2876861  1.0534413  0.54344479 1.07147065\n",
            "  0.83573356 0.57208281 0.92173818 0.13610785 0.30555513 0.04106562\n",
            "  0.44060687 0.68647903 0.27948318 0.64360824 0.16610225 0.93204093\n",
            "  1.17464951 0.29672747 0.52580613 0.78774766 0.73352321 0.70276703\n",
            "  0.0822025  0.         0.55690876 0.66516956 0.87516163 0.7394297\n",
            "  0.38590779 0.93278741 0.72915337 0.45775076 0.94206185 0.67788894\n",
            "  0.13819518 0.78112983 0.9711723  0.78591383 0.18133635 0.77714783\n",
            "  0.43753948 1.0647497  0.66851669 0.98037137 0.68170197 0.78727917\n",
            "  1.03433368 0.80693709 0.06371343 0.6562236  0.44312305 0.67777047\n",
            "  1.03585969 0.90208607 0.29771572 0.74924702 0.85694969 0.80101355\n",
            "  0.96423922 0.78940826 0.55445535 0.70688724 0.76690176 0.94742954\n",
            "  0.41054604 0.07455435 0.73840932 0.43807113 0.37853743 0.22908128\n",
            "  0.80288622 0.99875813 0.81388816 0.86728692 0.93345307 0.78213718\n",
            "  0.56616398 0.61618885 0.33939315 0.82534135 0.80686419 0.47664958\n",
            "  1.16078817 0.27527586 0.77433028 0.3849409  0.42760508 0.08215768\n",
            "  0.62660499 0.81987626 0.20886342 0.91814977]\n",
            " [0.53171537 0.38493387 0.50903989 0.17158949 0.37864226 0.41507105\n",
            "  0.4697592  0.47562745 0.26963707 0.50246909 0.21510508 0.52007992\n",
            "  0.50101916 0.25097865 0.48544541 0.48937458 0.25583292 0.54470071\n",
            "  0.20290381 0.13040534 0.36952437 0.11807752 0.54599159 0.38970301\n",
            "  0.61850996 0.3322136  0.15990346 0.24321804 0.30215331 0.3338785\n",
            "  0.51300189 0.55690876 0.         0.13935143 0.51110016 0.44332964\n",
            "  0.37703378 0.39503641 0.24433962 0.41192614 0.45078994 0.19174793\n",
            "  0.50638083 0.23430475 0.4294839  0.56577397 0.45646502 0.50170955\n",
            "  0.33866802 0.5213299  0.46763747 0.45527235 0.54735333 0.39003122\n",
            "  0.50580005 0.39526766 0.60661943 0.10767724 0.21060589 0.17875059\n",
            "  0.49426968 0.3502006  0.3505937  0.31852498 0.34043472 0.24447586\n",
            "  0.44878912 0.4310922  0.32819333 0.42458986 0.35555035 0.40071418\n",
            "  0.19994601 0.59362506 0.26544207 0.46072435 0.43819534 0.54960933\n",
            "  0.24607208 0.48190317 0.42918482 0.3518678  0.49036235 0.3783063\n",
            "  0.49479286 0.24155923 0.22039714 0.3002643  0.31124185 0.17102074\n",
            "  0.60446329 0.44768426 0.45955204 0.22027931 0.17105738 0.63833141\n",
            "  0.10791661 0.2655893  0.48753077 0.42981185]\n",
            " [0.64666475 0.51907277 0.61917836 0.22783371 0.47094658 0.54830566\n",
            "  0.52817396 0.44443858 0.38573127 0.38999079 0.34145503 0.40818714\n",
            "  0.58167536 0.20832058 0.52593139 0.57836598 0.37811857 0.6471747\n",
            "  0.3421707  0.11545184 0.4377098  0.02258872 0.67396786 0.35118331\n",
            "  0.51804096 0.46710208 0.29088549 0.12430938 0.18175137 0.23472513\n",
            "  0.63121043 0.66516956 0.13935143 0.         0.58061862 0.54146982\n",
            "  0.40855315 0.36324681 0.10997234 0.4178785  0.31150849 0.25856408\n",
            "  0.59345034 0.21235196 0.38830658 0.48333107 0.53879949 0.59930389\n",
            "  0.4769504  0.39964992 0.58425062 0.32215633 0.49367363 0.46087033\n",
            "  0.37453852 0.45897522 0.70860858 0.14082225 0.34972445 0.04896795\n",
            "  0.44844388 0.29513385 0.48643136 0.1959303  0.34221459 0.16325435\n",
            "  0.31256911 0.32031205 0.29560736 0.52840319 0.23541228 0.35307782\n",
            "  0.26513687 0.69179201 0.13320292 0.47372715 0.57753951 0.68258379\n",
            "  0.16897489 0.46656483 0.31012676 0.35299078 0.5267133  0.44804515\n",
            "  0.4703672  0.17195134 0.32712898 0.165182   0.17203214 0.309066\n",
            "  0.51947298 0.50699198 0.55066949 0.35762641 0.30954443 0.74732721\n",
            "  0.03868357 0.2134061  0.56057236 0.44412159]\n",
            " [0.25464966 0.38437875 0.83049434 0.66853084 0.78319626 0.63730686\n",
            "  0.06643944 0.37617696 0.64631671 0.66613282 0.35614196 0.67402879\n",
            "  0.05167507 0.7592333  0.12579717 0.87921048 0.61751783 0.88596877\n",
            "  0.46003668 0.46617807 0.81935174 0.57401476 0.76522821 0.39332333\n",
            "  0.68651694 0.57944645 0.40063356 0.57355191 0.75825612 0.8152714\n",
            "  0.79883687 0.87516163 0.51110016 0.58061862 0.         0.14391965\n",
            "  0.86543066 0.37423659 0.67742595 0.91402276 0.79744778 0.32581758\n",
            "  0.89794419 0.40247766 0.4020738  1.06239367 0.86701427 0.13830783\n",
            "  0.4399233  0.71834115 0.24889419 0.735576   1.0568961  0.12147895\n",
            "  0.75919981 0.12187266 0.93837525 0.441937   0.45359198 0.62862027\n",
            "  0.42830008 0.43838875 0.57745777 0.77013377 0.30008716 0.50128947\n",
            "  0.75342627 0.89806549 0.83911851 0.17545626 0.8097266  0.41904148\n",
            "  0.68509931 0.94016484 0.70132062 0.95693387 0.52960571 0.72460838\n",
            "  0.49369608 0.32452605 0.88243592 0.2965307  0.14069901 0.13377752\n",
            "  1.00486103 0.74021665 0.6424901  0.64796968 0.70281775 0.43919466\n",
            "  0.61566323 0.89919963 0.10763507 0.51675519 0.49592191 0.93827225\n",
            "  0.57827813 0.44380451 0.91154894 0.23095346]\n",
            " [0.14007768 0.24175962 0.69608996 0.58175955 0.66321903 0.49886317\n",
            "  0.17160477 0.46011127 0.52833649 0.71215115 0.25088551 0.72310569\n",
            "  0.0976341  0.69374891 0.24018297 0.75339373 0.49907307 0.75271306\n",
            "  0.34499872 0.43564077 0.70867357 0.52975868 0.62351642 0.4491921\n",
            "  0.75781544 0.44665652 0.30442081 0.5655518  0.72322032 0.76992534\n",
            "  0.66143015 0.7394297  0.44332964 0.54146982 0.14391965 0.\n",
            "  0.76725766 0.43359678 0.64761648 0.82331014 0.80079892 0.28644897\n",
            "  0.7719594  0.40562721 0.46921735 1.00863729 0.74545436 0.05844451\n",
            "  0.30198276 0.75910364 0.11132226 0.75493692 0.98759034 0.1314046\n",
            "  0.78725657 0.15421092 0.80299815 0.40151474 0.33711623 0.590401\n",
            "  0.51054982 0.47765643 0.44239345 0.73722893 0.34262805 0.50301968\n",
            "  0.76694149 0.86112241 0.76672603 0.03265149 0.776822   0.47562305\n",
            "  0.5920775  0.80652191 0.67172012 0.86117534 0.38636511 0.58146754\n",
            "  0.49662703 0.41668574 0.85144347 0.34393974 0.25596363 0.14015666\n",
            "  0.92316731 0.68370968 0.53416614 0.64233292 0.6877707  0.33301729\n",
            "  0.6961541  0.78660204 0.03641604 0.39829937 0.38699779 0.79971998\n",
            "  0.52977147 0.45645105 0.79167808 0.31311981]\n",
            " [0.81116221 0.6061743  0.35858511 0.20547042 0.20245917 0.44076659\n",
            "  0.83384482 0.84187748 0.27145715 0.77914089 0.5167195  0.79722825\n",
            "  0.8447032  0.23157534 0.85777502 0.25396195 0.29655721 0.35024691\n",
            "  0.42715861 0.48802291 0.11266859 0.39414906 0.49077816 0.75096115\n",
            "  0.91510221 0.40737673 0.46623454 0.52608356 0.3953297  0.34380555\n",
            "  0.40364848 0.38590779 0.37703378 0.40855315 0.86543066 0.76725766\n",
            "  0.         0.75990816 0.42256817 0.07802656 0.60957729 0.56475733\n",
            "  0.25948963 0.59905752 0.78980806 0.40144723 0.20624698 0.82177094\n",
            "  0.53048843 0.77401574 0.74937894 0.67195214 0.30597375 0.74889878\n",
            "  0.725571   0.75883012 0.39848095 0.48014386 0.43619634 0.39515318\n",
            "  0.85242017 0.70022048 0.42749475 0.40780321 0.71566063 0.57130677\n",
            "  0.64801014 0.41647285 0.18090478 0.74047525 0.41404627 0.75662244\n",
            "  0.1815612  0.37195709 0.42211429 0.09491849 0.55991264 0.53525334\n",
            "  0.57654851 0.85450412 0.44616194 0.72711242 0.86395879 0.73861129\n",
            "  0.19707001 0.28308509 0.23910921 0.5335799  0.49304665 0.43426661\n",
            "  0.92527932 0.1250799  0.79272353 0.38306715 0.38166763 0.45614569\n",
            "  0.37814006 0.61547391 0.19713962 0.80684087]\n",
            " [0.57340859 0.57493146 0.88405344 0.55962743 0.77030484 0.74281528\n",
            "  0.3078282  0.08200399 0.64868162 0.29230636 0.42059927 0.29980959\n",
            "  0.40678162 0.57140646 0.26082576 0.88082902 0.62787494 0.92678782\n",
            "  0.50385829 0.27222108 0.76429031 0.37182226 0.88396408 0.02067143\n",
            "  0.32442838 0.66120083 0.41585142 0.28306606 0.49492605 0.56844988\n",
            "  0.87593756 0.93278741 0.39503641 0.36324681 0.37423659 0.43359678\n",
            "  0.75990816 0.         0.41469382 0.77850099 0.45814789 0.26158176\n",
            "  0.89839327 0.16168313 0.04081291 0.81341944 0.850281   0.47280536\n",
            "  0.58252285 0.34566971 0.53228253 0.37881284 0.84659183 0.30277247\n",
            "  0.39334828 0.28201206 0.98791673 0.28740392 0.50460411 0.3961338\n",
            "  0.10336302 0.08412115 0.67190493 0.50050221 0.09529102 0.20968434\n",
            "  0.40276803 0.62400448 0.65858631 0.44411573 0.53547472 0.04484999\n",
            "  0.59207143 0.97835919 0.43407002 0.83306279 0.69903643 0.86766016\n",
            "  0.20201807 0.10891945 0.5972907  0.09100985 0.25152374 0.29344654\n",
            "  0.83299032 0.53175868 0.60982422 0.33824279 0.4041522  0.46372385\n",
            "  0.26816916 0.84159335 0.41706175 0.55331631 0.50665728 1.01128877\n",
            "  0.38587596 0.1504253  0.8824842  0.14711819]\n",
            " [0.75580115 0.62776403 0.68567441 0.28216445 0.52706022 0.63869495\n",
            "  0.62144879 0.49107322 0.46358268 0.35761449 0.45125617 0.37554321\n",
            "  0.68243487 0.19333383 0.61146818 0.62808733 0.46111512 0.70642872\n",
            "  0.44627252 0.21340854 0.4772755  0.12785211 0.75699067 0.39874156\n",
            "  0.4953988  0.56044526 0.39997074 0.13257802 0.08283252 0.15375616\n",
            "  0.70485613 0.72915337 0.24433962 0.10997234 0.67742595 0.64761648\n",
            "  0.42256817 0.41469382 0.         0.41123313 0.21722822 0.3620847\n",
            "  0.64117387 0.28680425 0.43100424 0.40103467 0.58450503 0.70498304\n",
            "  0.58294201 0.35174598 0.69369415 0.25421678 0.43386672 0.55995317\n",
            "  0.30853843 0.55561441 0.76629034 0.24622209 0.45434457 0.06560481\n",
            "  0.48368118 0.3353929  0.5808426  0.0929273  0.4159682  0.2055382\n",
            "  0.23542193 0.22143291 0.27073238 0.63589073 0.1323385  0.39350326\n",
            "  0.31868739 0.74645693 0.02415183 0.4687302  0.67972554 0.77151062\n",
            "  0.21348367 0.52303803 0.20540391 0.42566887 0.61027798 0.5469963\n",
            "  0.43557998 0.14248975 0.40114892 0.11201791 0.07779608 0.41535797\n",
            "  0.51464946 0.53612341 0.65491896 0.45563598 0.41000779 0.81069321\n",
            "  0.13642706 0.26820428 0.59816581 0.51919084]\n",
            " [0.87519216 0.67433005 0.43313971 0.24558329 0.28014868 0.51811094\n",
            "  0.87832615 0.86033374 0.34463302 0.76820888 0.57253854 0.78596022\n",
            "  0.89655334 0.21880335 0.89724772 0.32321585 0.36825738 0.4205764\n",
            "  0.48929995 0.5102648  0.1901353  0.4070225  0.56813155 0.76774743\n",
            "  0.90655058 0.48193439 0.51944565 0.52703651 0.3697027  0.30759586\n",
            "  0.47987684 0.45775076 0.41192614 0.4178785  0.91402276 0.82331014\n",
            "  0.07802656 0.77850099 0.41123313 0.         0.57946123 0.60331065\n",
            "  0.32633234 0.62042822 0.80556353 0.3282261  0.27652201 0.87908141\n",
            "  0.59982277 0.75747031 0.81247081 0.6508295  0.22839669 0.79525361\n",
            "  0.70317874 0.80328739 0.46504589 0.50869711 0.49867489 0.39569601\n",
            "  0.86628228 0.71299664 0.5024829  0.37970553 0.74286712 0.58060226\n",
            "  0.62423215 0.36634508 0.14490842 0.79787004 0.37878541 0.77078476\n",
            "  0.23123921 0.43734173 0.40634055 0.05749937 0.63484443 0.61318064\n",
            "  0.58663893 0.87766379 0.39955754 0.75424553 0.90228788 0.78435099\n",
            "  0.1193682  0.268777   0.30609147 0.52319826 0.475086   0.4919794\n",
            "  0.92377957 0.1863709  0.8469367  0.4492518  0.44228471 0.52459908\n",
            "  0.39263157 0.63032134 0.25916103 0.83817208]\n",
            " [0.92374909 0.82331835 0.89972933 0.49656086 0.73813052 0.85503775\n",
            "  0.73412997 0.51314263 0.68071027 0.24918964 0.64139796 0.26176462\n",
            "  0.81451399 0.38078016 0.70505573 0.8347752  0.67829251 0.91738873\n",
            "  0.65333529 0.37833938 0.68058089 0.33329706 0.97421525 0.43782604\n",
            "  0.38003656 0.77575112 0.59597544 0.23694044 0.21464264 0.2723445\n",
            "  0.92093212 0.94206185 0.45078994 0.31150849 0.79744778 0.80079892\n",
            "  0.60957729 0.45814789 0.21722822 0.57946123 0.         0.51963365\n",
            "  0.84653679 0.39828303 0.45479039 0.43677773 0.78943508 0.85460538\n",
            "  0.78654739 0.21103839 0.86544327 0.10169796 0.52019674 0.6920114\n",
            "  0.13821645 0.68098443 0.97609522 0.41984728 0.66066577 0.278522\n",
            "  0.48431472 0.37585244 0.79573774 0.20178064 0.5023003  0.29898948\n",
            "  0.06759821 0.24978266 0.43521482 0.79570976 0.20173409 0.4202403\n",
            "  0.53206767 0.9547945  0.20444869 0.63474247 0.88896154 0.98827648\n",
            "  0.30597653 0.56082848 0.21083953 0.50850929 0.69919975 0.67935041\n",
            "  0.5658306  0.33119576 0.61806974 0.16111655 0.14133789 0.6190585\n",
            "  0.43173219 0.73080825 0.8001755  0.66838725 0.62089857 1.02297826\n",
            "  0.34598942 0.35366207 0.7976022  0.59615784]\n",
            " [0.40414341 0.33390512 0.62925235 0.36016863 0.53093859 0.4812549\n",
            "  0.27964068 0.33115949 0.40056886 0.47368614 0.16233664 0.4882021\n",
            "  0.32345764 0.4344606  0.29396633 0.6391752  0.37679483 0.67525133\n",
            "  0.24283662 0.14926603 0.54204823 0.24971963 0.62243896 0.26536484\n",
            "  0.55602587 0.39996816 0.15477671 0.28274564 0.43959066 0.49177475\n",
            "  0.61734416 0.67788894 0.19174793 0.25856408 0.32581758 0.28644897\n",
            "  0.56475733 0.26158176 0.3620847  0.60331065 0.51963365 0.\n",
            "  0.65746311 0.14476697 0.3019349  0.73720495 0.61427388 0.34325049\n",
            "  0.32733306 0.51118142 0.34618387 0.48507631 0.73206995 0.20457376\n",
            "  0.52425511 0.20628469 0.73531115 0.11783507 0.24320636 0.30740151\n",
            "  0.3644681  0.25641907 0.41034951 0.45290559 0.17920268 0.2290568\n",
            "  0.49229971 0.57876648 0.51620939 0.27755577 0.49264242 0.28589553\n",
            "  0.38397203 0.7281698  0.38623324 0.65106232 0.44403318 0.60658854\n",
            "  0.22417588 0.32113649 0.56689782 0.1894185  0.29943376 0.1920719\n",
            "  0.68561048 0.41440251 0.37227143 0.35921816 0.40171566 0.20335372\n",
            "  0.51735879 0.62253202 0.29285693 0.29432651 0.25037757 0.75463335\n",
            "  0.25290289 0.19916524 0.65190099 0.24932136]\n",
            " [0.76991318 0.554503   0.13166804 0.36607947 0.12809321 0.30920371\n",
            "  0.88474276 0.97710205 0.25861786 0.98286433 0.54719747 1.00110829\n",
            "  0.86420859 0.46760179 0.92627912 0.01877155 0.2852287  0.09783265\n",
            "  0.44086524 0.63607628 0.1661828  0.57357372 0.28555605 0.8946475\n",
            "  1.11108306 0.32994638 0.51615976 0.71775767 0.6332866  0.59323043\n",
            "  0.18908585 0.13819518 0.50638083 0.59345034 0.89794419 0.7719594\n",
            "  0.25948963 0.89839327 0.64117387 0.32633234 0.84653679 0.65746311\n",
            "  0.         0.73975934 0.93440783 0.65396779 0.05711901 0.81676781\n",
            "  0.47947966 0.98774217 0.71781527 0.89534476 0.54640948 0.79755603\n",
            "  0.94967034 0.81430448 0.1391012  0.61246266 0.44617797 0.59724804\n",
            "  0.99940856 0.85650861 0.33995838 0.64788202 0.83228203 0.74301152\n",
            "  0.87582618 0.67326568 0.43643975 0.74043489 0.66078232 0.9067778\n",
            "  0.32855828 0.11259095 0.64692148 0.30193201 0.45167889 0.34446263\n",
            "  0.74615414 0.97599103 0.70080102 0.84327357 0.93626994 0.79041868\n",
            "  0.4304639  0.5156358  0.28862854 0.74484874 0.71751184 0.46935532\n",
            "  1.10641623 0.14045101 0.80452486 0.38304602 0.41380868 0.19834135\n",
            "  0.55620335 0.77151889 0.07084719 0.90567631]\n",
            " [0.5351041  0.47853769 0.7325484  0.3979885  0.61173739 0.60636726\n",
            "  0.34182526 0.2432909  0.49442842 0.32892023 0.30307094 0.34350585\n",
            "  0.41660393 0.4193245  0.32544481 0.72247111 0.4756137  0.77263688\n",
            "  0.36705806 0.11104036 0.60294911 0.21690979 0.74589935 0.15541133\n",
            "  0.41609986 0.52267166 0.2821767  0.17146852 0.36963145 0.43646213\n",
            "  0.72886778 0.78112983 0.23430475 0.21235196 0.40247766 0.40562721\n",
            "  0.59905752 0.16168313 0.28680425 0.62042822 0.39828303 0.14476697\n",
            "  0.73975934 0.         0.19518422 0.68626364 0.69057783 0.45771829\n",
            "  0.4680097  0.36711882 0.48132348 0.34969357 0.70520638 0.29377749\n",
            "  0.38472724 0.2835764  0.8342313  0.12729795 0.36976582 0.252473\n",
            "  0.25997882 0.122085   0.53604872 0.37897243 0.13070323 0.09947775\n",
            "  0.36138188 0.50729358 0.50652998 0.40402088 0.4174355  0.16723895\n",
            "  0.43040764 0.82320223 0.30945247 0.6741362  0.58391532 0.73645321\n",
            "  0.09231386 0.25726903 0.4871451  0.14114783 0.32368341 0.28108509\n",
            "  0.68145578 0.38424992 0.45184761 0.24551696 0.30150684 0.32596713\n",
            "  0.3854798  0.67999102 0.40263603 0.41036056 0.36103641 0.86103721\n",
            "  0.2292908  0.05458197 0.72176431 0.2337024 ]\n",
            " [0.60925657 0.61538701 0.92245264 0.59151769 0.80632707 0.78305849\n",
            "  0.33606986 0.06094414 0.68627084 0.26990005 0.46133837 0.27539598\n",
            "  0.43736166 0.59539032 0.28387748 0.9169866  0.66594977 0.96454458\n",
            "  0.5438653  0.30392944 0.79788477 0.39858367 0.92415371 0.03979142\n",
            "  0.28894748 0.70123419 0.45592688 0.29843648 0.50927704 0.58430276\n",
            "  0.91513928 0.9711723  0.4294839  0.38830658 0.4020738  0.46921735\n",
            "  0.78980806 0.04081291 0.43100424 0.80556353 0.45479039 0.3019349\n",
            "  0.93440783 0.19518422 0.         0.82610978 0.88562357 0.50639459\n",
            "  0.62333552 0.32512216 0.56971054 0.36963205 0.86462421 0.33792037\n",
            "  0.3787221  0.316256   1.02582247 0.32224033 0.54475456 0.41797831\n",
            "  0.06503428 0.0957439  0.71214595 0.51359197 0.13510459 0.22925104\n",
            "  0.39598715 0.63433009 0.68219543 0.48099408 0.54706487 0.03769897\n",
            "  0.62473217 1.01582825 0.44904996 0.86075851 0.7398439  0.90824049\n",
            "  0.22216987 0.10640336 0.60581602 0.12980893 0.27300273 0.32919229\n",
            "  0.85582133 0.5538374  0.64607572 0.34659558 0.41333024 0.50358906\n",
            "  0.22911889 0.87447465 0.4511468  0.59281094 0.54575357 1.04999456\n",
            "  0.41338799 0.17524595 0.91694005 0.17148367]\n",
            " [1.09384812 0.92056586 0.76001753 0.46292251 0.60099603 0.81998329\n",
            "  1.01135078 0.88693027 0.63155651 0.68117795 0.77488164 0.69546394\n",
            "  1.05985888 0.31948224 1.00808424 0.65137827 0.64784155 0.74878421\n",
            "  0.72319884 0.59877828 0.51296796 0.4884677  0.88880672 0.79643533\n",
            "  0.8160512  0.76727264 0.71768219 0.53052058 0.31900813 0.25003277\n",
            "  0.80440805 0.78591383 0.56577397 0.48333107 1.06239367 1.00863729\n",
            "  0.40144723 0.81341944 0.40103467 0.3282261  0.43677773 0.73720495\n",
            "  0.65396779 0.68626364 0.82610978 0.         0.60474316 1.06707501\n",
            "  0.85501538 0.64754196 1.02936265 0.53575313 0.12367604 0.94161405\n",
            "  0.5746275  0.94126284 0.79207386 0.62045709 0.7329541  0.43704931\n",
            "  0.87333127 0.73177589 0.78925397 0.31292932 0.81635966 0.60589951\n",
            "  0.50186729 0.19553881 0.2676334  0.99036382 0.27924806 0.78841669\n",
            "  0.47478886 0.7638661  0.38009405 0.3562788  0.9169641  0.92874793\n",
            "  0.61395586 0.92225614 0.23056926 0.82626856 1.008015   0.92897503\n",
            "  0.23143143 0.32501274 0.57653    0.48121762 0.41449798 0.7095248\n",
            "  0.86167773 0.51355421 1.02306702 0.70170599 0.67562304 0.85230448\n",
            "  0.48430548 0.66905386 0.58547754 0.91962097]\n",
            " [0.75314178 0.53738229 0.16134349 0.31105017 0.08454941 0.30696173\n",
            "  0.85034644 0.92973379 0.22142671 0.92767308 0.51286086 0.94592711\n",
            "  0.83553378 0.41052435 0.88904418 0.04792408 0.24975665 0.14425342\n",
            "  0.40728161 0.58532258 0.10908697 0.51926364 0.30939014 0.8458329\n",
            "  1.05675819 0.31282345 0.47781406 0.66304454 0.57617046 0.53654714\n",
            "  0.21439197 0.18133635 0.45646502 0.53879949 0.86701427 0.74545436\n",
            "  0.20624698 0.850281   0.58450503 0.27652201 0.78943508 0.61427388\n",
            "  0.05711901 0.69057783 0.88562357 0.60474316 0.         0.79262407\n",
            "  0.46069297 0.93177728 0.6983814  0.83871154 0.5007193  0.7629315\n",
            "  0.89303637 0.77860124 0.19334599 0.56338424 0.41345881 0.54137015\n",
            "  0.95052639 0.80596185 0.32600164 0.59078106 0.78689256 0.69027669\n",
            "  0.81897998 0.61758345 0.38085233 0.71458435 0.60387075 0.85717703\n",
            "  0.27366438 0.16830803 0.59002069 0.25809568 0.44686652 0.36381768\n",
            "  0.69365228 0.93057014 0.64462432 0.79801137 0.89843997 0.75517547\n",
            "  0.3855066  0.458517   0.24245503 0.68874308 0.66068943 0.43257648\n",
            "  1.05362741 0.09562676 0.77689319 0.35025958 0.37602887 0.24993788\n",
            "  0.50189869 0.72064181 0.04879844 0.86335622]\n",
            " [0.11654526 0.27331703 0.73521808 0.63855081 0.71139143 0.53474056\n",
            "  0.18592003 0.49141739 0.5779609  0.75690012 0.3066174  0.76708874\n",
            "  0.08670619 0.75202003 0.25484781 0.79835546 0.5486816  0.79262689\n",
            "  0.39708578 0.49251522 0.76013695 0.58784827 0.65336805 0.48959206\n",
            "  0.79525911 0.48859358 0.36113617 0.62034192 0.78104645 0.8282415\n",
            "  0.69766778 0.77714783 0.50170955 0.59930389 0.13830783 0.05844451\n",
            "  0.82177094 0.47280536 0.70498304 0.87908141 0.85460538 0.34325049\n",
            "  0.81676781 0.45771829 0.50639459 1.06707501 0.79262407 0.\n",
            "  0.34065479 0.80534524 0.11780086 0.80585242 1.04551117 0.17162806\n",
            "  0.83649718 0.19086877 0.84085743 0.45908119 0.38879739 0.64825692\n",
            "  0.54290149 0.52278    0.48240066 0.79493585 0.38523164 0.55605478\n",
            "  0.81897707 0.91915901 0.82459293 0.08130728 0.83456813 0.51607315\n",
            "  0.64795596 0.84593999 0.72910818 0.91599842 0.41343272 0.60754366\n",
            "  0.54942686 0.44436903 0.90913052 0.38526458 0.27067852 0.18260076\n",
            "  0.9800479  0.74215297 0.58697478 0.69705449 0.74379449 0.38767575\n",
            "  0.73015202 0.83722447 0.05640824 0.44864269 0.44052506 0.83407411\n",
            "  0.58803307 0.50723688 0.83947801 0.34293396]\n",
            " [0.29258577 0.07754291 0.3947764  0.39220972 0.38394452 0.19740743\n",
            "  0.44423633 0.64230408 0.26224015 0.79330054 0.16524327 0.80894176\n",
            "  0.39871131 0.54052611 0.50098328 0.46141563 0.23493314 0.4520039\n",
            "  0.13836838 0.42097431 0.44727282 0.45640662 0.32860311 0.58916612\n",
            "  0.88295903 0.14954073 0.19424899 0.56283826 0.63587106 0.65393641\n",
            "  0.35953802 0.43753948 0.33866802 0.4769504  0.4399233  0.30198276\n",
            "  0.53048843 0.58252285 0.58294201 0.59982277 0.78654739 0.32733306\n",
            "  0.47947966 0.4680097  0.62333552 0.85501538 0.46069297 0.34065479\n",
            "  0.         0.82494239 0.23837242 0.77859031 0.80163018 0.36426212\n",
            "  0.82493109 0.3867155  0.50116202 0.3784778  0.12952433 0.51733725\n",
            "  0.68249365 0.5836924  0.14180064 0.6528051  0.49108011 0.53412883\n",
            "  0.7773546  0.75470819 0.58934272 0.26939909 0.6876992  0.61130341\n",
            "  0.38464407 0.50544049 0.60367426 0.62460939 0.11681876 0.2962036\n",
            "  0.53167599 0.61827339 0.75889865 0.49896399 0.51443036 0.36183312\n",
            "  0.71385026 0.55288456 0.29390127 0.63029294 0.64886203 0.16788747\n",
            "  0.8440925  0.51782311 0.33715406 0.15425361 0.18214217 0.49843227\n",
            "  0.44652894 0.52047872 0.50889262 0.52289754]\n",
            " [0.89475928 0.843242   1.01882802 0.62251223 0.86844441 0.93532755\n",
            "  0.65194822 0.37211689 0.78416186 0.05680967 0.66329824 0.05944495\n",
            "  0.74730042 0.54326278 0.60636163 0.97362397 0.77442664 1.04603583\n",
            "  0.70720224 0.40733945 0.82629976 0.42144026 1.06729091 0.32580897\n",
            "  0.16914154 0.8516233  0.63169879 0.27911555 0.38968137 0.46106601\n",
            "  1.02982608 1.0647497  0.5213299  0.39964992 0.71834115 0.75910364\n",
            "  0.77401574 0.34566971 0.35174598 0.75747031 0.21103839 0.51118142\n",
            "  0.98774217 0.36711882 0.32512216 0.64754196 0.93177728 0.80534524\n",
            "  0.82494239 0.         0.84461278 0.11300759 0.72640488 0.63392882\n",
            "  0.07694721 0.61662786 1.10718792 0.44853753 0.71228169 0.39050181\n",
            "  0.32977394 0.28277699 0.86876016 0.3823811  0.42167133 0.29089657\n",
            "  0.14606625 0.45765599 0.61326243 0.76271414 0.39580114 0.30100378\n",
            "  0.66005211 1.08942079 0.35237211 0.81458083 0.93781984 1.06960157\n",
            "  0.29327969 0.42679199 0.41947099 0.42338086 0.59656652 0.62274731\n",
            "  0.76134749 0.4917035  0.72662581 0.24319786 0.28245553 0.66763493\n",
            "  0.2279233  0.88755429 0.74893936 0.73777411 0.68700704 1.14690373\n",
            "  0.43828489 0.31254996 0.94824488 0.49267463]\n",
            " [0.06450504 0.16447052 0.62837233 0.58118252 0.61999682 0.42555086\n",
            "  0.28278873 0.56554513 0.49177245 0.80069837 0.25450979 0.8128894\n",
            "  0.19823557 0.71013458 0.35150009 0.69977913 0.46293405 0.68648222\n",
            "  0.3231711  0.48950204 0.67708064 0.56916214 0.53874944 0.546315\n",
            "  0.85635127 0.3878724  0.31168572 0.62851457 0.76359352 0.8013781\n",
            "  0.58784317 0.66851669 0.46763747 0.58425062 0.24889419 0.11132226\n",
            "  0.74937894 0.53228253 0.69369415 0.81247081 0.86544327 0.34618387\n",
            "  0.71781527 0.48132348 0.56971054 1.02936265 0.6983814  0.11780086\n",
            "  0.23837242 0.84461278 0.         0.82953344 0.99507316 0.23640752\n",
            "  0.86604422 0.26066173 0.73215206 0.45052229 0.31382224 0.63209434\n",
            "  0.61494676 0.56764542 0.37885319 0.77886063 0.43847914 0.57380293\n",
            "  0.8380893  0.89736957 0.77509817 0.08996644 0.81762497 0.57240691\n",
            "  0.5844741  0.73897918 0.71730501 0.84429401 0.2983237  0.49121498\n",
            "  0.56831215 0.52448529 0.89229056 0.44139021 0.36728538 0.24283047\n",
            "  0.91986261 0.70811945 0.51057796 0.70461041 0.74295346 0.32475332\n",
            "  0.7983604  0.75108372 0.1440066  0.36725432 0.37044892 0.72210164\n",
            "  0.56587218 0.53480612 0.74629981 0.42056383]\n",
            " [0.88452413 0.80645535 0.93582269 0.53394413 0.77998882 0.86942292\n",
            "  0.67044198 0.4254017  0.70666046 0.14750286 0.62363768 0.16039904\n",
            "  0.75773078 0.44037874 0.63453537 0.88213162 0.70010502 0.95904697\n",
            "  0.6520303  0.35834516 0.73143096 0.34472436 0.99612146 0.35814944\n",
            "  0.28034801 0.78723737 0.58454484 0.21590425 0.28129181 0.35027089\n",
            "  0.95134309 0.98037137 0.45527235 0.32215633 0.735576   0.75493692\n",
            "  0.67195214 0.37881284 0.25421678 0.6508295  0.10169796 0.48507631\n",
            "  0.89534476 0.34969357 0.36963205 0.53575313 0.83871154 0.80585242\n",
            "  0.77859031 0.11300759 0.82953344 0.         0.61339925 0.63791282\n",
            "  0.05432575 0.62409451 1.01936943 0.40109096 0.65826856 0.30275843\n",
            "  0.39218656 0.30087608 0.80584467 0.27261295 0.43586118 0.25606018\n",
            "  0.03423116 0.34482006 0.50603662 0.75368849 0.2836746  0.33765184\n",
            "  0.57105748 1.0000649  0.25054939 0.70753105 0.88707902 1.00390721\n",
            "  0.26128138 0.47595677 0.30682754 0.4404337  0.62710541 0.62573422\n",
            "  0.64991632 0.38888433 0.64640442 0.1570583  0.17929169 0.61457397\n",
            "  0.33003685 0.78872935 0.75011793 0.67546459 0.62569566 1.06226567\n",
            "  0.36029847 0.29864599 0.85196427 0.52255147]\n",
            " [1.05932152 0.87202788 0.65991619 0.41462798 0.50841594 0.74170604\n",
            "  1.01128808 0.92437328 0.55996156 0.75333292 0.74346665 0.76904943\n",
            "  1.04836331 0.29768842 1.01649854 0.54578497 0.58011767 0.64311972\n",
            "  0.67751935 0.60637009 0.4184781  0.49314537 0.79652783 0.83148557\n",
            "  0.89173066 0.6980656  0.68677048 0.56637365 0.35946934 0.28235449\n",
            "  0.70786536 0.68170197 0.54735333 0.49367363 1.0568961  0.98759034\n",
            "  0.30597375 0.84659183 0.43386672 0.22839669 0.52019674 0.73206995\n",
            "  0.54640948 0.70520638 0.86462421 0.12367604 0.5007193  1.04551117\n",
            "  0.80163018 0.72640488 0.99507316 0.61339925 0.         0.93543389\n",
            "  0.65777354 0.93835428 0.68248356 0.62019346 0.68729064 0.45318315\n",
            "  0.91740151 0.76890744 0.71947095 0.35922603 0.83563403 0.6369617\n",
            "  0.58084636 0.27049675 0.2209765  0.96613178 0.3349435  0.82721779\n",
            "  0.41716697 0.65365642 0.41727761 0.2446302  0.85058162 0.84108108\n",
            "  0.64457788 0.9538594  0.30964333 0.84627754 1.01836298 0.92329618\n",
            "  0.11606996 0.32239657 0.51163539 0.5311556  0.46738102 0.67049356\n",
            "  0.92888806 0.40658873 1.0059665  0.64749095 0.62920741 0.74387081\n",
            "  0.48487554 0.69734991 0.47638384 0.93778889]\n",
            " [0.2714803  0.32509405 0.74084652 0.54967805 0.67849173 0.55745908\n",
            "  0.08743159 0.32954264 0.54151239 0.58527613 0.25040469 0.59548184\n",
            "  0.12348555 0.63776352 0.13672782 0.7787876  0.51345019 0.79415852\n",
            "  0.35669266 0.34733448 0.70839499 0.45351692 0.69264375 0.31889313\n",
            "  0.62667964 0.49082501 0.28829725 0.4621613  0.63989777 0.6952261\n",
            "  0.71470303 0.78727917 0.39003122 0.46087033 0.12147895 0.1314046\n",
            "  0.74889878 0.30277247 0.55995317 0.79525361 0.6920114  0.20457376\n",
            "  0.79755603 0.29377749 0.33792037 0.94161405 0.7629315  0.17162806\n",
            "  0.36426212 0.63392882 0.23640752 0.63791282 0.93543389 0.\n",
            "  0.66668339 0.02489377 0.84942696 0.32132923 0.35151776 0.50921722\n",
            "  0.37955738 0.35124642 0.49236194 0.65227271 0.21367157 0.39322481\n",
            "  0.65272106 0.77965488 0.7178575  0.14644122 0.69197943 0.34537461\n",
            "  0.56778219 0.84852315 0.58399301 0.83937113 0.46838241 0.65922391\n",
            "  0.38608538 0.28820779 0.7653256  0.21403374 0.15028314 0.0129793\n",
            "  0.88431573 0.61893965 0.53168837 0.53798808 0.58969719 0.33075406\n",
            "  0.56478473 0.78886281 0.11527194 0.4145242  0.3876619  0.85533406\n",
            "  0.45733773 0.34029928 0.80588271 0.18427834]\n",
            " [0.91939569 0.85007702 0.9896493  0.58808356 0.83419302 0.92058041\n",
            "  0.69331893 0.43068764 0.75970949 0.12657122 0.66771378 0.13429414\n",
            "  0.7842721  0.49401007 0.65301615 0.93644949 0.75265639 1.013197\n",
            "  0.70046655 0.40396561 0.78573199 0.39704898 1.04834647 0.37280536\n",
            "  0.24494052 0.838005   0.63068443 0.26409365 0.33347734 0.40051458\n",
            "  1.00465869 1.03433368 0.50580005 0.37453852 0.75919981 0.78725657\n",
            "  0.725571   0.39334828 0.30853843 0.70317874 0.13821645 0.52425511\n",
            "  0.94967034 0.38472724 0.3787221  0.5746275  0.89303637 0.83649718\n",
            "  0.82493109 0.07694721 0.86604422 0.05432575 0.65777354 0.66668339\n",
            "  0.         0.65140798 1.07357425 0.44654511 0.70642391 0.35659571\n",
            "  0.39245638 0.32096558 0.85631886 0.3240011  0.45929528 0.29595284\n",
            "  0.07936912 0.38764112 0.55828757 0.78782847 0.33240049 0.35005013\n",
            "  0.62523846 1.05433553 0.30461417 0.75966571 0.93474473 1.05511986\n",
            "  0.30027807 0.48367662 0.34886255 0.46269043 0.64448362 0.65485475\n",
            "  0.69889161 0.44258742 0.69978127 0.20995542 0.23335769 0.66238951\n",
            "  0.30458312 0.84276813 0.78035924 0.72563816 0.67555879 1.11626494\n",
            "  0.41289927 0.33167291 0.90619316 0.53973248]\n",
            " [0.29406675 0.34917216 0.76021776 0.55793426 0.69407676 0.5788147\n",
            "  0.07508512 0.30597472 0.55733366 0.5671416  0.26730936 0.57690492\n",
            "  0.13381846 0.64073108 0.1151218  0.79554897 0.52958787 0.81301754\n",
            "  0.37364928 0.34435791 0.72150245 0.45279532 0.7147604  0.29872506\n",
            "  0.60519324 0.51086937 0.3020724  0.45367489 0.63638431 0.693683\n",
            "  0.73512414 0.80693709 0.39526766 0.45897522 0.12187266 0.15421092\n",
            "  0.75883012 0.28201206 0.55561441 0.80328739 0.68098443 0.20628469\n",
            "  0.81430448 0.2835764  0.316256   0.94126284 0.77860124 0.19086877\n",
            "  0.3867155  0.61662786 0.26066173 0.62409451 0.93835428 0.02489377\n",
            "  0.65140798 0.         0.86881202 0.32095198 0.36889421 0.5068597\n",
            "  0.35633927 0.33387383 0.51303606 0.64828961 0.19519315 0.38296183\n",
            "  0.63991103 0.77619437 0.72203417 0.17072618 0.68789667 0.32520511\n",
            "  0.57738102 0.86735862 0.57953211 0.84843666 0.49197826 0.68216746\n",
            "  0.37559735 0.2638246  0.7607072  0.19464906 0.12789157 0.02500017\n",
            "  0.89005618 0.62002811 0.54519112 0.52884772 0.58229109 0.34602967\n",
            "  0.54218336 0.80214556 0.13505951 0.43156371 0.40272045 0.87579749\n",
            "  0.45753654 0.32794122 0.82096671 0.1599027 ]\n",
            " [0.77633857 0.5684804  0.10859481 0.48561639 0.23938144 0.30663587\n",
            "  0.9346619  1.06362497 0.33982023 1.09828023 0.60429152 1.11641485\n",
            "  0.89920334 0.60046587 0.98344643 0.1454881  0.36008885 0.0619371\n",
            "  0.50046674 0.73684928 0.30053737 0.68755985 0.22039568 0.98647032\n",
            "  1.22208466 0.35942489 0.58456164 0.83223034 0.76471093 0.72853088\n",
            "  0.14494442 0.06371343 0.60661943 0.70860858 0.93837525 0.80299815\n",
            "  0.39848095 0.98791673 0.76629034 0.46504589 0.97609522 0.73531115\n",
            "  0.1391012  0.8342313  1.02582247 0.79207386 0.19334599 0.84085743\n",
            "  0.50116202 1.10718792 0.73215206 1.01936943 0.68248356 0.84942696\n",
            "  1.07357425 0.86881202 0.         0.70828127 0.50340692 0.71789347\n",
            "  1.09068976 0.9543993  0.36103525 0.77986495 0.91400737 0.84951595\n",
            "  1.00170678 0.81084613 0.57417336 0.77047097 0.79486534 1.00109715\n",
            "  0.44835271 0.02960494 0.77397207 0.43793744 0.44125591 0.28335333\n",
            "  0.8517833  1.05643548 0.83750921 0.92449559 0.99497761 0.84407394\n",
            "  0.56641627 0.64686419 0.3867934  0.86592767 0.84359074 0.53553405\n",
            "  1.21107878 0.27874274 0.83783582 0.44404812 0.48499088 0.06271148\n",
            "  0.67034866 0.87124339 0.2066396  0.9775228 ]\n",
            " [0.51149798 0.40609039 0.60781487 0.27592793 0.48444816 0.49310708\n",
            "  0.39219383 0.36795771 0.36879152 0.42139879 0.22318502 0.43808835\n",
            "  0.44122334 0.32401237 0.3970792  0.59518846 0.3512933  0.64654645\n",
            "  0.25922161 0.04275114 0.47716741 0.13219122 0.63006814 0.28244928\n",
            "  0.52685519 0.40884858 0.18425717 0.18669856 0.32223791 0.37409874\n",
            "  0.60680497 0.6562236  0.10767724 0.14082225 0.441937   0.40151474\n",
            "  0.48014386 0.28740392 0.24622209 0.50869711 0.41984728 0.11783507\n",
            "  0.61246266 0.12729795 0.32224033 0.62045709 0.56338424 0.45908119\n",
            "  0.3784778  0.44853753 0.45052229 0.40109096 0.62019346 0.32132923\n",
            "  0.44654511 0.32095198 0.70828127 0.         0.26394806 0.1897351\n",
            "  0.38715    0.24611804 0.42433375 0.33589953 0.23553864 0.15850728\n",
            "  0.4022279  0.46112389 0.40857513 0.38977374 0.37557242 0.29440274\n",
            "  0.30642728 0.69667083 0.27028692 0.56008451 0.48969077 0.62596635\n",
            "  0.15747916 0.37532618 0.45006754 0.24698799 0.39989802 0.30862302\n",
            "  0.58136823 0.29961278 0.324686   0.25915103 0.29255607 0.2192316\n",
            "  0.50553084 0.55509022 0.4099382  0.29470444 0.24400499 0.73674155\n",
            "  0.13665657 0.16396257 0.59508801 0.32952898]\n",
            " [0.37659365 0.18772815 0.39524962 0.27308801 0.32961621 0.23840609\n",
            "  0.43859986 0.57375233 0.19290093 0.68500068 0.10170664 0.70147505\n",
            "  0.42343788 0.41554112 0.48221966 0.42740644 0.16396553 0.44589676\n",
            "  0.00979638 0.3049755  0.37160303 0.32867453 0.37940318 0.50747951\n",
            "  0.78486664 0.15680956 0.08892054 0.44256178 0.5063468  0.52549146\n",
            "  0.37732637 0.44312305 0.21060589 0.34972445 0.45359198 0.33711623\n",
            "  0.43619634 0.50460411 0.45434457 0.49867489 0.66066577 0.24320636\n",
            "  0.44617797 0.36976582 0.54475456 0.7329541  0.41345881 0.38879739\n",
            "  0.12952433 0.71228169 0.31382224 0.65826856 0.68729064 0.35151776\n",
            "  0.70642391 0.36889421 0.50340692 0.26394806 0.         0.38877191\n",
            "  0.6076394  0.49065612 0.16752692 0.52328392 0.42096021 0.422396\n",
            "  0.65487951 0.62605205 0.47036026 0.30810744 0.55821417 0.52668251\n",
            "  0.27213005 0.50005617 0.47474111 0.53103924 0.22909193 0.36672759\n",
            "  0.42106151 0.55960282 0.62960095 0.43058665 0.4930555  0.34470957\n",
            "  0.6072203  0.42502018 0.19864647 0.50678255 0.52174216 0.04474679\n",
            "  0.75439034 0.44956814 0.36634455 0.06327835 0.05808493 0.51665746\n",
            "  0.31809428 0.41852992 0.45804141 0.47545162]\n",
            " [0.69475218 0.56256829 0.63307281 0.23238949 0.47867617 0.57657613\n",
            "  0.57538364 0.47599406 0.40557775 0.38785046 0.3871188  0.4060983\n",
            "  0.63032792 0.17912773 0.57112889 0.58314168 0.40117881 0.65716613\n",
            "  0.38073324 0.16260133 0.43666782 0.06334143 0.69764801 0.38246658\n",
            "  0.52121613 0.49729886 0.33509273 0.13163925 0.13282907 0.18747288\n",
            "  0.64920402 0.67777047 0.17875059 0.04896795 0.62862027 0.590401\n",
            "  0.39515318 0.3961338  0.06560481 0.39569601 0.278522   0.30740151\n",
            "  0.59724804 0.252473   0.41797831 0.43704931 0.54137015 0.64825692\n",
            "  0.51733725 0.39050181 0.63209434 0.30275843 0.45318315 0.50921722\n",
            "  0.35659571 0.5068597  0.71789347 0.1897351  0.38877191 0.\n",
            "  0.47557189 0.32292048 0.51740915 0.14722196 0.38315372 0.18890741\n",
            "  0.28857311 0.27139147 0.26487272 0.57716296 0.18658522 0.38156111\n",
            "  0.2698415  0.69944898 0.0871119  0.45264145 0.61450452 0.71002677\n",
            "  0.19582484 0.50192736 0.26134415 0.3936146  0.57134555 0.49636094\n",
            "  0.43786291 0.13587068 0.34433243 0.14805473 0.13718507 0.34977134\n",
            "  0.53044658 0.50125316 0.59962442 0.3911102  0.34492682 0.75974144\n",
            "  0.070834   0.24580449 0.55917183 0.48591791]\n",
            " [0.65031074 0.67092314 0.98713207 0.6553131  0.87133213 0.84569569\n",
            "  0.36426293 0.05212688 0.75120587 0.27297427 0.52210205 0.27419747\n",
            "  0.46834269 0.6540784  0.30443411 0.98200087 0.73074948 1.02945077\n",
            "  0.60702274 0.36798421 0.86230489 0.45981572 0.98690091 0.10476189\n",
            "  0.25945874 0.76432387 0.51897852 0.35159193 0.55952086 0.6356846\n",
            "  0.97929232 1.03585969 0.49426968 0.44844388 0.42830008 0.51054982\n",
            "  0.85242017 0.10336302 0.48368118 0.86628228 0.48431472 0.3644681\n",
            "  0.99940856 0.25997882 0.06503428 0.87333127 0.95052639 0.54290149\n",
            "  0.68249365 0.32977394 0.61494676 0.39218656 0.91740151 0.37955738\n",
            "  0.39245638 0.35633927 1.09068976 0.38715    0.6076394  0.47557189\n",
            "  0.         0.15332443 0.77479883 0.56250914 0.19147634 0.28686104\n",
            "  0.42156867 0.67957576 0.74040279 0.52527067 0.59417909 0.09580755\n",
            "  0.68884523 1.08079614 0.50031581 0.92188308 0.79858438 0.96975769\n",
            "  0.28031262 0.10604079 0.64913901 0.18412031 0.29132483 0.37224985\n",
            "  0.91310088 0.61108042 0.71110207 0.39211536 0.45888731 0.56698204\n",
            "  0.18774523 0.93859592 0.48919257 0.65667409 0.60998798 1.11451452\n",
            "  0.47504653 0.23696558 0.98162424 0.20018832]\n",
            " [0.61491229 0.58726703 0.85359199 0.50548259 0.72884079 0.72794859\n",
            "  0.37239444 0.15572434 0.61484805 0.23449761 0.41852594 0.24568653\n",
            "  0.46513494 0.50100883 0.33369367 0.8395638  0.59677042 0.89265902\n",
            "  0.48829799 0.2206443  0.71434041 0.30682768 0.86775067 0.06526595\n",
            "  0.29987339 0.64442149 0.40240498 0.20287592 0.41417312 0.48883953\n",
            "  0.85075058 0.90208607 0.3502006  0.29513385 0.43838875 0.47765643\n",
            "  0.70022048 0.08412115 0.3353929  0.71299664 0.37585244 0.25641907\n",
            "  0.85650861 0.122085   0.0957439  0.73177589 0.80596185 0.52278\n",
            "  0.5836924  0.28277699 0.56764542 0.30087608 0.76890744 0.35124642\n",
            "  0.32096558 0.33387383 0.9543993  0.24611804 0.49065612 0.32292048\n",
            "  0.15332443 0.         0.65746912 0.41894917 0.13923571 0.13401339\n",
            "  0.32273299 0.54116043 0.58754171 0.48313383 0.45314001 0.05868829\n",
            "  0.53994524 0.94264902 0.3537238  0.76868319 0.70030454 0.85734542\n",
            "  0.12721281 0.19219349 0.51381843 0.14188662 0.32626647 0.34019933\n",
            "  0.76075491 0.4586892  0.57004712 0.25453012 0.3207438  0.44724285\n",
            "  0.26378606 0.78933257 0.4663738  0.53238208 0.48312064 0.98231378\n",
            "  0.32230772 0.0857393  0.83498961 0.22186822]\n",
            " [0.42996074 0.21481257 0.25370659 0.33678707 0.25541675 0.07091261\n",
            "  0.57604932 0.73997456 0.15950945 0.84506611 0.25796402 0.86200582\n",
            "  0.53825176 0.4921813  0.6281562  0.32227505 0.14144272 0.31047356\n",
            "  0.16922851 0.46317504 0.3303516  0.46402458 0.21211596 0.67498245\n",
            "  0.94962526 0.0221433  0.25644695 0.59298432 0.61749935 0.6186478\n",
            "  0.2224952  0.29771572 0.3505937  0.48643136 0.57745777 0.44239345\n",
            "  0.42749475 0.67190493 0.5808426  0.5024829  0.79573774 0.41034951\n",
            "  0.33995838 0.53604872 0.71214595 0.78925397 0.32600164 0.48240066\n",
            "  0.14180064 0.86876016 0.37885319 0.80584467 0.71947095 0.49236194\n",
            "  0.85631886 0.51303606 0.36103525 0.42433375 0.16752692 0.51740915\n",
            "  0.77479883 0.65746912 0.         0.634774   0.58697246 0.58214185\n",
            "  0.79860221 0.7188324  0.52218089 0.40997504 0.66484976 0.69419361\n",
            "  0.31673306 0.36415215 0.5980306  0.51779358 0.13242488 0.20163275\n",
            "  0.58161574 0.72351317 0.73019683 0.59629736 0.64056554 0.48806984\n",
            "  0.62090235 0.51693595 0.2131174  0.65029937 0.65446466 0.21023778\n",
            "  0.92125453 0.39284665 0.47697294 0.13102208 0.18175589 0.36302257\n",
            "  0.45022496 0.58344032 0.37474614 0.6351881 ]\n",
            " [0.84172347 0.70315767 0.70887932 0.31153431 0.54427053 0.68719145\n",
            "  0.71436279 0.57431239 0.50281002 0.40093173 0.53159758 0.4177184\n",
            "  0.77445584 0.180396   0.70404434 0.63687992 0.50537803 0.72241863\n",
            "  0.51456157 0.30515285 0.48169932 0.20972    0.79590228 0.48352148\n",
            "  0.54060926 0.61344659 0.47793082 0.21777085 0.01727875 0.07965379\n",
            "  0.73475053 0.74924702 0.31852498 0.1959303  0.77013377 0.73722893\n",
            "  0.40780321 0.50050221 0.0929273  0.37970553 0.20178064 0.45290559\n",
            "  0.64788202 0.37897243 0.51359197 0.31292932 0.59078106 0.79493585\n",
            "  0.6528051  0.3823811  0.77886063 0.27261295 0.35922603 0.65227271\n",
            "  0.3240011  0.64828961 0.77986495 0.33589953 0.52328392 0.14722196\n",
            "  0.56250914 0.41894917 0.634774   0.         0.50730177 0.29376826\n",
            "  0.24479266 0.12855258 0.23485398 0.72432981 0.03975653 0.47589411\n",
            "  0.34412374 0.75752589 0.06957123 0.43587411 0.74272006 0.81681675\n",
            "  0.30189509 0.60935976 0.11421985 0.51676252 0.70263191 0.63933132\n",
            "  0.37983294 0.13313901 0.43912556 0.17226518 0.10834696 0.48745281\n",
            "  0.57162101 0.52941491 0.74567231 0.51590974 0.47414708 0.82905817\n",
            "  0.21366248 0.35733338 0.59695279 0.61036222]\n",
            " [0.48166829 0.48056995 0.80828378 0.5110708  0.7047663  0.6576966\n",
            "  0.23461803 0.15302423 0.57749787 0.37195468 0.33180221 0.38187676\n",
            "  0.32589968 0.54754375 0.2034495  0.81424491 0.5546731  0.85366872\n",
            "  0.42120346 0.23407831 0.70768846 0.34512246 0.79894925 0.1078838\n",
            "  0.41793788 0.57768093 0.3333862  0.29362966 0.49873066 0.56679735\n",
            "  0.79642884 0.85694969 0.34043472 0.34221459 0.30008716 0.34262805\n",
            "  0.71566063 0.09529102 0.4159682  0.74286712 0.5023003  0.17920268\n",
            "  0.83228203 0.13070323 0.13510459 0.81635966 0.78689256 0.38523164\n",
            "  0.49108011 0.42167133 0.43847914 0.43586118 0.83563403 0.21367157\n",
            "  0.45929528 0.19519315 0.91400737 0.23553864 0.42096021 0.38315372\n",
            "  0.19147634 0.13923571 0.58697246 0.50730177 0.         0.21682059\n",
            "  0.45483666 0.63504065 0.6344257  0.35116912 0.5451214  0.13393013\n",
            "  0.54037982 0.90628315 0.43806588 0.7950646  0.60711014 0.77973581\n",
            "  0.20865684 0.14372347 0.61302374 0.01145301 0.19905296 0.20325724\n",
            "  0.80914462 0.51413975 0.5445199  0.36199071 0.4232056  0.38228056\n",
            "  0.36345835 0.78695573 0.32892768 0.47348512 0.42934945 0.93383501\n",
            "  0.35620756 0.15375867 0.82215464 0.10326382]\n",
            " [0.629661   0.55500366 0.75331837 0.3829492  0.61700525 0.6503036\n",
            "  0.43972729 0.28794686 0.51406871 0.2630112  0.37351432 0.2798664\n",
            "  0.51607923 0.36722032 0.41871568 0.72687184 0.49998375 0.78758694\n",
            "  0.41772873 0.11908856 0.59368082 0.17733953 0.78578787 0.19466897\n",
            "  0.37404228 0.566104   0.34082    0.07703222 0.28689214 0.35918609\n",
            "  0.75713859 0.80101355 0.24447586 0.16325435 0.50128947 0.50301968\n",
            "  0.57130677 0.20968434 0.2055382  0.58060226 0.29898948 0.2290568\n",
            "  0.74301152 0.09947775 0.22925104 0.60589951 0.69027669 0.55605478\n",
            "  0.53412883 0.29089657 0.57380293 0.25606018 0.6369617  0.39322481\n",
            "  0.29595284 0.38296183 0.84951595 0.15850728 0.422396   0.18890741\n",
            "  0.28686104 0.13401339 0.58214185 0.29376826 0.21682059 0.\n",
            "  0.26468448 0.42009133 0.45359723 0.49969567 0.33042743 0.19266547\n",
            "  0.41898025 0.83532934 0.22580976 0.63673018 0.64697063 0.78371398\n",
            "  0.00820086 0.31762295 0.39670438 0.22543063 0.41539365 0.38050961\n",
            "  0.62674725 0.32468942 0.46273498 0.14706812 0.2064373  0.3776598\n",
            "  0.36341232 0.66600498 0.50134478 0.45182681 0.40094364 0.88260613\n",
            "  0.19382658 0.06382487 0.71586843 0.31867174]\n",
            " [0.89433063 0.80831828 0.92034509 0.51723529 0.76247961 0.8608742\n",
            "  0.68888119 0.45294736 0.69405553 0.18169626 0.6254069  0.19461581\n",
            "  0.77372454 0.41664021 0.65551531 0.86304865 0.68881955 0.94183384\n",
            "  0.64825628 0.35959481 0.71105916 0.33512076 0.98527781 0.38218424\n",
            "  0.31418509 0.77950575 0.58401013 0.2155406  0.25462045 0.32114734\n",
            "  0.93769891 0.96423922 0.44878912 0.31256911 0.75342627 0.76694149\n",
            "  0.64801014 0.40276803 0.23542193 0.62423215 0.06759821 0.49229971\n",
            "  0.87582618 0.36138188 0.39598715 0.50186729 0.81897998 0.81897707\n",
            "  0.7773546  0.14606625 0.8380893  0.03423116 0.58084636 0.65272106\n",
            "  0.07936912 0.63991103 1.00170678 0.4022279  0.65487951 0.28857311\n",
            "  0.42156867 0.32273299 0.79860221 0.24479266 0.45483666 0.26468448\n",
            "  0.         0.31163844 0.47932391 0.76430742 0.25323927 0.36283961\n",
            "  0.55397441 0.98175719 0.22905556 0.68059828 0.88396871 0.99512425\n",
            "  0.27065678 0.5023829  0.27340477 0.46006279 0.64867968 0.64033969\n",
            "  0.61976175 0.36544452 0.63289202 0.14854087 0.15833569 0.61176611\n",
            "  0.36420606 0.76628969 0.76363712 0.66894947 0.61980258 1.04590164\n",
            "  0.34990148 0.31243225 0.83068447 0.54454357]\n",
            " [0.96094829 0.81081422 0.75397106 0.38292538 0.58698452 0.76388264\n",
            "  0.84273521 0.69526931 0.57358424 0.48805238 0.64618973 0.50294796\n",
            "  0.90136329 0.22890707 0.83251301 0.66536801 0.58177342 0.75788882\n",
            "  0.61680324 0.43232041 0.51112224 0.33138836 0.85900524 0.60627094\n",
            "  0.62473436 0.69686298 0.59070141 0.34331165 0.13981316 0.10102962\n",
            "  0.78772287 0.78940826 0.4310922  0.32031205 0.89806549 0.86112241\n",
            "  0.41647285 0.62400448 0.22143291 0.36634508 0.24978266 0.57876648\n",
            "  0.67326568 0.50729358 0.63433009 0.19553881 0.61758345 0.91915901\n",
            "  0.75470819 0.45765599 0.89736957 0.34482006 0.27049675 0.77965488\n",
            "  0.38764112 0.77619437 0.81084613 0.46112389 0.62605205 0.27139147\n",
            "  0.67957576 0.54116043 0.7188324  0.12855258 0.63504065 0.42009133\n",
            "  0.31163844 0.         0.2368272  0.84684712 0.08992801 0.59672918\n",
            "  0.40841129 0.78569896 0.19809655 0.41575597 0.83567238 0.8875178\n",
            "  0.42827335 0.732891   0.03925836 0.64432693 0.83097689 0.76674145\n",
            "  0.32623534 0.20307742 0.51118555 0.28793483 0.22108269 0.5941338\n",
            "  0.66733428 0.54146415 0.87095423 0.60960162 0.57292728 0.86534041\n",
            "  0.33238404 0.48388837 0.61353114 0.73790971]\n",
            " [0.83946495 0.65699781 0.52094395 0.19757898 0.35478675 0.55580009\n",
            "  0.79583638 0.7393897  0.36565888 0.62562381 0.52273479 0.64320866\n",
            "  0.82887491 0.08730952 0.80543659 0.42868562 0.3807447  0.52193768\n",
            "  0.46056393 0.40075835 0.27521725 0.28966047 0.6355754  0.6459172\n",
            "  0.76457761 0.50013613 0.46592736 0.3932995  0.22482318 0.16468117\n",
            "  0.55826247 0.55445535 0.32819333 0.29560736 0.83911851 0.76672603\n",
            "  0.18090478 0.65858631 0.27073238 0.14490842 0.43521482 0.51620939\n",
            "  0.43643975 0.50652998 0.68219543 0.2676334  0.38085233 0.82459293\n",
            "  0.58934272 0.61326243 0.77509817 0.50603662 0.2209765  0.7178575\n",
            "  0.55828757 0.72203417 0.57417336 0.40857513 0.47036026 0.26487272\n",
            "  0.74040279 0.58754171 0.52218089 0.23485398 0.6344257  0.45359723\n",
            "  0.47932391 0.2368272  0.         0.74515647 0.23575611 0.64609818\n",
            "  0.20718138 0.54889159 0.26368217 0.20150854 0.6493555  0.67035014\n",
            "  0.4603328  0.76210893 0.26538759 0.64551425 0.80846788 0.70595583\n",
            "  0.1749299  0.13052865 0.30917569 0.38196342 0.33119803 0.45106469\n",
            "  0.78530555 0.30590659 0.78549298 0.43540136 0.41242278 0.62925396\n",
            "  0.27824044 0.50833141 0.3773223  0.73419787]\n",
            " [0.13204533 0.20938011 0.66364927 0.55783155 0.63267664 0.46622153\n",
            "  0.19811871 0.4756921  0.49834338 0.71721005 0.22553705 0.72880674\n",
            "  0.13017319 0.67390659 0.26542633 0.72190224 0.46906086 0.7203585\n",
            "  0.31625291 0.42572503 0.67966289 0.51562653 0.59102196 0.4587292\n",
            "  0.76849491 0.4144772  0.28053698 0.55937678 0.7099152  0.754147\n",
            "  0.62881014 0.70688724 0.42458986 0.52840319 0.17545626 0.03265149\n",
            "  0.74047525 0.44411573 0.63589073 0.79787004 0.79570976 0.27755577\n",
            "  0.74043489 0.40402088 0.48099408 0.99036382 0.71458435 0.08130728\n",
            "  0.26939909 0.76271414 0.08996644 0.75368849 0.96613178 0.14644122\n",
            "  0.78782847 0.17072618 0.77047097 0.38977374 0.30810744 0.57716296\n",
            "  0.52527067 0.48313383 0.40997504 0.72432981 0.35116912 0.49969567\n",
            "  0.76430742 0.84684712 0.74515647 0.         0.76374754 0.48498511\n",
            "  0.56679382 0.77412342 0.65989718 0.8346915  0.35426528 0.54933685\n",
            "  0.49365151 0.43454809 0.83850321 0.35350075 0.2809974  0.15303168\n",
            "  0.89932497 0.66586081 0.5059779  0.63609447 0.67912086 0.30637007\n",
            "  0.70926869 0.75715127 0.06866434 0.36858479 0.35932252 0.76706941\n",
            "  0.51466887 0.45620848 0.76103074 0.33062003]\n",
            " [0.88063273 0.73952627 0.72788539 0.33633427 0.56195438 0.71530967\n",
            "  0.75374136 0.60793999 0.52868163 0.41917085 0.56943538 0.4352872\n",
            "  0.81419919 0.19484633 0.74273417 0.65067578 0.53290553 0.73860206\n",
            "  0.54933828 0.34489908 0.49497792 0.2486898  0.82036699 0.5180593\n",
            "  0.55826037 0.64329663 0.51529499 0.25381681 0.05403332 0.07121709\n",
            "  0.75614587 0.76690176 0.35555035 0.23541228 0.8097266  0.776822\n",
            "  0.41404627 0.53547472 0.1323385  0.37878541 0.20173409 0.49264242\n",
            "  0.66078232 0.4174355  0.54706487 0.27924806 0.60387075 0.83456813\n",
            "  0.6876992  0.39580114 0.81762497 0.2836746  0.3349435  0.69197943\n",
            "  0.33240049 0.68789667 0.79486534 0.37557242 0.55821417 0.18658522\n",
            "  0.59417909 0.45314001 0.66484976 0.03975653 0.5451214  0.33042743\n",
            "  0.25323927 0.08992801 0.23575611 0.76374754 0.         0.50938806\n",
            "  0.3670305  0.77162552 0.10863583 0.43348335 0.77539185 0.84348086\n",
            "  0.33859807 0.64439415 0.07478886 0.55442756 0.74111196 0.67903509\n",
            "  0.36652253 0.15322133 0.46507872 0.20215166 0.13572399 0.52333097\n",
            "  0.59396533 0.537674   0.78539005 0.54838512 0.50791197 0.84575497\n",
            "  0.25194548 0.39418497 0.60696069 0.64801661]\n",
            " [0.61510031 0.6079379  0.89877529 0.55997114 0.77880881 0.76503022\n",
            "  0.3526223  0.09856238 0.66128197 0.24747068 0.4474905  0.25498833\n",
            "  0.45117548 0.55947626 0.30536744 0.88956098 0.64188922 0.93958463\n",
            "  0.52519497 0.27309107 0.76761972 0.36411589 0.90574277 0.0264876\n",
            "  0.28410596 0.68238521 0.43778329 0.26092533 0.47161079 0.54671506\n",
            "  0.89336584 0.94742954 0.40071418 0.35307782 0.41904148 0.47562305\n",
            "  0.75662244 0.04484999 0.39350326 0.77078476 0.4202403  0.28589553\n",
            "  0.9067778  0.16723895 0.03769897 0.78841669 0.85717703 0.51607315\n",
            "  0.61130341 0.30100378 0.57240691 0.33765184 0.82721779 0.34537461\n",
            "  0.35005013 0.32520511 1.00109715 0.29440274 0.52668251 0.38156111\n",
            "  0.09580755 0.05868829 0.69419361 0.47589411 0.13393013 0.19266547\n",
            "  0.36283961 0.59672918 0.64609818 0.48498511 0.50938806 0.\n",
            "  0.59378968 0.99032975 0.41142869 0.8262647  0.72809937 0.89209604\n",
            "  0.18578135 0.14083194 0.56837565 0.13170563 0.295776   0.33564464\n",
            "  0.8194122  0.51735387 0.61905782 0.30907885 0.37576991 0.48448287\n",
            "  0.23357751 0.84349146 0.46012269 0.57227322 0.52420318 1.02690311\n",
            "  0.37927448 0.14115859 0.88746357 0.19167162]\n",
            " [0.64794593 0.45499764 0.36767118 0.03756695 0.20898684 0.35625424\n",
            "  0.65242363 0.67343044 0.16530157 0.654307   0.34135805 0.67255034\n",
            "  0.66605028 0.17950422 0.67641985 0.31386605 0.17598812 0.38801738\n",
            "  0.26247265 0.32086377 0.17480982 0.24576522 0.45351297 0.58517531\n",
            "  0.78313398 0.29459816 0.28830491 0.38938422 0.32761215 0.31108658\n",
            "  0.39078287 0.41054604 0.19994601 0.26513687 0.68509931 0.5920775\n",
            "  0.1815612  0.59207143 0.31868739 0.23123921 0.53206767 0.38397203\n",
            "  0.32855828 0.43040764 0.62473217 0.47478886 0.27366438 0.64795596\n",
            "  0.38464407 0.66005211 0.5844741  0.57105748 0.41716697 0.56778219\n",
            "  0.62523846 0.57738102 0.44835271 0.30642728 0.27213005 0.2698415\n",
            "  0.68884523 0.53994524 0.31673306 0.34412374 0.54037982 0.41898025\n",
            "  0.55397441 0.40841129 0.20718138 0.56679382 0.3670305  0.59378968\n",
            "  0.         0.42961218 0.32800235 0.27183469 0.44238506 0.47929318\n",
            "  0.42287031 0.6816049  0.42467548 0.55181169 0.68280188 0.55735439\n",
            "  0.33540323 0.21383253 0.10415663 0.41787894 0.396347   0.26149805\n",
            "  0.78161226 0.24975348 0.61581167 0.23041055 0.21442746 0.49200949\n",
            "  0.22841988 0.45420671 0.29691809 0.62843774]\n",
            " [0.78490677 0.57474903 0.11074058 0.46706827 0.22100652 0.31390704\n",
            "  0.93435811 1.05490803 0.32969005 1.08175256 0.60148684 1.09993068\n",
            "  0.90209438 0.57766041 0.98159566 0.1209759  0.35161131 0.05436876\n",
            "  0.4965723  0.72402156 0.27669262 0.67104735 0.23915626 0.97632734\n",
            "  1.20693448 0.36074432 0.57912323 0.81577042 0.74259012 0.70468923\n",
            "  0.15619477 0.07455435 0.59362506 0.69179201 0.94016484 0.80652191\n",
            "  0.37195709 0.97835919 0.74645693 0.43734173 0.9547945  0.7281698\n",
            "  0.11259095 0.82320223 1.01582825 0.7638661  0.16830803 0.84593999\n",
            "  0.50544049 1.08942079 0.73897918 1.0000649  0.65365642 0.84852315\n",
            "  1.05433553 0.86735862 0.02960494 0.69667083 0.50005617 0.69944898\n",
            "  1.08079614 0.94264902 0.36415215 0.75752589 0.90628315 0.83532934\n",
            "  0.98175719 0.78569896 0.54889159 0.77412342 0.77162552 0.99032975\n",
            "  0.42961218 0.         0.7534825  0.40921517 0.45170541 0.30230187\n",
            "  0.83783896 1.04921364 0.81292712 0.91690998 0.99279429 0.84276008\n",
            "  0.53760515 0.62474685 0.37325817 0.84749105 0.8234867  0.53036781\n",
            "  1.1977224  0.25097166 0.84095775 0.43944707 0.47840377 0.09231548\n",
            "  0.6537617  0.85890661 0.17842435 0.97226501]\n",
            " [0.77952451 0.6496518  0.69563675 0.29221393 0.53519784 0.65469461\n",
            "  0.64511933 0.50943272 0.47702156 0.36203828 0.47398255 0.37970612\n",
            "  0.70652462 0.19092348 0.63447391 0.63433747 0.475777   0.71462909\n",
            "  0.46651491 0.23755018 0.48200599 0.15020972 0.77086428 0.41766288\n",
            "  0.50089546 0.5773878  0.42219417 0.15106517 0.06108789 0.13541329\n",
            "  0.71649021 0.73840932 0.26544207 0.13320292 0.70132062 0.67172012\n",
            "  0.42211429 0.43407002 0.02415183 0.40634055 0.20444869 0.38623324\n",
            "  0.64692148 0.30945247 0.44904996 0.38009405 0.59002069 0.72910818\n",
            "  0.60367426 0.35237211 0.71730501 0.25054939 0.41727761 0.58399301\n",
            "  0.30461417 0.57953211 0.77397207 0.27028692 0.47474111 0.0871119\n",
            "  0.50031581 0.3537238  0.5980306  0.06957123 0.43806588 0.22580976\n",
            "  0.22905556 0.19809655 0.26368217 0.65989718 0.10863583 0.41142869\n",
            "  0.32800235 0.7534825  0.         0.46372554 0.69906061 0.78690931\n",
            "  0.23386188 0.54270014 0.18133511 0.4476243  0.63308895 0.5710331\n",
            "  0.42431717 0.13934275 0.41407325 0.11915023 0.07126156 0.43638276\n",
            "  0.52383431 0.53818059 0.67906972 0.47408583 0.42925512 0.81962412\n",
            "  0.1576683  0.28901891 0.60179937 0.54120613]\n",
            " [0.90607144 0.70058686 0.41893605 0.2911069  0.27905543 0.525788\n",
            "  0.92352037 0.91498978 0.3642063  0.8256478  0.61041194 0.84338417\n",
            "  0.9374125  0.27623941 0.94491222 0.30196807 0.39010391 0.39900641\n",
            "  0.52196887 0.56354492 0.19108663 0.46220461 0.56155767 0.82269877\n",
            "  0.96403407 0.49828157 0.55907431 0.58410341 0.42627146 0.36246789\n",
            "  0.46954846 0.43807113 0.46072435 0.47372715 0.95693387 0.86117534\n",
            "  0.09491849 0.83306279 0.4687302  0.05749937 0.63474247 0.65106232\n",
            "  0.30193201 0.6741362  0.86075851 0.3562788  0.25809568 0.91599842\n",
            "  0.62460939 0.81458083 0.84429401 0.70753105 0.2446302  0.83937113\n",
            "  0.75966571 0.84843666 0.43793744 0.56008451 0.53103924 0.45264145\n",
            "  0.92188308 0.76868319 0.51779358 0.43587411 0.7950646  0.63673018\n",
            "  0.68059828 0.41575597 0.20150854 0.8346915  0.43348335 0.8262647\n",
            "  0.27183469 0.40921517 0.46372554 0.         0.64993027 0.61070215\n",
            "  0.64264979 0.9311637  0.45033845 0.80647809 0.95046837 0.8287978\n",
            "  0.1285845  0.32627637 0.33399093 0.58069019 0.53227461 0.52834661\n",
            "  0.98116145 0.16286661 0.88615626 0.47792457 0.47625687 0.49924227\n",
            "  0.44744226 0.68553278 0.23176039 0.88908209]\n",
            " [0.33657575 0.14561562 0.34345008 0.45838799 0.38293407 0.14259613\n",
            "  0.5431964  0.75767968 0.29107498 0.90766574 0.28177883 0.92355653\n",
            "  0.48374792 0.61280486 0.60407536 0.43543525 0.27063522 0.40201542\n",
            "  0.23590374 0.53167112 0.46150978 0.55603889 0.24043176 0.70588265\n",
            "  0.99934402 0.15300062 0.30616666 0.67123305 0.72551335 0.73473275\n",
            "  0.29642576 0.37853743 0.43819534 0.57753951 0.52960571 0.38636511\n",
            "  0.55991264 0.69903643 0.67972554 0.63484443 0.88896154 0.44403318\n",
            "  0.45167889 0.58391532 0.7398439  0.9169641  0.44686652 0.41343272\n",
            "  0.11681876 0.93781984 0.2983237  0.88707902 0.85058162 0.46838241\n",
            "  0.93474473 0.49197826 0.44125591 0.48969077 0.22909193 0.61450452\n",
            "  0.79858438 0.70030454 0.13242488 0.74272006 0.60711014 0.64697063\n",
            "  0.88396871 0.83567238 0.6493555  0.35426528 0.77539185 0.72809937\n",
            "  0.44238506 0.45170541 0.69906061 0.64993027 0.         0.19510574\n",
            "  0.64491372 0.73201026 0.84386088 0.6147732  0.61828457 0.46755711\n",
            "  0.75311977 0.63261118 0.34080901 0.73585846 0.7492509  0.27250515\n",
            "  0.96090991 0.52064765 0.42275407 0.22701107 0.26980578 0.42572094\n",
            "  0.5444544  0.63591579 0.49548101 0.63474368]\n",
            " [0.52379458 0.34030235 0.21387473 0.5074341  0.33329388 0.13454934\n",
            "  0.73648124 0.93246128 0.31496432 1.04658075 0.44793437 1.06356453\n",
            "  0.67884798 0.65868741 0.79569856 0.33359119 0.31169271 0.26445171\n",
            "  0.36947911 0.66470194 0.4233243  0.66001665 0.06314891 0.87195283\n",
            "  1.15090263 0.21798848 0.45504164 0.79273231 0.79971556 0.79026472\n",
            "  0.1560992  0.22908128 0.54960933 0.68258379 0.72460838 0.58146754\n",
            "  0.53525334 0.86766016 0.77151062 0.61318064 0.98827648 0.60658854\n",
            "  0.34446263 0.73645321 0.90824049 0.92874793 0.36381768 0.60754366\n",
            "  0.2962036  1.06960157 0.49121498 1.00390721 0.84108108 0.65922391\n",
            "  1.05511986 0.68216746 0.28335333 0.62596635 0.36672759 0.71002677\n",
            "  0.96975769 0.85734542 0.20163275 0.81681675 0.77973581 0.78371398\n",
            "  0.99512425 0.8875178  0.67035014 0.54933685 0.84348086 0.89209604\n",
            "  0.47929318 0.30230187 0.78690931 0.61070215 0.19510574 0.\n",
            "  0.78323299 0.91176604 0.90374398 0.78843774 0.80950229 0.65740333\n",
            "  0.73119924 0.69133038 0.37844071 0.84748495 0.84707091 0.41056079\n",
            "  1.12102328 0.45573642 0.61785227 0.33208348 0.3829713  0.25068929\n",
            "  0.64532464 0.78458045 0.40660598 0.81830183]\n",
            " [0.62384716 0.55149828 0.75509048 0.38703423 0.61989706 0.65003191\n",
            "  0.43197979 0.28060628 0.51570639 0.26397404 0.37041259 0.28061075\n",
            "  0.50882536 0.37381392 0.41064504 0.72991646 0.50121489 0.78984753\n",
            "  0.41656155 0.11911762 0.59764168 0.18242135 0.78596627 0.1872331\n",
            "  0.37275104 0.56579742 0.33875395 0.08523301 0.29494807 0.36708263\n",
            "  0.7582949  0.80288622 0.24607208 0.16897489 0.49369608 0.49662703\n",
            "  0.57654851 0.20201807 0.21348367 0.58663893 0.30597653 0.22417588\n",
            "  0.74615414 0.09231386 0.22216987 0.61395586 0.69365228 0.54942686\n",
            "  0.53167599 0.29327969 0.56831215 0.26128138 0.64457788 0.38608538\n",
            "  0.30027807 0.37559735 0.8517833  0.15747916 0.42106151 0.19582484\n",
            "  0.28031262 0.12721281 0.58161574 0.30189509 0.20865684 0.00820086\n",
            "  0.27065678 0.42827335 0.4603328  0.49365151 0.33859807 0.18578135\n",
            "  0.42287031 0.83783896 0.23386188 0.64264979 0.64491372 0.78323299\n",
            "  0.         0.3097967  0.40490494 0.21724468 0.40727393 0.3733985\n",
            "  0.63368655 0.3316715  0.46499389 0.15491796 0.2145768  0.37631477\n",
            "  0.36032791 0.67036496 0.49459487 0.4515345  0.40068491 0.88438375\n",
            "  0.19870888 0.05563036 0.71967722 0.31047432]\n",
            " [0.55501119 0.59719448 0.95017613 0.651165   0.84848976 0.7937378\n",
            "  0.26195685 0.05575021 0.72085897 0.37054532 0.46589608 0.37396739\n",
            "  0.36663483 0.67479985 0.19954255 0.95793967 0.69768373 0.99637454\n",
            "  0.56058051 0.36762198 0.85043337 0.4732417  0.93461676 0.12693049\n",
            "  0.36538191 0.71556739 0.47352872 0.39179685 0.60362644 0.67676372\n",
            "  0.93654205 0.99875813 0.48190317 0.46656483 0.32452605 0.41668574\n",
            "  0.85450412 0.10891945 0.52303803 0.87766379 0.56082848 0.32113649\n",
            "  0.97599103 0.25726903 0.10640336 0.92225614 0.93057014 0.44436903\n",
            "  0.61827339 0.42679199 0.52448529 0.47595677 0.9538594  0.28820779\n",
            "  0.48367662 0.2638246  1.05643548 0.37532618 0.55960282 0.50192736\n",
            "  0.10604079 0.19219349 0.72351317 0.60935976 0.14372347 0.31762295\n",
            "  0.5023829  0.732891   0.76210893 0.43454809 0.64439415 0.14083194\n",
            "  0.6816049  1.04921364 0.54270014 0.9311637  0.73201026 0.91176604\n",
            "  0.3097967  0.         0.70595951 0.13272519 0.18594051 0.282813\n",
            "  0.93692814 0.63692514 0.6882253  0.44672091 0.51284287 0.52268397\n",
            "  0.29156172 0.92933025 0.39240473 0.61431266 0.57145968 1.0748467\n",
            "  0.48624928 0.25652518 0.96558335 0.10393314]\n",
            " [0.95535577 0.81226107 0.77714674 0.39681242 0.61019997 0.77791262\n",
            "  0.82563042 0.66673486 0.58893196 0.45103418 0.64355271 0.46564401\n",
            "  0.88783684 0.24631022 0.81255047 0.69220393 0.59535155 0.78340569\n",
            "  0.62057276 0.41869554 0.53710051 0.32346162 0.87750331 0.57907321\n",
            "  0.58703051 0.70840355 0.58906461 0.31967295 0.12877985 0.11364417\n",
            "  0.80892645 0.81388816 0.42918482 0.31012676 0.88243592 0.85144347\n",
            "  0.44616194 0.5972907  0.20540391 0.39955754 0.21083953 0.56689782\n",
            "  0.70080102 0.4871451  0.60581602 0.23056926 0.64462432 0.90913052\n",
            "  0.75889865 0.41947099 0.89229056 0.30682754 0.30964333 0.7653256\n",
            "  0.34886255 0.7607072  0.83750921 0.45006754 0.62960095 0.26134415\n",
            "  0.64913901 0.51381843 0.73019683 0.11421985 0.61302374 0.39670438\n",
            "  0.27340477 0.03925836 0.26538759 0.83850321 0.07478886 0.56837565\n",
            "  0.42467548 0.81292712 0.18133511 0.45033845 0.84386088 0.90374398\n",
            "  0.40490494 0.70595951 0.         0.62195241 0.81036809 0.75236458\n",
            "  0.36428077 0.21348718 0.52582726 0.25939275 0.19313884 0.59573915\n",
            "  0.6311385  0.57122826 0.85972476 0.61700879 0.57811167 0.89090193\n",
            "  0.32648757 0.46047217 0.64269168 0.71534149]\n",
            " [0.48340045 0.48705839 0.81863736 0.52252225 0.71580819 0.66696223\n",
            "  0.23065228 0.14403102 0.58826668 0.37289645 0.34056279 0.38234948\n",
            "  0.3239244  0.55859065 0.19662317 0.82521619 0.56531174 0.86422879\n",
            "  0.43097    0.24529561 0.71902586 0.35612511 0.80818936 0.10532197\n",
            "  0.41503898 0.58722857 0.34326728 0.30237772 0.50837864 0.57684048\n",
            "  0.80641441 0.86728692 0.3518678  0.35299078 0.2965307  0.34393974\n",
            "  0.72711242 0.09100985 0.42566887 0.75424553 0.50850929 0.1894185\n",
            "  0.84327357 0.14114783 0.12980893 0.82626856 0.79801137 0.38526458\n",
            "  0.49896399 0.42338086 0.44139021 0.4404337  0.84627754 0.21403374\n",
            "  0.46269043 0.19464906 0.92449559 0.24698799 0.43058665 0.3936146\n",
            "  0.18412031 0.14188662 0.59629736 0.51676252 0.01145301 0.22543063\n",
            "  0.46006279 0.64432693 0.64551425 0.35350075 0.55442756 0.13170563\n",
            "  0.55181169 0.91690998 0.4476243  0.80647809 0.6147732  0.78843774\n",
            "  0.21724468 0.13272519 0.62195241 0.         0.19154078 0.20405945\n",
            "  0.8202652  0.52493607 0.55561412 0.36988759 0.43163602 0.39223984\n",
            "  0.35879079 0.79832439 0.32910003 0.48356281 0.43971666 0.94400693\n",
            "  0.3673215  0.16201498 0.83337802 0.09360127]\n",
            " [0.38609021 0.47424766 0.88642245 0.65959887 0.81393391 0.70664027\n",
            "  0.08530275 0.23952973 0.6780854  0.54222523 0.39140752 0.54830965\n",
            "  0.18707549 0.72366367 0.01590527 0.91756745 0.65104494 0.9385215\n",
            "  0.49716002 0.41227024 0.83553531 0.52539563 0.84262014 0.27188721\n",
            "  0.5507091  0.63793444 0.42065671 0.49183727 0.69305005 0.75799331\n",
            "  0.86240373 0.93345307 0.49036235 0.5267133  0.14069901 0.25596363\n",
            "  0.86395879 0.25152374 0.61027798 0.90228788 0.69919975 0.29943376\n",
            "  0.93626994 0.32368341 0.27300273 1.008015   0.89843997 0.27067852\n",
            "  0.51443036 0.59656652 0.36728538 0.62710541 1.01836298 0.15028314\n",
            "  0.64448362 0.12789157 0.99497761 0.39989802 0.4930555  0.57134555\n",
            "  0.29132483 0.32626647 0.64056554 0.70263191 0.19905296 0.41539365\n",
            "  0.64867968 0.83097689 0.80846788 0.2809974  0.74111196 0.295776\n",
            "  0.68280188 0.99279429 0.63308895 0.95046837 0.61828457 0.80950229\n",
            "  0.40727393 0.18594051 0.81036809 0.19154078 0.         0.15288016\n",
            "  0.9807938  0.69613752 0.66102038 0.56103428 0.62181629 0.46691463\n",
            "  0.47746793 0.91633961 0.22510165 0.554954   0.52276792 1.00307826\n",
            "  0.53355344 0.35273408 0.93943172 0.1047791 ]\n",
            " [0.28009532 0.32521035 0.73547923 0.53881073 0.67068211 0.5538146\n",
            "  0.09601259 0.32271589 0.53381579 0.57443125 0.24325739 0.58482438\n",
            "  0.1364246  0.62561153 0.14010129 0.77165677 0.50592742 0.78841048\n",
            "  0.34962175 0.33442216 0.69936615 0.44080072 0.68980306 0.30918731\n",
            "  0.61767215 0.48598494 0.27946825 0.44927498 0.62697739 0.68244955\n",
            "  0.71019241 0.78213718 0.3783063  0.44804515 0.13377752 0.14015666\n",
            "  0.73861129 0.29344654 0.5469963  0.78435099 0.67935041 0.1920719\n",
            "  0.79041868 0.28108509 0.32919229 0.92897503 0.75517547 0.18260076\n",
            "  0.36183312 0.62274731 0.24283047 0.62573422 0.92329618 0.0129793\n",
            "  0.65485475 0.02500017 0.84407394 0.30862302 0.34470957 0.49636094\n",
            "  0.37224985 0.34019933 0.48806984 0.63933132 0.20325724 0.38050961\n",
            "  0.64033969 0.76674145 0.70595583 0.15303168 0.67903509 0.33564464\n",
            "  0.55735439 0.84276008 0.5710331  0.8287978  0.46755711 0.65740333\n",
            "  0.3733985  0.282813   0.75236458 0.20405945 0.15288016 0.\n",
            "  0.87278907 0.6064724  0.52281418 0.52514327 0.57674771 0.32270634\n",
            "  0.55673103 0.77992071 0.12619315 0.40751919 0.3795196  0.85086284\n",
            "  0.4447286  0.32790744 0.79781746 0.17906973]\n",
            " [0.98334385 0.78709084 0.54547345 0.34150261 0.39790536 0.63747809\n",
            "  0.96452281 0.91350594 0.46230964 0.78059373 0.67400636 0.79749261\n",
            "  0.99128351 0.26220067 0.97720979 0.43013418 0.48494674 0.52735819\n",
            "  0.59762482 0.57526915 0.30789634 0.46457098 0.68467921 0.81997971\n",
            "  0.92029617 0.60012343 0.61891231 0.56344158 0.37474937 0.30047142\n",
            "  0.59454265 0.56616398 0.49479286 0.4703672  1.00486103 0.92316731\n",
            "  0.19707001 0.83299032 0.43557998 0.1193682  0.5658306  0.68561048\n",
            "  0.4304639  0.68145578 0.85582133 0.23143143 0.3855066  0.9800479\n",
            "  0.71385026 0.76134749 0.91986261 0.64991632 0.11606996 0.88431573\n",
            "  0.69889161 0.89005618 0.56641627 0.58136823 0.6072203  0.43786291\n",
            "  0.91310088 0.76075491 0.62090235 0.37983294 0.80914462 0.62674725\n",
            "  0.61976175 0.32623534 0.1749299  0.89932497 0.36652253 0.8194122\n",
            "  0.33540323 0.53760515 0.42431717 0.1285845  0.75311977 0.73119924\n",
            "  0.63368655 0.93692814 0.36428077 0.8202652  0.9807938  0.87278907\n",
            "  0.         0.30207319 0.4201688  0.54328944 0.48570591 0.59618765\n",
            "  0.94787469 0.29090829 0.94462454 0.56138523 0.54974113 0.62781045\n",
            "  0.45294373 0.68261578 0.36034458 0.90849734]\n",
            " [0.77241991 0.61134072 0.57613115 0.18390191 0.4111806  0.56456567\n",
            "  0.69178383 0.61182675 0.37636716 0.49989452 0.45400762 0.51775298\n",
            "  0.73573381 0.05159697 0.69452741 0.50427412 0.38197707 0.58928888\n",
            "  0.41560751 0.2839939  0.34953403 0.17077595 0.66727034 0.51829255\n",
            "  0.63788372 0.49508562 0.39721382 0.26280877 0.11785697 0.10212989\n",
            "  0.60321651 0.61618885 0.24155923 0.17195134 0.74021665 0.68370968\n",
            "  0.28308509 0.53175868 0.14248975 0.268777   0.33119576 0.41440251\n",
            "  0.5156358  0.38424992 0.5538374  0.32501274 0.458517   0.74215297\n",
            "  0.55288456 0.4917035  0.70811945 0.38888433 0.32239657 0.61893965\n",
            "  0.44258742 0.62002811 0.64686419 0.29961278 0.42502018 0.13587068\n",
            "  0.61108042 0.4586892  0.51693595 0.13313901 0.51413975 0.32468942\n",
            "  0.36544452 0.20307742 0.13052865 0.66586081 0.15322133 0.51735387\n",
            "  0.21383253 0.62474685 0.13934275 0.32627637 0.63261118 0.69133038\n",
            "  0.3316715  0.63692514 0.21348718 0.52493607 0.69613752 0.6064724\n",
            "  0.30207319 0.         0.31296118 0.25449853 0.21000967 0.39539163\n",
            "  0.65583024 0.40102214 0.69810144 0.40657311 0.37079666 0.69592289\n",
            "  0.16320438 0.3813446  0.46665171 0.61581758]\n",
            " [0.57210871 0.36826924 0.29259725 0.1290778  0.16060574 0.25271836\n",
            "  0.61878924 0.68848609 0.06368813 0.71413716 0.28703407 0.73214207\n",
            "  0.61676976 0.28256108 0.6525026  0.27100501 0.07190574 0.32485973\n",
            "  0.19003204 0.35080248 0.17691875 0.30519384 0.35734791 0.60634962\n",
            "  0.83570985 0.19103018 0.24339381 0.44869885 0.42214285 0.41263799\n",
            "  0.30495251 0.33939315 0.22039714 0.32712898 0.6424901  0.53416614\n",
            "  0.23910921 0.60982422 0.40114892 0.30609147 0.61806974 0.37227143\n",
            "  0.28862854 0.45184761 0.64607572 0.57653    0.24245503 0.58697478\n",
            "  0.29390127 0.72662581 0.51057796 0.64640442 0.51163539 0.53168837\n",
            "  0.69978127 0.54519112 0.3867934  0.324686   0.19864647 0.34433243\n",
            "  0.71110207 0.57004712 0.2131174  0.43912556 0.5445199  0.46273498\n",
            "  0.63289202 0.51118555 0.30917569 0.5059779  0.46507872 0.61905782\n",
            "  0.10415663 0.37325817 0.41407325 0.33399093 0.34080901 0.37844071\n",
            "  0.46499389 0.6882253  0.52582726 0.55561412 0.66102038 0.52281418\n",
            "  0.4201688  0.31296118 0.         0.48987668 0.4785357  0.20354478\n",
            "  0.82454427 0.25718901 0.56182964 0.14397431 0.14754518 0.42142517\n",
            "  0.28844818 0.48586569 0.27977232 0.62156001]\n",
            " [0.76332701 0.66402398 0.78027964 0.38044181 0.62673033 0.71309214\n",
            "  0.58674782 0.40753734 0.54977212 0.24577739 0.48154948 0.26378051\n",
            "  0.66129569 0.30530616 0.56493526 0.73093527 0.54304674 0.80514246\n",
            "  0.50002749 0.21735807 0.58310191 0.1877659  0.83910052 0.31979606\n",
            "  0.3833852  0.63135579 0.43784725 0.07678601 0.17199247 0.24930547\n",
            "  0.79471746 0.82534135 0.3002643  0.165182   0.64796968 0.64233292\n",
            "  0.5335799  0.33824279 0.11201791 0.52319826 0.16111655 0.35921816\n",
            "  0.74484874 0.24551696 0.34659558 0.48121762 0.68874308 0.69705449\n",
            "  0.63029294 0.24319786 0.70461041 0.1570583  0.5311556  0.53798808\n",
            "  0.20995542 0.52884772 0.86592767 0.25915103 0.50678255 0.14805473\n",
            "  0.39211536 0.25453012 0.65029937 0.17226518 0.36199071 0.14706812\n",
            "  0.14854087 0.28793483 0.38196342 0.63609447 0.20215166 0.30907885\n",
            "  0.41787894 0.84749105 0.11915023 0.58069019 0.73585846 0.84748495\n",
            "  0.15491796 0.44672091 0.25939275 0.36988759 0.56103428 0.52514327\n",
            "  0.54328944 0.25449853 0.48987668 0.         0.06686639 0.46396548\n",
            "  0.40469764 0.64499409 0.64339066 0.5204694  0.47126385 0.90738436\n",
            "  0.20324296 0.20835386 0.70509615 0.46199806]\n",
            " [0.80343804 0.68913754 0.76345903 0.35991936 0.60448185 0.71373266\n",
            "  0.64318237 0.47427433 0.54071455 0.29554961 0.50905761 0.31282278\n",
            "  0.71317007 0.26159436 0.6249669  0.70471306 0.53752355 0.78389585\n",
            "  0.51413724 0.25381804 0.55290558 0.19322709 0.83374994 0.38598215\n",
            "  0.43512817 0.63443355 0.46089396 0.13028686 0.11103576 0.18736588\n",
            "  0.7825247  0.80686419 0.31124185 0.17203214 0.70281775 0.6877707\n",
            "  0.49304665 0.4041522  0.07779608 0.475086   0.14133789 0.40171566\n",
            "  0.71751184 0.30150684 0.41333024 0.41449798 0.66068943 0.74379449\n",
            "  0.64886203 0.28245553 0.74295346 0.17929169 0.46738102 0.58969719\n",
            "  0.23335769 0.58229109 0.84359074 0.29255607 0.52174216 0.13718507\n",
            "  0.45888731 0.3207438  0.65446466 0.10834696 0.4232056  0.2064373\n",
            "  0.15833569 0.22108269 0.33119803 0.67912086 0.13572399 0.37576991\n",
            "  0.396347   0.8234867  0.07126156 0.53227461 0.7492509  0.84707091\n",
            "  0.2145768  0.51284287 0.19313884 0.43163602 0.62181629 0.57674771\n",
            "  0.48570591 0.21000967 0.4785357  0.06686639 0.         0.48100517\n",
            "  0.46355955 0.60944098 0.69143716 0.52748439 0.48044031 0.88835141\n",
            "  0.20518599 0.26962635 0.67295694 0.52452926]\n",
            " [0.38887801 0.21670571 0.42826112 0.25644096 0.34804758 0.28084267\n",
            "  0.41817638 0.53451296 0.2114314  0.64025494 0.08352809 0.65673598\n",
            "  0.41336435 0.39035401 0.45700944 0.45065447 0.18413278 0.47665025\n",
            "  0.04109194 0.2603797  0.3802342  0.28855007 0.42127935 0.46586618\n",
            "  0.74058359 0.19790438 0.04918425 0.39873562 0.47072607 0.49428894\n",
            "  0.41417488 0.47664958 0.17102074 0.309066   0.43919466 0.33301729\n",
            "  0.43426661 0.46372385 0.41535797 0.4919794  0.6190585  0.20335372\n",
            "  0.46935532 0.32596713 0.50358906 0.7095248  0.43257648 0.38767575\n",
            "  0.16788747 0.66763493 0.32475332 0.61457397 0.67049356 0.33075406\n",
            "  0.66238951 0.34602967 0.53553405 0.2192316  0.04474679 0.34977134\n",
            "  0.56698204 0.44724285 0.21023778 0.48745281 0.38228056 0.3776598\n",
            "  0.61176611 0.5941338  0.45106469 0.30637007 0.52333097 0.48448287\n",
            "  0.26149805 0.53036781 0.43638276 0.52834661 0.27250515 0.41056079\n",
            "  0.37631477 0.52268397 0.59573915 0.39223984 0.46691463 0.32270634\n",
            "  0.59618765 0.39539163 0.20354478 0.46396548 0.48100517 0.\n",
            "  0.71102873 0.4600062  0.35924831 0.09172672 0.05696206 0.55216589\n",
            "  0.27893735 0.37421283 0.47514418 0.44203911]\n",
            " [0.83618442 0.84143664 1.11260391 0.74510516 0.98021673 0.99171585\n",
            "  0.55194593 0.23978521 0.8731056  0.18255034 0.67960548 0.17104372\n",
            "  0.65608706 0.70500104 0.49108462 1.09023104 0.85664488 1.14915544\n",
            "  0.75208177 0.47438034 0.95592199 0.53690736 1.13137911 0.25744354\n",
            "  0.08423229 0.90812271 0.66599906 0.39919596 0.5743426  0.65091851\n",
            "  1.11226984 1.16078817 0.60446329 0.51947298 0.61566323 0.6961541\n",
            "  0.92527932 0.26816916 0.51464946 0.92377957 0.43173219 0.51735879\n",
            "  1.10641623 0.3854798  0.22911889 0.86167773 1.05362741 0.73015202\n",
            "  0.8440925  0.2279233  0.7983604  0.33003685 0.92888806 0.56478473\n",
            "  0.30458312 0.54218336 1.21107878 0.50553084 0.75439034 0.53044658\n",
            "  0.18774523 0.26378606 0.92125453 0.57162101 0.36345835 0.36341232\n",
            "  0.36420606 0.66733428 0.78530555 0.70926869 0.59396533 0.23357751\n",
            "  0.78161226 1.1977224  0.52383431 0.98116145 0.96090991 1.12102328\n",
            "  0.36032791 0.29156172 0.6311385  0.35879079 0.47746793 0.55673103\n",
            "  0.94787469 0.65583024 0.82454427 0.40469764 0.46355955 0.71102873\n",
            "  0.         1.02643714 0.67599872 0.79575398 0.74615655 1.24175445\n",
            "  0.55405132 0.34159048 1.07847322 0.38782698]\n",
            " [0.80910685 0.59536565 0.25694627 0.28389401 0.1377559  0.38600328\n",
            "  0.87591583 0.92276764 0.25978381 0.88883276 0.54318533 0.90705338\n",
            "  0.87209178 0.35034209 0.90832587 0.13922646 0.28894989 0.23653689\n",
            "  0.44195341 0.57061681 0.08080639 0.48975315 0.40328243 0.83489967\n",
            "  1.02223552 0.37639755 0.50056594 0.62913652 0.51616673 0.46795058\n",
            "  0.3092579  0.27527586 0.44768426 0.50699198 0.89919963 0.78660204\n",
            "  0.1250799  0.84159335 0.53612341 0.1863709  0.73080825 0.62253202\n",
            "  0.14045101 0.67999102 0.87447465 0.51355421 0.09562676 0.83722447\n",
            "  0.51782311 0.88755429 0.75108372 0.78872935 0.40658873 0.78886281\n",
            "  0.84276813 0.80214556 0.27874274 0.55509022 0.44956814 0.50125316\n",
            "  0.93859592 0.78933257 0.39284665 0.52941491 0.78695573 0.66600498\n",
            "  0.76628969 0.54146415 0.30590659 0.75715127 0.537674   0.84349146\n",
            "  0.24975348 0.25097166 0.53818059 0.16286661 0.52064765 0.45573642\n",
            "  0.67036496 0.92933025 0.57122826 0.79832439 0.91633961 0.77992071\n",
            "  0.29090829 0.40102214 0.25718901 0.64499409 0.60944098 0.4600062\n",
            "  1.02643714 0.         0.81580552 0.38860467 0.40332636 0.33875947\n",
            "  0.47276347 0.70362238 0.07308724 0.87092229]\n",
            " [0.16290709 0.27802874 0.73066403 0.60379584 0.6941725  0.53430339\n",
            "  0.13991519 0.43803835 0.55856552 0.70051782 0.27611847 0.71075377\n",
            "  0.06163891 0.7105203  0.2092106  0.78590507 0.52936643 0.78703767\n",
            "  0.37385243 0.44176624 0.7372882  0.54023536 0.65968077 0.43363575\n",
            "  0.74009088 0.48065845 0.32750822 0.5668015  0.73216677 0.78168347\n",
            "  0.69669092 0.77433028 0.45955204 0.55066949 0.10763507 0.03641604\n",
            "  0.79272353 0.41706175 0.65491896 0.8469367  0.8001755  0.29285693\n",
            "  0.80452486 0.40263603 0.4511468  1.02306702 0.77689319 0.05640824\n",
            "  0.33715406 0.74893936 0.1440066  0.75011793 1.0059665  0.11527194\n",
            "  0.78035924 0.13505951 0.83783582 0.4099382  0.36634455 0.59962442\n",
            "  0.48919257 0.4663738  0.47697294 0.74567231 0.32892768 0.50134478\n",
            "  0.76363712 0.87095423 0.78549298 0.06866434 0.78539005 0.46012269\n",
            "  0.61581167 0.84095775 0.67906972 0.88615626 0.42275407 0.61785227\n",
            "  0.49459487 0.39240473 0.85972476 0.32910003 0.22510165 0.12619315\n",
            "  0.94462454 0.69810144 0.56182964 0.64339066 0.69143716 0.35924831\n",
            "  0.67599872 0.81580552 0.         0.42832999 0.41431543 0.83526648\n",
            "  0.54137373 0.45159763 0.82273052 0.28985143]\n",
            " [0.42832733 0.22571454 0.33658942 0.23881479 0.26656134 0.19849746\n",
            "  0.50169758 0.62532148 0.13024775 0.71456334 0.16426743 0.73160702\n",
            "  0.48601086 0.38986121 0.54440099 0.36427584 0.10110404 0.38553676\n",
            "  0.05791618 0.33275371 0.31179627 0.33543388 0.33594949 0.5545863\n",
            "  0.82120246 0.1142772  0.14090611 0.46208605 0.49868105 0.50857888\n",
            "  0.32306587 0.3849409  0.22027931 0.35762641 0.51675519 0.39829937\n",
            "  0.38306715 0.55331631 0.45563598 0.4492518  0.66838725 0.29432651\n",
            "  0.38304602 0.41036056 0.59281094 0.70170599 0.35025958 0.44864269\n",
            "  0.15425361 0.73777411 0.36725432 0.67546459 0.64749095 0.4145242\n",
            "  0.72563816 0.43156371 0.44404812 0.29470444 0.06327835 0.3911102\n",
            "  0.65667409 0.53238208 0.13102208 0.51590974 0.47348512 0.45182681\n",
            "  0.66894947 0.60960162 0.43540136 0.36858479 0.54838512 0.57227322\n",
            "  0.23041055 0.43944707 0.47408583 0.47792457 0.22701107 0.33208348\n",
            "  0.4515345  0.61431266 0.61700879 0.48356281 0.554954   0.40751919\n",
            "  0.56138523 0.40657311 0.14397431 0.5204694  0.52748439 0.09172672\n",
            "  0.79575398 0.38860467 0.42832999 0.         0.05089859 0.46055186\n",
            "  0.32240056 0.45580957 0.39507092 0.53348255]\n",
            " [0.43366335 0.24497728 0.37893435 0.21505093 0.29147987 0.24936282\n",
            "  0.4750741  0.58012911 0.15533561 0.66366486 0.13986246 0.6807118\n",
            "  0.46931117 0.35908862 0.51313128 0.39516407 0.12885561 0.42517394\n",
            "  0.04831249 0.28186512 0.32378653 0.28760653 0.38623345 0.50717025\n",
            "  0.77069351 0.16516595 0.10235557 0.41177975 0.45702833 0.47204529\n",
            "  0.36939929 0.42760508 0.17105738 0.30954443 0.49592191 0.38699779\n",
            "  0.38166763 0.50665728 0.41000779 0.44228471 0.62089857 0.25037757\n",
            "  0.41380868 0.36103641 0.54575357 0.67562304 0.37602887 0.44052506\n",
            "  0.18214217 0.68700704 0.37044892 0.62569566 0.62920741 0.3876619\n",
            "  0.67555879 0.40272045 0.48499088 0.24400499 0.05808493 0.34492682\n",
            "  0.60998798 0.48312064 0.18175589 0.47414708 0.42934945 0.40094364\n",
            "  0.61980258 0.57292728 0.41242278 0.35932252 0.50791197 0.52420318\n",
            "  0.21442746 0.47840377 0.42925512 0.47625687 0.26980578 0.3829713\n",
            "  0.40068491 0.57145968 0.57811167 0.43971666 0.52276792 0.3795196\n",
            "  0.54974113 0.37079666 0.14754518 0.47126385 0.48044031 0.05696206\n",
            "  0.74615655 0.40332636 0.41431543 0.05089859 0.         0.50499241\n",
            "  0.27528906 0.40567604 0.41829804 0.49430567]\n",
            " [0.76227494 0.5607651  0.12929329 0.52867045 0.28500939 0.30103528\n",
            "  0.93899917 1.08509594 0.36880167 1.13552922 0.61550744 1.15354928\n",
            "  0.89689106 0.65093403 0.99088359 0.20219124 0.38554746 0.10749863\n",
            "  0.51485995 0.76761272 0.3542228  0.72576272 0.19057046 1.0110403\n",
            "  1.25638224 0.3652386  0.60133266 0.86987689 0.8135146  0.78066712\n",
            "  0.14067764 0.08215768 0.63833141 0.74732721 0.93827225 0.79971998\n",
            "  0.45614569 1.01128877 0.81069321 0.52459908 1.02297826 0.75463335\n",
            "  0.19834135 0.86103721 1.04999456 0.85230448 0.24993788 0.83407411\n",
            "  0.49843227 1.14690373 0.72210164 1.06226567 0.74387081 0.85533406\n",
            "  1.11626494 0.87579749 0.06271148 0.73674155 0.51665746 0.75974144\n",
            "  1.11451452 0.98231378 0.36302257 0.82905817 0.93383501 0.88260613\n",
            "  1.04590164 0.86534041 0.62925396 0.76706941 0.84575497 1.02690311\n",
            "  0.49200949 0.09231548 0.81962412 0.49924227 0.42572094 0.25068929\n",
            "  0.88438375 1.0748467  0.89090193 0.94400693 1.00307826 0.85086284\n",
            "  0.62781045 0.69592289 0.42142517 0.90738436 0.88835141 0.55216589\n",
            "  1.24175445 0.33875947 0.83526648 0.46055186 0.50499241 0.\n",
            "  0.70876215 0.9005668  0.26753138 0.99207846]\n",
            " [0.62910759 0.49207534 0.58054847 0.19142181 0.43304991 0.51122263\n",
            "  0.52881042 0.46770427 0.34712245 0.42801079 0.31805629 0.44617784\n",
            "  0.57590244 0.1915839  0.53162896 0.54092269 0.33981558 0.60885118\n",
            "  0.31014158 0.12266541 0.40201475 0.0173708  0.63589113 0.37525745\n",
            "  0.55490814 0.43059239 0.26509432 0.16201262 0.19796875 0.2403355\n",
            "  0.59255893 0.62660499 0.10791661 0.03868357 0.57827813 0.52977147\n",
            "  0.37814006 0.38587596 0.13642706 0.39263157 0.34598942 0.25290289\n",
            "  0.55620335 0.2292908  0.41338799 0.48430548 0.50189869 0.58803307\n",
            "  0.44652894 0.43828489 0.56587218 0.36029847 0.48487554 0.45733773\n",
            "  0.41289927 0.45753654 0.67034866 0.13665657 0.31809428 0.070834\n",
            "  0.47504653 0.32230772 0.45022496 0.21366248 0.35620756 0.19382658\n",
            "  0.34990148 0.33238404 0.27824044 0.51466887 0.25194548 0.37927448\n",
            "  0.22841988 0.6537617  0.1576683  0.44744226 0.5444544  0.64532464\n",
            "  0.19870888 0.48624928 0.32648757 0.3673215  0.53355344 0.4447286\n",
            "  0.45294373 0.16320438 0.28844818 0.20324296 0.20518599 0.27893735\n",
            "  0.55405132 0.47276347 0.54137373 0.32240056 0.27528906 0.70876215\n",
            "  0.         0.2382528  0.52474261 0.45615269]\n",
            " [0.58772282 0.53269145 0.77154663 0.41979787 0.64403468 0.65325869\n",
            "  0.38086202 0.23110606 0.53226007 0.27467066 0.35599588 0.28950119\n",
            "  0.46172341 0.42123189 0.35659598 0.75469382 0.51521185 0.80940423\n",
            "  0.41522505 0.13544381 0.62861278 0.22334103 0.79175806 0.1377773\n",
            "  0.36637177 0.56919174 0.33216252 0.14082701 0.35009722 0.42146024\n",
            "  0.77068665 0.81987626 0.2655893  0.2134061  0.44380451 0.45645105\n",
            "  0.61547391 0.1504253  0.26820428 0.63032134 0.35366207 0.19916524\n",
            "  0.77151889 0.05458197 0.17524595 0.66905386 0.72064181 0.50723688\n",
            "  0.52047872 0.31254996 0.53480612 0.29864599 0.69734991 0.34029928\n",
            "  0.33167291 0.32794122 0.87124339 0.16396257 0.41852992 0.24580449\n",
            "  0.23696558 0.0857393  0.58344032 0.35733338 0.15375867 0.06382487\n",
            "  0.31243225 0.48388837 0.50833141 0.45620848 0.39418497 0.14115859\n",
            "  0.45420671 0.85890661 0.28901891 0.68553278 0.63591579 0.78458045\n",
            "  0.05563036 0.25652518 0.46047217 0.16201498 0.35273408 0.32790744\n",
            "  0.68261578 0.3813446  0.48586569 0.20835386 0.26962635 0.37421283\n",
            "  0.34159048 0.70362238 0.45159763 0.45580957 0.40567604 0.9005668\n",
            "  0.2382528  0.         0.74935012 0.25501727]\n",
            " [0.80142759 0.58573141 0.19792927 0.33340148 0.12857641 0.35518133\n",
            "  0.89331115 0.96268733 0.26523488 0.94688641 0.5564155  0.96514455\n",
            "  0.88096211 0.41686415 0.93040737 0.07493693 0.29407619 0.16866959\n",
            "  0.4515151  0.61461055 0.12288714 0.54201095 0.35004431 0.87717484\n",
            "  1.07821311 0.36138421 0.5193144  0.68420727 0.58315137 0.53789961\n",
            "  0.25380931 0.20886342 0.48753077 0.56057236 0.91154894 0.79167808\n",
            "  0.19713962 0.8824842  0.59816581 0.25916103 0.7976022  0.65190099\n",
            "  0.07084719 0.72176431 0.91694005 0.58547754 0.04879844 0.83947801\n",
            "  0.50889262 0.94824488 0.74629981 0.85196427 0.47638384 0.80588271\n",
            "  0.90619316 0.82096671 0.2066396  0.59508801 0.45804141 0.55917183\n",
            "  0.98162424 0.83498961 0.37474614 0.59695279 0.82215464 0.71586843\n",
            "  0.83068447 0.61353114 0.3773223  0.76103074 0.60696069 0.88746357\n",
            "  0.29691809 0.17842435 0.60179937 0.23176039 0.49548101 0.40660598\n",
            "  0.71967722 0.96558335 0.64269168 0.83337802 0.93943172 0.79781746\n",
            "  0.36034458 0.46665171 0.27977232 0.70509615 0.67295694 0.47514418\n",
            "  1.07847322 0.07308724 0.82273052 0.39507092 0.41829804 0.26753138\n",
            "  0.52474261 0.74935012 0.         0.90122164]\n",
            " [0.45197845 0.49718697 0.8699632  0.60139912 0.77975813 0.70446389\n",
            "  0.16544108 0.14850375 0.6477013  0.43885224 0.37755787 0.44559493\n",
            "  0.26859939 0.64773646 0.11371086 0.88726361 0.62272067 0.91865374\n",
            "  0.47758593 0.33349804 0.79068005 0.44590314 0.84437831 0.16732924\n",
            "  0.45619252 0.62898914 0.39315269 0.39568632 0.60192932 0.67002199\n",
            "  0.85240304 0.91814977 0.42981185 0.44412159 0.23095346 0.31311981\n",
            "  0.80684087 0.14711819 0.51919084 0.83817208 0.59615784 0.24932136\n",
            "  0.90567631 0.2337024  0.17148367 0.91962097 0.86335622 0.34293396\n",
            "  0.52289754 0.49267463 0.42056383 0.52255147 0.93778889 0.18427834\n",
            "  0.53973248 0.1599027  0.9775228  0.32952898 0.47545162 0.48591791\n",
            "  0.20018832 0.22186822 0.6351881  0.61036222 0.10326382 0.31867174\n",
            "  0.54454357 0.73790971 0.73419787 0.33062003 0.64801661 0.19167162\n",
            "  0.62843774 0.97226501 0.54120613 0.88908209 0.63474368 0.81830183\n",
            "  0.31047432 0.10393314 0.71534149 0.09360127 0.1047791  0.17906973\n",
            "  0.90849734 0.61581758 0.62156001 0.46199806 0.52452926 0.44203911\n",
            "  0.38782698 0.87092229 0.28985143 0.53348255 0.49430567 0.99207846\n",
            "  0.45615269 0.25501727 0.90122164 0.        ]]\n"
          ]
        }
      ],
      "source": [
        "Z = np.random.random((100,2))\n",
        "X,Y = np.atleast_2d(Z[:,0]), np.atleast_2d(Z[:,1])\n",
        "D = np.sqrt( (X-X.T)**2 + (Y-Y.T)**2)\n",
        "print(D)"
      ]
    },
    {
      "cell_type": "markdown",
      "metadata": {
        "id": "wKVcgipH0nJh"
      },
      "source": [
        "#### 53. How to convert a float (32 bits) array into an integer (32 bits) in place? \n",
        "(**hint**: astype(copy=False))"
      ]
    },
    {
      "cell_type": "code",
      "execution_count": 55,
      "metadata": {
        "id": "J2rhiY8S0nJh"
      },
      "outputs": [],
      "source": [
        "Z = np.arange(10, dtype=np.int32)\n",
        "Z = Z.astype(np.float32, copy=False)"
      ]
    },
    {
      "cell_type": "markdown",
      "metadata": {
        "id": "jhLnnw000nJh"
      },
      "source": [
        "#### 54. How to read the following file? (★★☆) \n",
        "(**hint**: np.genfromtxt)"
      ]
    },
    {
      "cell_type": "markdown",
      "metadata": {
        "id": "n28ftSa50nJi"
      },
      "source": [
        "```\n",
        "1, 2, 3, 4, 5\n",
        "6,  ,  , 7, 8\n",
        " ,  , 9,10,11\n",
        "```"
      ]
    },
    {
      "cell_type": "code",
      "execution_count": 56,
      "metadata": {
        "id": "hi9s3Jq20nJi",
        "colab": {
          "base_uri": "https://localhost:8080/"
        },
        "outputId": "20a88545-0b9a-4838-f5d9-b8bad50b86a5"
      },
      "outputs": [
        {
          "output_type": "stream",
          "name": "stdout",
          "text": [
            "[[ 1  2  3  4  5]\n",
            " [ 6 -1 -1  7  8]\n",
            " [-1 -1  9 10 11]]\n"
          ]
        },
        {
          "output_type": "stream",
          "name": "stderr",
          "text": [
            "/usr/local/lib/python3.7/dist-packages/ipykernel_launcher.py:6: DeprecationWarning: `np.int` is a deprecated alias for the builtin `int`. To silence this warning, use `int` by itself. Doing this will not modify any behavior and is safe. When replacing `np.int`, you may wish to use e.g. `np.int64` or `np.int32` to specify the precision. If you wish to review your current use, check the release note link for additional information.\n",
            "Deprecated in NumPy 1.20; for more details and guidance: https://numpy.org/devdocs/release/1.20.0-notes.html#deprecations\n",
            "  \n"
          ]
        }
      ],
      "source": [
        "from io import StringIO\n",
        "s = StringIO('''1, 2, 3, 4, 5\n",
        "                6,  ,  , 7, 8\n",
        "                 ,  , 9,10,11\n",
        "''')\n",
        "Z = np.genfromtxt(s, delimiter=\",\",dtype = np.int)\n",
        "print(Z)"
      ]
    },
    {
      "cell_type": "markdown",
      "metadata": {
        "id": "SMJ7T5cD0nJi"
      },
      "source": [
        "#### 55. What is the equivalent of enumerate for numpy arrays? (★★☆) \n",
        "(**hint**: np.ndenumerate, np.ndindex)"
      ]
    },
    {
      "cell_type": "code",
      "execution_count": 57,
      "metadata": {
        "id": "bD2_c5xD0nJj",
        "colab": {
          "base_uri": "https://localhost:8080/"
        },
        "outputId": "dfb56b96-9cf5-4157-b3c8-aed8bcda8e31"
      },
      "outputs": [
        {
          "output_type": "stream",
          "name": "stdout",
          "text": [
            "(0, 0) 0\n",
            "(0, 1) 1\n",
            "(0, 2) 2\n",
            "(1, 0) 3\n",
            "(1, 1) 4\n",
            "(1, 2) 5\n",
            "(2, 0) 6\n",
            "(2, 1) 7\n",
            "(2, 2) 8\n",
            "(0, 0) 0\n",
            "(0, 1) 1\n",
            "(0, 2) 2\n",
            "(1, 0) 3\n",
            "(1, 1) 4\n",
            "(1, 2) 5\n",
            "(2, 0) 6\n",
            "(2, 1) 7\n",
            "(2, 2) 8\n"
          ]
        }
      ],
      "source": [
        "Z = np.arange(9).reshape(3,3)\n",
        "for index, value in np.ndenumerate(Z):\n",
        "    print(index, value)\n",
        "for index in np.ndindex(Z.shape):\n",
        "    print(index, Z[index])"
      ]
    },
    {
      "cell_type": "markdown",
      "metadata": {
        "id": "Iot1y99L0nJj"
      },
      "source": [
        "#### 56. Generate a generic 2D Gaussian-like array (★★☆) \n",
        "(**hint**: np.meshgrid, np.exp)"
      ]
    },
    {
      "cell_type": "code",
      "execution_count": 58,
      "metadata": {
        "id": "vpCz1DUi0nJj",
        "colab": {
          "base_uri": "https://localhost:8080/"
        },
        "outputId": "9a862a81-9b32-4097-db72-74eb18965d8d"
      },
      "outputs": [
        {
          "output_type": "stream",
          "name": "stdout",
          "text": [
            "[[0.36787944 0.44822088 0.51979489 0.57375342 0.60279818 0.60279818\n",
            "  0.57375342 0.51979489 0.44822088 0.36787944]\n",
            " [0.44822088 0.54610814 0.63331324 0.69905581 0.73444367 0.73444367\n",
            "  0.69905581 0.63331324 0.54610814 0.44822088]\n",
            " [0.51979489 0.63331324 0.73444367 0.81068432 0.85172308 0.85172308\n",
            "  0.81068432 0.73444367 0.63331324 0.51979489]\n",
            " [0.57375342 0.69905581 0.81068432 0.89483932 0.9401382  0.9401382\n",
            "  0.89483932 0.81068432 0.69905581 0.57375342]\n",
            " [0.60279818 0.73444367 0.85172308 0.9401382  0.98773022 0.98773022\n",
            "  0.9401382  0.85172308 0.73444367 0.60279818]\n",
            " [0.60279818 0.73444367 0.85172308 0.9401382  0.98773022 0.98773022\n",
            "  0.9401382  0.85172308 0.73444367 0.60279818]\n",
            " [0.57375342 0.69905581 0.81068432 0.89483932 0.9401382  0.9401382\n",
            "  0.89483932 0.81068432 0.69905581 0.57375342]\n",
            " [0.51979489 0.63331324 0.73444367 0.81068432 0.85172308 0.85172308\n",
            "  0.81068432 0.73444367 0.63331324 0.51979489]\n",
            " [0.44822088 0.54610814 0.63331324 0.69905581 0.73444367 0.73444367\n",
            "  0.69905581 0.63331324 0.54610814 0.44822088]\n",
            " [0.36787944 0.44822088 0.51979489 0.57375342 0.60279818 0.60279818\n",
            "  0.57375342 0.51979489 0.44822088 0.36787944]]\n"
          ]
        }
      ],
      "source": [
        "X, Y = np.meshgrid(np.linspace(-1,1,10), np.linspace(-1,1,10))\n",
        "D = np.sqrt(X*X+Y*Y)\n",
        "sigma, mu = 1.0, 0.0\n",
        "G = np.exp(-( (D-mu)**2 / ( 2.0 * sigma**2 ) ) )\n",
        "print(G)"
      ]
    },
    {
      "cell_type": "markdown",
      "metadata": {
        "id": "UnikPLHW0nJj"
      },
      "source": [
        "#### 57. How to randomly place p elements in a 2D array? (★★☆) \n",
        "(**hint**: np.put, np.random.choice)"
      ]
    },
    {
      "cell_type": "code",
      "execution_count": 59,
      "metadata": {
        "id": "ceFl-cAM0nJk",
        "colab": {
          "base_uri": "https://localhost:8080/"
        },
        "outputId": "0d8fb838-4bb1-499f-f7d1-44ed0d452f10"
      },
      "outputs": [
        {
          "output_type": "stream",
          "name": "stdout",
          "text": [
            "[[ 0.  0.  0.  0.  0.  0.  0.  0.  0.  0.]\n",
            " [ 0.  0.  0.  0.  0.  0.  0.  0.  0.  0.]\n",
            " [ 0.  0.  0.  0.  0.  0.  0.  0.  0.  0.]\n",
            " [ 0.  0.  0.  0.  0.  0.  0.  0.  0.  0.]\n",
            " [ 0.  0.  0.  0. 10. 10.  0.  0.  0.  0.]\n",
            " [ 0.  0.  0.  0.  0.  0.  0.  0.  0.  0.]\n",
            " [ 0.  0.  0.  0.  0.  0.  0. 10.  0.  0.]\n",
            " [ 0.  0.  0.  0.  0.  0.  0.  0.  0.  0.]\n",
            " [ 0.  0.  0.  0.  0.  0.  0.  0.  0.  0.]\n",
            " [ 0.  0.  0.  0.  0.  0.  0.  0.  0.  0.]]\n"
          ]
        }
      ],
      "source": [
        "n = 10\n",
        "p = 3\n",
        "Z = np.zeros((n,n))\n",
        "np.put(Z, np.random.choice(range(n*n), p, replace=False),10)\n",
        "print (Z)"
      ]
    },
    {
      "cell_type": "markdown",
      "metadata": {
        "id": "n7EQ5VWK0nJk"
      },
      "source": [
        "#### 58. Subtract the mean of each row of a matrix (★★☆) \n",
        "(**hint**: mean(axis=,keepdims=))"
      ]
    },
    {
      "cell_type": "code",
      "execution_count": 60,
      "metadata": {
        "id": "8iyxldrR0nJk"
      },
      "outputs": [],
      "source": [
        "X = np.random.rand(5, 10)\n",
        "Y = X - X.mean(axis=1, keepdims=True)"
      ]
    },
    {
      "cell_type": "markdown",
      "metadata": {
        "id": "PDCv0xfd0nJz"
      },
      "source": [
        "#### 59. How to sort an array by the nth column? (★★☆) \n",
        "(**hint**: argsort)"
      ]
    },
    {
      "cell_type": "code",
      "execution_count": 61,
      "metadata": {
        "id": "6zWwO2qA0nJ0",
        "colab": {
          "base_uri": "https://localhost:8080/"
        },
        "outputId": "7a963814-32c5-4532-c490-ac8162d768c7"
      },
      "outputs": [
        {
          "output_type": "stream",
          "name": "stdout",
          "text": [
            "[[5 4 6]\n",
            " [3 1 4]\n",
            " [6 5 9]]\n",
            "[[3 1 4]\n",
            " [5 4 6]\n",
            " [6 5 9]]\n"
          ]
        }
      ],
      "source": [
        "Z = np.random.randint(0,10,(3,3))\n",
        "print(Z)\n",
        "print(Z[Z[:,1].argsort()])"
      ]
    },
    {
      "cell_type": "markdown",
      "metadata": {
        "id": "rHgrcSB30nJ0"
      },
      "source": [
        "#### 60. How to tell if a given 2D array has null columns? (★★☆) \n",
        "(**hint**: any, ~)"
      ]
    },
    {
      "cell_type": "code",
      "execution_count": 62,
      "metadata": {
        "id": "nePizgqE0nJ1",
        "colab": {
          "base_uri": "https://localhost:8080/"
        },
        "outputId": "c486f117-08fd-4551-e7f9-c1afdaeb47c3"
      },
      "outputs": [
        {
          "output_type": "stream",
          "name": "stdout",
          "text": [
            "True\n"
          ]
        }
      ],
      "source": [
        "Z = np.random.randint(0,3,(3,10))\n",
        "print((~Z.any(axis=0)).any())"
      ]
    },
    {
      "cell_type": "markdown",
      "metadata": {
        "id": "TJ2GQyk90nJ1"
      },
      "source": [
        "#### 61. Find the nearest value from a given value in an array (★★☆) \n",
        "(**hint**: np.abs, argmin, flat)"
      ]
    },
    {
      "cell_type": "code",
      "execution_count": 63,
      "metadata": {
        "id": "ZlIOV1As0nJ1",
        "colab": {
          "base_uri": "https://localhost:8080/"
        },
        "outputId": "86265e8d-97e5-4cdf-fd77-f4e5d2d6d2e7"
      },
      "outputs": [
        {
          "output_type": "stream",
          "name": "stdout",
          "text": [
            "0.5055429953315143\n"
          ]
        }
      ],
      "source": [
        "Z = np.random.uniform(0,1,10)\n",
        "z = 0.5\n",
        "m = Z.flat[np.abs(Z - z).argmin()]\n",
        "print(m)"
      ]
    },
    {
      "cell_type": "markdown",
      "metadata": {
        "id": "oHUSUOzV0nJ2"
      },
      "source": [
        "#### 62. Considering two arrays with shape (1,3) and (3,1), how to compute their sum using an iterator? (★★☆) \n",
        "(**hint**: np.nditer)"
      ]
    },
    {
      "cell_type": "code",
      "execution_count": 64,
      "metadata": {
        "id": "4X6QazQ20nJ2",
        "colab": {
          "base_uri": "https://localhost:8080/"
        },
        "outputId": "051c467a-1238-42ef-cd6a-7758d269da60"
      },
      "outputs": [
        {
          "output_type": "stream",
          "name": "stdout",
          "text": [
            "[[0 1 2]\n",
            " [1 2 3]\n",
            " [2 3 4]]\n"
          ]
        }
      ],
      "source": [
        "A = np.arange(3).reshape(3,1)\n",
        "B = np.arange(3).reshape(1,3)\n",
        "it = np.nditer([A,B,None])\n",
        "for x,y,z in it: \n",
        "  z[...] = x + y\n",
        "print(it.operands[2])"
      ]
    },
    {
      "cell_type": "markdown",
      "metadata": {
        "id": "YH8W2oSJ0nJ2"
      },
      "source": [
        "#### 63. Create an array class that has a name attribute (★★☆) \n",
        "(**hint**: class method)"
      ]
    },
    {
      "cell_type": "code",
      "execution_count": 65,
      "metadata": {
        "id": "OWGBS2cu0nJ3",
        "colab": {
          "base_uri": "https://localhost:8080/"
        },
        "outputId": "1cd75772-595a-40d3-bedb-a989e4ca5ac0"
      },
      "outputs": [
        {
          "output_type": "stream",
          "name": "stdout",
          "text": [
            "range_10\n"
          ]
        }
      ],
      "source": [
        "class NamedArray(np.ndarray):\n",
        "    def __new__(cls, array, name=\"no name\"):\n",
        "        obj = np.asarray(array).view(cls)\n",
        "        obj.name = name\n",
        "        return obj\n",
        "    def __array_finalize__(self, obj):\n",
        "        if obj is None: return\n",
        "        self.name = getattr(obj, 'name', \"no name\")\n",
        "\n",
        "Z = NamedArray(np.arange(10), \"range_10\")\n",
        "print (Z.name)"
      ]
    },
    {
      "cell_type": "markdown",
      "metadata": {
        "id": "L_ZTUQwc0nJ3"
      },
      "source": [
        "#### 64. Consider a given vector, how to add 1 to each element indexed by a second vector (be careful with repeated indices)? (★★★) \n",
        "(**hint**: np.bincount | np.add.at)"
      ]
    },
    {
      "cell_type": "code",
      "source": [
        "Z = np.ones(10)\n",
        "I = np.random.randint(0,len(Z),20)\n",
        "Z += np.bincount(I, minlength=len(Z))\n",
        "print(Z)"
      ],
      "metadata": {
        "colab": {
          "base_uri": "https://localhost:8080/"
        },
        "id": "3je9dbVV_RK8",
        "outputId": "de7cea90-c824-4443-8cec-44636c3f3728"
      },
      "execution_count": 66,
      "outputs": [
        {
          "output_type": "stream",
          "name": "stdout",
          "text": [
            "[3. 1. 3. 5. 4. 5. 3. 2. 3. 1.]\n"
          ]
        }
      ]
    },
    {
      "cell_type": "markdown",
      "metadata": {
        "id": "DtLaBi7i0nJ3"
      },
      "source": [
        "#### 65. How to accumulate elements of a vector (X) to an array (F) based on an index list (I)? (★★★) \n",
        "(**hint**: np.bincount)"
      ]
    },
    {
      "cell_type": "code",
      "execution_count": 67,
      "metadata": {
        "id": "e0vCXaXC0nJ4",
        "colab": {
          "base_uri": "https://localhost:8080/"
        },
        "outputId": "2e66b902-b521-4efe-ef9a-a40c769265fa"
      },
      "outputs": [
        {
          "output_type": "stream",
          "name": "stdout",
          "text": [
            "[6. 1. 0. 3. 6. 0. 0. 0. 0. 0. 0. 5.]\n"
          ]
        }
      ],
      "source": [
        "X = [1,2,3,4,5,6]\n",
        "I = [1,4,3,4,11,0]\n",
        "F = np.bincount(I,X)\n",
        "print(F)"
      ]
    },
    {
      "cell_type": "markdown",
      "metadata": {
        "id": "tZnVATrt0nJ4"
      },
      "source": [
        "#### 66. Considering a (w,h,3) image of (dtype=ubyte), compute the number of unique colors (★★★) \n",
        "(**hint**: np.unique)"
      ]
    },
    {
      "cell_type": "code",
      "execution_count": 68,
      "metadata": {
        "id": "mOmvYWMa0nJ4",
        "colab": {
          "base_uri": "https://localhost:8080/"
        },
        "outputId": "37cf22c5-44d3-4425-d6e5-5ce322fb8594"
      },
      "outputs": [
        {
          "output_type": "stream",
          "name": "stdout",
          "text": [
            "64\n"
          ]
        }
      ],
      "source": [
        "w, h = 256, 256\n",
        "I = np.random.randint(0, 4, (h, w, 3)).astype(np.ubyte)\n",
        "colors = np.unique(I.reshape(-1, 3), axis=0)\n",
        "n = len(colors)\n",
        "print(n)"
      ]
    },
    {
      "cell_type": "markdown",
      "metadata": {
        "id": "Rvzp7cgF0nJ5"
      },
      "source": [
        "#### 67. Considering a four dimensions array, how to get sum over the last two axis at once? (★★★) \n",
        "(**hint**: sum(axis=(-2,-1)))"
      ]
    },
    {
      "cell_type": "code",
      "execution_count": 69,
      "metadata": {
        "id": "DM6DHEys0nJ5",
        "colab": {
          "base_uri": "https://localhost:8080/"
        },
        "outputId": "d4035819-f0ba-452d-f861-2dd5f015da96"
      },
      "outputs": [
        {
          "output_type": "stream",
          "name": "stdout",
          "text": [
            "[[59 56 47 36]\n",
            " [47 66 63 65]\n",
            " [53 54 67 51]]\n"
          ]
        }
      ],
      "source": [
        "A = np.random.randint(0,10,(3,4,3,4))\n",
        "sum = A.sum(axis=(-2,-1))\n",
        "print(sum)"
      ]
    },
    {
      "cell_type": "markdown",
      "metadata": {
        "id": "PEvLV_AG0nJ5"
      },
      "source": [
        "#### 68. Considering a one-dimensional vector D, how to compute means of subsets of D using a vector S of same size describing subset  indices? (★★★) \n",
        "(**hint**: np.bincount)"
      ]
    },
    {
      "cell_type": "code",
      "execution_count": 70,
      "metadata": {
        "id": "YzvUPSww0nJ6",
        "colab": {
          "base_uri": "https://localhost:8080/"
        },
        "outputId": "a74e0875-245e-48bd-936b-2cb99e41bb12"
      },
      "outputs": [
        {
          "output_type": "stream",
          "name": "stdout",
          "text": [
            "[       nan 0.196468   0.43416093        nan 0.62867397 0.42449781\n",
            " 0.94221708        nan 0.25401218 0.09341981]\n"
          ]
        }
      ],
      "source": [
        "D = np.random.uniform(0,1,10)\n",
        "S = np.random.randint(0,10,10)\n",
        "D_sums = np.bincount(S, weights=D)\n",
        "D_counts = np.bincount(S)\n",
        "D_means = D_sums / D_counts\n",
        "print(D_means)"
      ]
    },
    {
      "cell_type": "markdown",
      "metadata": {
        "id": "JilbDwAq0nJ6"
      },
      "source": [
        "#### 69. How to get the diagonal of a dot product? (★★★) \n",
        "(**hint**: np.diag)"
      ]
    },
    {
      "cell_type": "code",
      "execution_count": 71,
      "metadata": {
        "id": "ki2hLR9X0nJ6",
        "colab": {
          "base_uri": "https://localhost:8080/"
        },
        "outputId": "f7c2c72c-b5d8-4185-c423-f30e63ecada2"
      },
      "outputs": [
        {
          "output_type": "execute_result",
          "data": {
            "text/plain": [
              "array([1.06972958, 1.36395706, 1.50340313, 1.15435102, 1.1060827 ])"
            ]
          },
          "metadata": {},
          "execution_count": 71
        }
      ],
      "source": [
        "A = np.random.uniform(0,1,(5,5))\n",
        "B = np.random.uniform(0,1,(5,5))\n",
        "np.diag(np.dot(A, B))"
      ]
    },
    {
      "cell_type": "markdown",
      "metadata": {
        "id": "wn9rllo70nJ7"
      },
      "source": [
        "#### 70. Consider the vector \\[1, 2, 3, 4, 5\\], how to build a new vector with 3 consecutive zeros interleaved between each value? (★★★) \n",
        "(**hint**: array\\[::4\\])"
      ]
    },
    {
      "cell_type": "code",
      "execution_count": 72,
      "metadata": {
        "id": "F6zvyKYs0nJ7",
        "colab": {
          "base_uri": "https://localhost:8080/"
        },
        "outputId": "754f7a5d-e582-47fc-a385-390fd81bf9fd"
      },
      "outputs": [
        {
          "output_type": "stream",
          "name": "stdout",
          "text": [
            "[1. 0. 0. 0. 2. 0. 0. 0. 3. 0. 0. 0. 4. 0. 0. 0. 5.]\n"
          ]
        }
      ],
      "source": [
        "x = np.array([1,2,3,4,5])\n",
        "n = 3\n",
        "Z = np.zeros(len(x) + (len(x)-1)*(n))\n",
        "Z[::n+1] = x\n",
        "print(Z)"
      ]
    },
    {
      "cell_type": "markdown",
      "metadata": {
        "id": "rkqXki2y0nJ7"
      },
      "source": [
        "#### 71. Consider an array of dimension (5,5,3), how to mulitply it by an array with dimensions (5,5)? (★★★) \n",
        "(**hint**: array\\[:, :, None\\])"
      ]
    },
    {
      "cell_type": "code",
      "execution_count": 73,
      "metadata": {
        "collapsed": true,
        "id": "gNhrlK-t0nJ8",
        "colab": {
          "base_uri": "https://localhost:8080/"
        },
        "outputId": "7be67ee5-82a6-48ed-faff-357176667ea0"
      },
      "outputs": [
        {
          "output_type": "stream",
          "name": "stdout",
          "text": [
            "[[[10. 10. 10.]\n",
            "  [10. 10. 10.]\n",
            "  [10. 10. 10.]\n",
            "  [10. 10. 10.]\n",
            "  [10. 10. 10.]]\n",
            "\n",
            " [[10. 10. 10.]\n",
            "  [10. 10. 10.]\n",
            "  [10. 10. 10.]\n",
            "  [10. 10. 10.]\n",
            "  [10. 10. 10.]]\n",
            "\n",
            " [[10. 10. 10.]\n",
            "  [10. 10. 10.]\n",
            "  [10. 10. 10.]\n",
            "  [10. 10. 10.]\n",
            "  [10. 10. 10.]]\n",
            "\n",
            " [[10. 10. 10.]\n",
            "  [10. 10. 10.]\n",
            "  [10. 10. 10.]\n",
            "  [10. 10. 10.]\n",
            "  [10. 10. 10.]]\n",
            "\n",
            " [[10. 10. 10.]\n",
            "  [10. 10. 10.]\n",
            "  [10. 10. 10.]\n",
            "  [10. 10. 10.]\n",
            "  [10. 10. 10.]]]\n"
          ]
        }
      ],
      "source": [
        "A = np.ones((5,5,3))\n",
        "B = 10*np.ones((5,5))\n",
        "print(A * B[:,:,None])"
      ]
    },
    {
      "cell_type": "markdown",
      "metadata": {
        "id": "HDGkZTrx0nJ8"
      },
      "source": [
        "#### 72. How to swap two rows of an array? (★★★) \n",
        "(**hint**: array\\[\\[\\]\\] = array\\[\\[\\]\\])"
      ]
    },
    {
      "cell_type": "code",
      "execution_count": 74,
      "metadata": {
        "id": "VC_5459s0nJ8",
        "colab": {
          "base_uri": "https://localhost:8080/"
        },
        "outputId": "fe32ba02-c6a5-40fb-baa9-93ed99a5e792"
      },
      "outputs": [
        {
          "output_type": "stream",
          "name": "stdout",
          "text": [
            "[[ 5  6  7  8  9]\n",
            " [ 0  1  2  3  4]\n",
            " [10 11 12 13 14]\n",
            " [15 16 17 18 19]\n",
            " [20 21 22 23 24]]\n"
          ]
        }
      ],
      "source": [
        "A = np.arange(25).reshape(5,5)\n",
        "A[[0,1]] = A[[1,0]]\n",
        "print(A)"
      ]
    },
    {
      "cell_type": "markdown",
      "metadata": {
        "id": "tUfwCNdR0nJ9"
      },
      "source": [
        "#### 73. Consider a set of 10 triplets describing 10 triangles (with shared vertices), find the set of unique line segments composing all the  triangles (★★★) \n",
        "(**hint**: repeat, np.roll, np.sort, view, np.unique)"
      ]
    },
    {
      "cell_type": "code",
      "execution_count": 75,
      "metadata": {
        "id": "BcmBQ29y0nJ9",
        "colab": {
          "base_uri": "https://localhost:8080/"
        },
        "outputId": "5bb6b9d5-fc5d-473f-8332-761baba16503"
      },
      "outputs": [
        {
          "output_type": "stream",
          "name": "stdout",
          "text": [
            "[( 3, 69) ( 3, 81) ( 5, 54) ( 5, 62) ( 5, 84) (10, 21) (10, 56) (12, 83)\n",
            " (12, 91) (18, 55) (18, 74) (21, 56) (26, 56) (26, 81) (27, 87) (27, 91)\n",
            " (30, 60) (30, 63) (54, 84) (55, 74) (56, 81) (60, 63) (62, 62) (69, 81)\n",
            " (74, 79) (74, 85) (79, 85) (83, 91) (87, 91)]\n"
          ]
        }
      ],
      "source": [
        "faces = np.random.randint(0,100,(10,3))\n",
        "F = np.roll(faces.repeat(2,axis=1),-1,axis=1)\n",
        "F = F.reshape(len(F)*3,2)\n",
        "F = np.sort(F,axis=1)\n",
        "G = F.view( dtype=[('p0',F.dtype),('p1',F.dtype)] )\n",
        "G = np.unique(G)\n",
        "print(G)"
      ]
    },
    {
      "cell_type": "markdown",
      "metadata": {
        "id": "Q9dx7Jsz0nJ9"
      },
      "source": [
        "#### 74. Given an array C that is a bincount, how to produce an array A such that np.bincount(A) == C? (★★★) \n",
        "(**hint**: np.repeat)"
      ]
    },
    {
      "cell_type": "code",
      "execution_count": 76,
      "metadata": {
        "id": "6Ak2e6bn0nJ-",
        "colab": {
          "base_uri": "https://localhost:8080/"
        },
        "outputId": "7e26da80-c50a-45a2-982f-d0a4a0426c91"
      },
      "outputs": [
        {
          "output_type": "stream",
          "name": "stdout",
          "text": [
            "[1 1 2 3 4 4 6]\n"
          ]
        }
      ],
      "source": [
        "C = np.bincount([1,1,2,3,4,4,6])\n",
        "A = np.repeat(np.arange(len(C)), C)\n",
        "print(A)"
      ]
    },
    {
      "cell_type": "markdown",
      "metadata": {
        "id": "1azL_JnH0nJ-"
      },
      "source": [
        "#### 75. How to compute averages using a sliding window over an array? (★★★) \n",
        "(**hint**: np.cumsum)"
      ]
    },
    {
      "cell_type": "code",
      "execution_count": 77,
      "metadata": {
        "id": "rFpWu6W_0nJ-",
        "colab": {
          "base_uri": "https://localhost:8080/"
        },
        "outputId": "a9e7cd22-ad48-4364-e55e-fa7f8a3138c3"
      },
      "outputs": [
        {
          "output_type": "stream",
          "name": "stdout",
          "text": [
            "[ 1.  2.  3.  4.  5.  6.  7.  8.  9. 10. 11. 12. 13. 14. 15. 16. 17. 18.]\n"
          ]
        }
      ],
      "source": [
        "def sliding_avg(a, n=3) :\n",
        "    ret = np.cumsum(a, dtype=float)\n",
        "    ret[n:] = ret[n:] - ret[:-n]\n",
        "    return ret[n - 1:] / n\n",
        "Z = np.arange(20)\n",
        "print(sliding_avg(Z, n=3))"
      ]
    },
    {
      "cell_type": "markdown",
      "metadata": {
        "id": "A4lSLfOu0nJ_"
      },
      "source": [
        "#### 76. Consider a one-dimensional array Z, build a two-dimensional array whose first row is (Z\\[0\\],Z\\[1\\],Z\\[2\\]) and each subsequent row is  shifted by 1 (last row should be (Z\\[-3\\],Z\\[-2\\],Z\\[-1\\]) (★★★) \n",
        "(**hint**: from numpy.lib import stride_tricks)"
      ]
    },
    {
      "cell_type": "code",
      "execution_count": 78,
      "metadata": {
        "id": "8wPRP0qx0nJ_",
        "colab": {
          "base_uri": "https://localhost:8080/"
        },
        "outputId": "2546b42d-5b11-4a8c-c744-6d871f19121b"
      },
      "outputs": [
        {
          "output_type": "stream",
          "name": "stdout",
          "text": [
            "[[0 1 2]\n",
            " [1 2 3]\n",
            " [2 3 4]\n",
            " [3 4 5]\n",
            " [4 5 6]\n",
            " [5 6 7]\n",
            " [6 7 8]\n",
            " [7 8 9]]\n"
          ]
        }
      ],
      "source": [
        "Z = np.arange(10)\n",
        "print(np.lib.stride_tricks.sliding_window_view(Z, window_shape=3))"
      ]
    },
    {
      "cell_type": "markdown",
      "metadata": {
        "id": "GBkIPDro0nJ_"
      },
      "source": [
        "#### 77. How to negate a boolean, or to change the sign of a float inplace? (★★★) \n",
        "(**hint**: np.logical_not, np.negative)"
      ]
    },
    {
      "cell_type": "code",
      "execution_count": 79,
      "metadata": {
        "id": "n_u2kBFc0nKA",
        "colab": {
          "base_uri": "https://localhost:8080/"
        },
        "outputId": "a9702891-e2bb-48a4-fd49-7451f0df0c0e"
      },
      "outputs": [
        {
          "output_type": "stream",
          "name": "stdout",
          "text": [
            "[1 0 1 1 1 1 1 1 1 1]\n",
            "[-0.90143549  0.56897987  0.08547332 -0.53226312  0.19739054  0.35806625\n",
            "  0.68617082 -0.6964622  -0.37656997  0.64985069]\n"
          ]
        }
      ],
      "source": [
        "Z = np.random.randint(0,2,10)\n",
        "print(np.logical_not(Z, out=Z))\n",
        "\n",
        "Z = np.random.uniform(-1.0,1.0,10)\n",
        "print(np.negative(Z, out=Z))"
      ]
    },
    {
      "cell_type": "markdown",
      "metadata": {
        "id": "sCCY0rPt0nKA"
      },
      "source": [
        "#### 78. Consider 2 sets of points P0,P1 describing lines (2d) and a point p, how to compute distance from p to each line i  (P0\\[i\\],P1\\[i\\])? (★★★)"
      ]
    },
    {
      "cell_type": "code",
      "execution_count": 80,
      "metadata": {
        "id": "UP7OeA100nKA",
        "colab": {
          "base_uri": "https://localhost:8080/"
        },
        "outputId": "4b0be4b7-3e6d-42dc-d8ef-f9d29e47f421"
      },
      "outputs": [
        {
          "output_type": "stream",
          "name": "stdout",
          "text": [
            "[ 9.16415477  4.86089905  8.07294709  0.92162316  8.48430922 14.59585734\n",
            "  6.85682365  5.28056239 13.23461137  1.91643064]\n"
          ]
        }
      ],
      "source": [
        "def distance(P0, P1, p):\n",
        "    T = P1 - P0\n",
        "    L = (T**2).sum(axis=1)\n",
        "    U = -((P0[:,0]-p[...,0])*T[:,0] + (P0[:,1]-p[...,1])*T[:,1]) / L\n",
        "    U = U.reshape(len(U),1)\n",
        "    D = P0 + U*T - p\n",
        "    return np.sqrt((D**2).sum(axis=1))\n",
        "\n",
        "P0 = np.random.uniform(-10,10,(10,2))\n",
        "P1 = np.random.uniform(-10,10,(10,2))\n",
        "p  = np.random.uniform(-10,10,( 1,2))\n",
        "print(distance(P0, P1, p))"
      ]
    },
    {
      "cell_type": "markdown",
      "metadata": {
        "id": "0Cbrr4dl0nKB"
      },
      "source": [
        "#### 79. Consider 2 sets of points P0,P1 describing lines (2d) and a set of points P, how to compute distance from each point j (P\\[j\\]) to each line i (P0\\[i\\],P1\\[i\\])? (★★★)"
      ]
    },
    {
      "cell_type": "code",
      "execution_count": 81,
      "metadata": {
        "id": "SoCjotT80nKB",
        "colab": {
          "base_uri": "https://localhost:8080/"
        },
        "outputId": "d456859a-df55-47c1-b261-f8357ce60133"
      },
      "outputs": [
        {
          "output_type": "stream",
          "name": "stdout",
          "text": [
            "[[ 3.57565331  3.20952576  0.14186143  8.4684367   0.78991742  1.19737728\n",
            "   1.80229244  1.80102005  4.99030432  6.2781896 ]\n",
            " [ 8.2009647   6.00470906  7.33227048  0.58573923  0.68287403  7.94089181\n",
            "   4.15952881  6.57305383  3.74155793  9.22166971]\n",
            " [ 3.56157179 13.85274644  5.49247135  1.87133923  7.81305551 15.42690565\n",
            "  11.88693961  6.05163509  9.79660912 17.08749617]\n",
            " [ 2.51000477 13.8991063   4.15534903  3.23964033  8.28694121 14.80594907\n",
            "  11.40896324  4.65208672  8.75966785 17.11080118]\n",
            " [ 6.52953036  0.79634688  2.40168103  6.0439253   2.04641686  0.1125124\n",
            "   3.39750685  0.44184519  5.25244307  3.89407889]\n",
            " [ 4.37408732  2.76621475  0.65664316  7.68319375  0.16103304  1.12287991\n",
            "   1.96455974  1.04021448  4.77054037  5.84600296]\n",
            " [ 3.91424563  8.24055862  2.96856371  4.89130019  3.96419313  8.14788585\n",
            "   4.84510048  2.38167181  2.36105973 11.39553828]\n",
            " [ 8.17328313  5.31127936  6.92814631  1.05355175  0.23735762  6.99523148\n",
            "   3.2530228   6.0224403   2.74820266  8.51677241]\n",
            " [ 7.2603679   1.23453609  3.58081138  4.80055251  2.06562034  0.94837267\n",
            "   2.45995886  1.76244967  3.87756628  4.35564593]\n",
            " [12.53750055  0.39471409  9.96849446  1.68864607  4.84406092  3.25226634\n",
            "   0.84265637  8.33680319  0.48176743  3.62202827]]\n"
          ]
        }
      ],
      "source": [
        "P0 = np.random.uniform(-10, 10, (10,2))\n",
        "P1 = np.random.uniform(-10,10,(10,2))\n",
        "p = np.random.uniform(-10, 10, (10,2))\n",
        "print(np.array([distance(P0,P1,p_i) for p_i in p]))"
      ]
    },
    {
      "cell_type": "markdown",
      "metadata": {
        "id": "yRUPDL1P0nKB"
      },
      "source": [
        "#### 80. Consider an arbitrary array, write a function that extract a subpart with a fixed shape and centered on a given element (pad with a `fill` value when necessary) (★★★) \n",
        "(**hint**: minimum, maximum)"
      ]
    },
    {
      "cell_type": "code",
      "execution_count": 82,
      "metadata": {
        "id": "asaUJRS80nKB",
        "colab": {
          "base_uri": "https://localhost:8080/"
        },
        "outputId": "a884a2da-9f91-4c7b-d74e-518d62373f4d"
      },
      "outputs": [
        {
          "output_type": "stream",
          "name": "stdout",
          "text": [
            "[[0 6 7 5 3 0 7 4 1 1]\n",
            " [8 2 7 4 2 8 2 7 2 8]\n",
            " [8 9 5 5 6 7 8 0 4 4]\n",
            " [0 3 9 1 7 7 3 0 8 6]\n",
            " [2 6 9 8 6 9 6 4 6 8]\n",
            " [2 6 9 6 4 7 5 9 6 4]\n",
            " [6 9 9 9 2 7 9 2 1 5]\n",
            " [1 5 9 3 2 7 8 2 6 7]\n",
            " [3 3 8 9 8 2 0 2 0 5]\n",
            " [9 8 5 7 9 6 3 7 5 2]]\n",
            "[[0 0 0 0 0]\n",
            " [0 0 6 7 5]\n",
            " [0 8 2 7 4]\n",
            " [0 8 9 5 5]\n",
            " [0 0 3 9 1]]\n"
          ]
        },
        {
          "output_type": "stream",
          "name": "stderr",
          "text": [
            "/usr/local/lib/python3.7/dist-packages/ipykernel_launcher.py:23: FutureWarning: Using a non-tuple sequence for multidimensional indexing is deprecated; use `arr[tuple(seq)]` instead of `arr[seq]`. In the future this will be interpreted as an array index, `arr[np.array(seq)]`, which will result either in an error or a different result.\n"
          ]
        }
      ],
      "source": [
        "Z = np.random.randint(0,10,(10,10))\n",
        "shape = (5,5)\n",
        "fill  = 0\n",
        "position = (1,1)\n",
        "\n",
        "R = np.ones(shape, dtype=Z.dtype)*fill\n",
        "P  = np.array(list(position)).astype(int)\n",
        "Rs = np.array(list(R.shape)).astype(int)\n",
        "Zs = np.array(list(Z.shape)).astype(int)\n",
        "\n",
        "R_start = np.zeros((len(shape),)).astype(int)\n",
        "R_stop  = np.array(list(shape)).astype(int)\n",
        "Z_start = (P-Rs//2)\n",
        "Z_stop  = (P+Rs//2)+Rs%2\n",
        "\n",
        "R_start = (R_start - np.minimum(Z_start,0)).tolist()\n",
        "Z_start = (np.maximum(Z_start,0)).tolist()\n",
        "R_stop = np.maximum(R_start, (R_stop - np.maximum(Z_stop-Zs,0))).tolist()\n",
        "Z_stop = (np.minimum(Z_stop,Zs)).tolist()\n",
        "\n",
        "r = [slice(start,stop) for start,stop in zip(R_start,R_stop)]\n",
        "z = [slice(start,stop) for start,stop in zip(Z_start,Z_stop)]\n",
        "R[r] = Z[z]\n",
        "print(Z)\n",
        "print(R)"
      ]
    },
    {
      "cell_type": "markdown",
      "metadata": {
        "id": "-rGJsWMO0nKC"
      },
      "source": [
        "#### 81. Consider an array Z = \\[1,2,3,4,5,6,7,8,9,10,11,12,13,14\\], how to generate an array R = \\[\\[1,2,3,4\\], \\[2,3,4,5\\], \\[3,4,5,6\\], ..., \\[11,12,13,14\\]\\]? (★★★) \n",
        "(**hint**: stride\\_tricks.as\\_strided)"
      ]
    },
    {
      "cell_type": "code",
      "execution_count": 83,
      "metadata": {
        "id": "pS8LQ9oh0nKC",
        "colab": {
          "base_uri": "https://localhost:8080/"
        },
        "outputId": "cd985c54-9c2f-41a9-b2b3-d3bd170c9322"
      },
      "outputs": [
        {
          "output_type": "stream",
          "name": "stdout",
          "text": [
            "[[ 1  2  3  4]\n",
            " [ 2  3  4  5]\n",
            " [ 3  4  5  6]\n",
            " [ 4  5  6  7]\n",
            " [ 5  6  7  8]\n",
            " [ 6  7  8  9]\n",
            " [ 7  8  9 10]\n",
            " [ 8  9 10 11]\n",
            " [ 9 10 11 12]\n",
            " [10 11 12 13]\n",
            " [11 12 13 14]]\n"
          ]
        }
      ],
      "source": [
        "Z = np.arange(1,15,dtype=np.uint32)\n",
        "R =np.lib.stride_tricks.as_strided(Z,(11,4),(4,4))\n",
        "print(R)"
      ]
    },
    {
      "cell_type": "markdown",
      "metadata": {
        "id": "acC76EOD0nKD"
      },
      "source": [
        "#### 82. Compute a matrix rank (★★★) \n",
        "(**hint**: np.linalg.svd) (suggestion: np.linalg.svd)"
      ]
    },
    {
      "cell_type": "code",
      "execution_count": 84,
      "metadata": {
        "id": "Hab5IIfQ0nKD",
        "colab": {
          "base_uri": "https://localhost:8080/"
        },
        "outputId": "9dadfc07-b771-4c74-98af-e71dcec6ffaa"
      },
      "outputs": [
        {
          "output_type": "stream",
          "name": "stdout",
          "text": [
            "10\n"
          ]
        }
      ],
      "source": [
        "Z = np.random.uniform(0,1,(10,10))\n",
        "rank = np.linalg.matrix_rank(Z)\n",
        "print(rank)"
      ]
    },
    {
      "cell_type": "markdown",
      "metadata": {
        "id": "5qa5oWN10nKD"
      },
      "source": [
        "#### 83. How to find the most frequent value in an array? \n",
        "(**hint**: np.bincount, argmax)"
      ]
    },
    {
      "cell_type": "code",
      "execution_count": 85,
      "metadata": {
        "id": "m56QiJZg0nKD",
        "colab": {
          "base_uri": "https://localhost:8080/"
        },
        "outputId": "200f0c0d-830a-4550-fd62-81bf85092d58"
      },
      "outputs": [
        {
          "output_type": "stream",
          "name": "stdout",
          "text": [
            "2\n"
          ]
        }
      ],
      "source": [
        "Z = np.random.randint(0,10,50)\n",
        "print(np.bincount(Z).argmax())"
      ]
    },
    {
      "cell_type": "markdown",
      "metadata": {
        "id": "iPxqLmC-0nKE"
      },
      "source": [
        "#### 84. Extract all the contiguous 3x3 blocks from a random 10x10 matrix (★★★) \n",
        "(**hint**: stride\\_tricks.as\\_strided)"
      ]
    },
    {
      "cell_type": "code",
      "execution_count": 86,
      "metadata": {
        "id": "rGuCic6K0nKE",
        "colab": {
          "base_uri": "https://localhost:8080/"
        },
        "outputId": "9599705a-37cc-4c6e-aba5-62610221902e"
      },
      "outputs": [
        {
          "output_type": "stream",
          "name": "stdout",
          "text": [
            "[[[[2 3 4]\n",
            "   [3 1 1]\n",
            "   [1 3 3]]\n",
            "\n",
            "  [[3 4 4]\n",
            "   [1 1 1]\n",
            "   [3 3 4]]\n",
            "\n",
            "  [[4 4 3]\n",
            "   [1 1 1]\n",
            "   [3 4 4]]\n",
            "\n",
            "  [[4 3 3]\n",
            "   [1 1 2]\n",
            "   [4 4 0]]\n",
            "\n",
            "  [[3 3 3]\n",
            "   [1 2 4]\n",
            "   [4 0 0]]\n",
            "\n",
            "  [[3 3 3]\n",
            "   [2 4 4]\n",
            "   [0 0 2]]\n",
            "\n",
            "  [[3 3 2]\n",
            "   [4 4 0]\n",
            "   [0 2 4]]\n",
            "\n",
            "  [[3 2 3]\n",
            "   [4 0 0]\n",
            "   [2 4 3]]]\n",
            "\n",
            "\n",
            " [[[3 1 1]\n",
            "   [1 3 3]\n",
            "   [0 0 1]]\n",
            "\n",
            "  [[1 1 1]\n",
            "   [3 3 4]\n",
            "   [0 1 4]]\n",
            "\n",
            "  [[1 1 1]\n",
            "   [3 4 4]\n",
            "   [1 4 2]]\n",
            "\n",
            "  [[1 1 2]\n",
            "   [4 4 0]\n",
            "   [4 2 2]]\n",
            "\n",
            "  [[1 2 4]\n",
            "   [4 0 0]\n",
            "   [2 2 2]]\n",
            "\n",
            "  [[2 4 4]\n",
            "   [0 0 2]\n",
            "   [2 2 1]]\n",
            "\n",
            "  [[4 4 0]\n",
            "   [0 2 4]\n",
            "   [2 1 1]]\n",
            "\n",
            "  [[4 0 0]\n",
            "   [2 4 3]\n",
            "   [1 1 0]]]\n",
            "\n",
            "\n",
            " [[[1 3 3]\n",
            "   [0 0 1]\n",
            "   [1 2 3]]\n",
            "\n",
            "  [[3 3 4]\n",
            "   [0 1 4]\n",
            "   [2 3 1]]\n",
            "\n",
            "  [[3 4 4]\n",
            "   [1 4 2]\n",
            "   [3 1 2]]\n",
            "\n",
            "  [[4 4 0]\n",
            "   [4 2 2]\n",
            "   [1 2 1]]\n",
            "\n",
            "  [[4 0 0]\n",
            "   [2 2 2]\n",
            "   [2 1 1]]\n",
            "\n",
            "  [[0 0 2]\n",
            "   [2 2 1]\n",
            "   [1 1 2]]\n",
            "\n",
            "  [[0 2 4]\n",
            "   [2 1 1]\n",
            "   [1 2 1]]\n",
            "\n",
            "  [[2 4 3]\n",
            "   [1 1 0]\n",
            "   [2 1 2]]]\n",
            "\n",
            "\n",
            " [[[0 0 1]\n",
            "   [1 2 3]\n",
            "   [2 0 4]]\n",
            "\n",
            "  [[0 1 4]\n",
            "   [2 3 1]\n",
            "   [0 4 3]]\n",
            "\n",
            "  [[1 4 2]\n",
            "   [3 1 2]\n",
            "   [4 3 3]]\n",
            "\n",
            "  [[4 2 2]\n",
            "   [1 2 1]\n",
            "   [3 3 4]]\n",
            "\n",
            "  [[2 2 2]\n",
            "   [2 1 1]\n",
            "   [3 4 2]]\n",
            "\n",
            "  [[2 2 1]\n",
            "   [1 1 2]\n",
            "   [4 2 4]]\n",
            "\n",
            "  [[2 1 1]\n",
            "   [1 2 1]\n",
            "   [2 4 1]]\n",
            "\n",
            "  [[1 1 0]\n",
            "   [2 1 2]\n",
            "   [4 1 0]]]\n",
            "\n",
            "\n",
            " [[[1 2 3]\n",
            "   [2 0 4]\n",
            "   [3 2 1]]\n",
            "\n",
            "  [[2 3 1]\n",
            "   [0 4 3]\n",
            "   [2 1 3]]\n",
            "\n",
            "  [[3 1 2]\n",
            "   [4 3 3]\n",
            "   [1 3 2]]\n",
            "\n",
            "  [[1 2 1]\n",
            "   [3 3 4]\n",
            "   [3 2 0]]\n",
            "\n",
            "  [[2 1 1]\n",
            "   [3 4 2]\n",
            "   [2 0 4]]\n",
            "\n",
            "  [[1 1 2]\n",
            "   [4 2 4]\n",
            "   [0 4 1]]\n",
            "\n",
            "  [[1 2 1]\n",
            "   [2 4 1]\n",
            "   [4 1 2]]\n",
            "\n",
            "  [[2 1 2]\n",
            "   [4 1 0]\n",
            "   [1 2 4]]]\n",
            "\n",
            "\n",
            " [[[2 0 4]\n",
            "   [3 2 1]\n",
            "   [3 0 0]]\n",
            "\n",
            "  [[0 4 3]\n",
            "   [2 1 3]\n",
            "   [0 0 4]]\n",
            "\n",
            "  [[4 3 3]\n",
            "   [1 3 2]\n",
            "   [0 4 0]]\n",
            "\n",
            "  [[3 3 4]\n",
            "   [3 2 0]\n",
            "   [4 0 4]]\n",
            "\n",
            "  [[3 4 2]\n",
            "   [2 0 4]\n",
            "   [0 4 3]]\n",
            "\n",
            "  [[4 2 4]\n",
            "   [0 4 1]\n",
            "   [4 3 4]]\n",
            "\n",
            "  [[2 4 1]\n",
            "   [4 1 2]\n",
            "   [3 4 3]]\n",
            "\n",
            "  [[4 1 0]\n",
            "   [1 2 4]\n",
            "   [4 3 2]]]\n",
            "\n",
            "\n",
            " [[[3 2 1]\n",
            "   [3 0 0]\n",
            "   [3 2 1]]\n",
            "\n",
            "  [[2 1 3]\n",
            "   [0 0 4]\n",
            "   [2 1 2]]\n",
            "\n",
            "  [[1 3 2]\n",
            "   [0 4 0]\n",
            "   [1 2 2]]\n",
            "\n",
            "  [[3 2 0]\n",
            "   [4 0 4]\n",
            "   [2 2 0]]\n",
            "\n",
            "  [[2 0 4]\n",
            "   [0 4 3]\n",
            "   [2 0 3]]\n",
            "\n",
            "  [[0 4 1]\n",
            "   [4 3 4]\n",
            "   [0 3 1]]\n",
            "\n",
            "  [[4 1 2]\n",
            "   [3 4 3]\n",
            "   [3 1 0]]\n",
            "\n",
            "  [[1 2 4]\n",
            "   [4 3 2]\n",
            "   [1 0 2]]]\n",
            "\n",
            "\n",
            " [[[3 0 0]\n",
            "   [3 2 1]\n",
            "   [2 0 3]]\n",
            "\n",
            "  [[0 0 4]\n",
            "   [2 1 2]\n",
            "   [0 3 1]]\n",
            "\n",
            "  [[0 4 0]\n",
            "   [1 2 2]\n",
            "   [3 1 2]]\n",
            "\n",
            "  [[4 0 4]\n",
            "   [2 2 0]\n",
            "   [1 2 2]]\n",
            "\n",
            "  [[0 4 3]\n",
            "   [2 0 3]\n",
            "   [2 2 3]]\n",
            "\n",
            "  [[4 3 4]\n",
            "   [0 3 1]\n",
            "   [2 3 3]]\n",
            "\n",
            "  [[3 4 3]\n",
            "   [3 1 0]\n",
            "   [3 3 0]]\n",
            "\n",
            "  [[4 3 2]\n",
            "   [1 0 2]\n",
            "   [3 0 4]]]]\n"
          ]
        }
      ],
      "source": [
        "Z = np.random.randint(0,5,(10,10))\n",
        "print(np.lib.stride_tricks.sliding_window_view(Z, window_shape=(3, 3)))"
      ]
    },
    {
      "cell_type": "markdown",
      "metadata": {
        "id": "aiWTyZIW0nKE"
      },
      "source": [
        "#### 85. Create a 2D array subclass such that Z\\[i,j\\] == Z\\[j,i\\] (★★★) \n",
        "(**hint**: class method)"
      ]
    },
    {
      "cell_type": "code",
      "execution_count": 87,
      "metadata": {
        "id": "DG6ibzq10nKE",
        "colab": {
          "base_uri": "https://localhost:8080/"
        },
        "outputId": "35a6ceac-523e-4fce-fec8-059d60460163"
      },
      "outputs": [
        {
          "output_type": "stream",
          "name": "stdout",
          "text": [
            "[[ 2 13 13  3  5]\n",
            " [13  4 10 13  7]\n",
            " [13 10  1 42  8]\n",
            " [ 3 13 42  6 12]\n",
            " [ 5  7  8 12  4]]\n"
          ]
        }
      ],
      "source": [
        "class Symmetric(np.ndarray):\n",
        "    def __setitem__(self, index, value):\n",
        "        i,j = index\n",
        "        super(Symmetric, self).__setitem__((i,j), value)\n",
        "        super(Symmetric, self).__setitem__((j,i), value)\n",
        "\n",
        "def symmetric(Z):\n",
        "    return np.asarray(Z + Z.T - np.diag(Z.diagonal())).view(Symmetric)\n",
        "\n",
        "S = symmetric(np.random.randint(0,10,(5,5)))\n",
        "S[2,3] = 42\n",
        "print(S)"
      ]
    },
    {
      "cell_type": "markdown",
      "metadata": {
        "id": "zt68JUfe0nKF"
      },
      "source": [
        "#### 86. Consider a set of p matrices wich shape (n,n) and a set of p vectors with shape (n,1). How to compute the sum of of the p matrix products at once? (result has shape (n,1)) (★★★) \n",
        "(**hint**: np.tensordot)"
      ]
    },
    {
      "cell_type": "code",
      "execution_count": 88,
      "metadata": {
        "id": "wbTaYjxA0nKF",
        "colab": {
          "base_uri": "https://localhost:8080/"
        },
        "outputId": "e7b80d74-79c3-46ca-ebee-ad72e35eea42"
      },
      "outputs": [
        {
          "output_type": "stream",
          "name": "stdout",
          "text": [
            "[[200.]\n",
            " [200.]\n",
            " [200.]\n",
            " [200.]\n",
            " [200.]\n",
            " [200.]\n",
            " [200.]\n",
            " [200.]\n",
            " [200.]\n",
            " [200.]\n",
            " [200.]\n",
            " [200.]\n",
            " [200.]\n",
            " [200.]\n",
            " [200.]\n",
            " [200.]\n",
            " [200.]\n",
            " [200.]\n",
            " [200.]\n",
            " [200.]]\n"
          ]
        }
      ],
      "source": [
        "p, n = 10, 20\n",
        "M = np.ones((p,n,n))\n",
        "V = np.ones((p,n,1))\n",
        "S = np.tensordot(M, V, axes=[[0, 2], [0, 1]])\n",
        "print(S)"
      ]
    },
    {
      "cell_type": "markdown",
      "metadata": {
        "id": "oGoRuqTE0nKG"
      },
      "source": [
        "#### 87. Consider a 16x16 array, how to get the block-sum (block size is 4x4)? (★★★) \n",
        "(**hint**: np.add.reduceat)"
      ]
    },
    {
      "cell_type": "code",
      "execution_count": 89,
      "metadata": {
        "id": "1lMsNPMI0nKG",
        "colab": {
          "base_uri": "https://localhost:8080/"
        },
        "outputId": "1c8e911e-0103-4308-d193-9e7e45a44180"
      },
      "outputs": [
        {
          "output_type": "execute_result",
          "data": {
            "text/plain": [
              "array([[16., 16., 16., 16.],\n",
              "       [16., 16., 16., 16.],\n",
              "       [16., 16., 16., 16.],\n",
              "       [16., 16., 16., 16.]])"
            ]
          },
          "metadata": {},
          "execution_count": 89
        }
      ],
      "source": [
        "Z = np.ones((16,16))\n",
        "windows = np.lib.stride_tricks.sliding_window_view(Z, (4, 4))\n",
        "S = windows[::4, ::4, ...].sum(axis=(-2, -1))\n",
        "S"
      ]
    },
    {
      "cell_type": "markdown",
      "metadata": {
        "id": "Qk2T1d3o0nKG"
      },
      "source": [
        "#### 88. How to implement the Game of Life using numpy arrays? (★★★)"
      ]
    },
    {
      "cell_type": "code",
      "execution_count": 90,
      "metadata": {
        "id": "coRVVQzI0nKG",
        "colab": {
          "base_uri": "https://localhost:8080/"
        },
        "outputId": "421ddf01-5103-4f59-b6d1-98153839e905"
      },
      "outputs": [
        {
          "output_type": "stream",
          "name": "stdout",
          "text": [
            "[[0 0 0 0 0 0 0 0 0 0 0 0 0 0 0 0 0 0 0 0 0 0 0 0 0 0 0 0 0 0 0 0 0 0 0 0\n",
            "  0 0 0 0 0 0 0 0 0 0 0 0 0 0]\n",
            " [0 0 0 0 0 0 0 0 0 0 0 0 0 0 0 0 0 0 0 0 0 0 0 0 0 0 0 0 0 0 0 0 0 0 0 0\n",
            "  0 0 0 0 0 0 0 0 0 0 0 0 0 0]\n",
            " [0 0 0 0 0 0 0 0 0 0 1 1 0 0 0 0 0 0 0 0 0 0 0 0 0 0 0 0 0 0 0 0 0 0 0 0\n",
            "  0 0 0 0 0 0 0 0 0 0 0 0 0 0]\n",
            " [0 0 0 0 0 0 0 0 0 1 0 0 1 0 0 0 0 0 0 0 0 0 0 0 0 0 0 0 0 0 0 0 0 0 0 0\n",
            "  0 0 0 0 0 0 0 0 0 0 0 0 0 0]\n",
            " [0 0 0 0 0 0 0 0 0 0 1 1 0 0 0 0 0 0 0 0 0 0 0 0 0 0 0 0 0 0 0 0 0 0 0 0\n",
            "  0 0 0 0 0 0 0 0 0 0 0 0 0 0]\n",
            " [0 0 0 0 0 0 0 0 0 0 0 0 0 0 0 0 0 0 0 0 0 0 0 0 0 0 0 0 0 0 0 0 0 0 0 0\n",
            "  0 0 0 0 0 0 0 0 0 0 0 0 0 0]\n",
            " [0 0 0 0 0 0 0 0 0 0 0 0 0 0 0 0 0 0 0 0 0 0 0 0 0 0 0 0 0 0 0 0 0 0 0 0\n",
            "  0 0 0 0 0 0 0 0 0 1 1 0 0 0]\n",
            " [0 0 0 0 0 0 0 0 0 0 0 0 0 0 0 0 0 0 0 0 0 0 0 0 0 0 0 0 0 0 0 0 0 0 0 0\n",
            "  0 0 0 0 0 0 0 0 0 1 1 0 0 0]\n",
            " [0 0 0 0 0 0 0 0 0 0 0 0 0 0 0 0 0 0 0 0 0 0 0 0 0 0 1 1 0 0 0 0 0 0 0 0\n",
            "  0 0 0 0 0 0 0 0 0 0 0 0 0 0]\n",
            " [0 0 0 0 0 0 0 0 0 0 0 0 0 0 0 0 0 0 0 0 0 0 0 0 1 1 1 0 0 0 0 0 0 0 0 0\n",
            "  0 0 0 0 0 0 0 0 0 0 0 0 0 0]\n",
            " [0 0 0 0 0 0 0 0 0 0 0 0 0 0 0 0 0 0 0 0 0 0 0 1 0 0 0 0 0 0 0 0 0 0 0 0\n",
            "  0 0 0 0 0 0 0 0 0 0 0 0 0 0]\n",
            " [0 0 0 0 0 0 0 0 0 0 0 0 1 0 0 0 0 0 0 0 0 0 1 0 0 1 0 0 0 1 1 0 0 0 0 0\n",
            "  0 0 0 0 0 0 0 0 0 0 0 0 0 0]\n",
            " [0 0 0 0 0 0 0 0 0 0 0 0 1 0 0 0 0 0 0 0 0 0 1 0 1 0 0 0 0 0 0 0 0 0 0 0\n",
            "  0 0 0 0 0 0 0 0 0 0 1 1 0 0]\n",
            " [0 0 0 0 0 0 0 0 0 0 0 0 1 0 0 0 0 0 0 0 0 0 1 0 0 0 1 0 0 0 0 0 0 0 0 0\n",
            "  0 0 0 0 0 0 0 0 0 0 1 0 1 0]\n",
            " [0 0 0 0 0 0 0 0 0 0 0 0 0 0 0 0 0 0 0 0 0 0 0 0 0 1 1 1 0 1 0 1 0 0 0 0\n",
            "  0 0 0 0 0 0 0 0 1 0 0 0 1 0]\n",
            " [0 0 0 0 0 0 0 0 0 0 0 0 0 0 0 0 0 0 0 0 0 0 1 1 0 0 1 1 0 0 1 0 0 0 0 0\n",
            "  0 0 0 0 0 0 0 1 0 0 1 1 1 0]\n",
            " [0 0 0 0 0 0 0 0 0 0 0 0 0 0 0 0 0 0 0 0 0 0 1 0 0 0 0 0 0 0 0 0 0 0 0 0\n",
            "  0 0 0 0 0 0 1 0 1 1 0 1 0 0]\n",
            " [0 0 0 0 0 0 0 0 0 0 0 0 0 0 0 0 0 0 0 0 0 0 0 0 0 0 0 0 0 0 0 0 0 0 0 0\n",
            "  0 0 0 1 1 0 1 1 1 1 0 1 1 0]\n",
            " [0 0 0 0 0 0 0 0 0 0 0 0 0 0 0 0 0 0 0 0 0 0 0 0 0 1 1 0 0 0 0 0 0 0 0 0\n",
            "  0 0 0 1 0 0 0 0 0 0 0 1 1 0]\n",
            " [0 0 0 0 0 0 0 0 0 0 0 0 0 0 0 0 0 0 0 0 0 0 1 0 0 0 1 0 0 0 0 0 0 0 0 0\n",
            "  0 0 0 0 0 0 0 0 0 0 0 0 0 0]\n",
            " [0 0 0 0 0 0 1 1 0 0 0 0 0 0 0 0 0 0 0 0 0 0 1 0 1 1 0 0 0 0 0 0 0 0 0 0\n",
            "  0 0 0 0 1 0 0 0 0 1 0 0 0 0]\n",
            " [0 0 0 0 0 0 1 0 1 0 0 0 0 0 0 1 1 1 0 0 0 0 0 0 0 0 0 0 0 0 0 0 0 0 0 0\n",
            "  0 0 0 0 0 1 0 1 1 0 0 1 1 0]\n",
            " [0 0 0 0 0 0 0 1 0 0 0 0 0 0 0 0 0 0 0 0 0 0 0 0 0 0 0 0 0 0 0 0 0 0 0 0\n",
            "  0 0 0 0 0 0 0 0 0 0 0 0 0 0]\n",
            " [0 0 0 0 0 0 0 0 0 0 0 0 0 0 0 0 0 0 0 0 0 0 0 0 0 0 0 0 0 0 0 0 0 0 0 0\n",
            "  0 0 0 0 0 0 0 0 0 0 0 0 0 0]\n",
            " [0 0 0 0 0 0 0 0 0 0 0 0 0 0 0 0 0 0 0 0 0 0 0 0 0 0 0 0 0 0 0 0 0 0 0 0\n",
            "  0 0 0 0 0 0 0 0 0 0 0 0 0 0]\n",
            " [0 0 0 0 0 0 0 0 0 0 0 0 0 0 0 0 0 0 0 0 0 0 0 1 0 1 0 1 1 1 1 0 0 0 0 0\n",
            "  0 0 0 0 0 0 0 0 0 0 0 1 0 0]\n",
            " [0 0 0 0 0 0 0 0 0 0 0 0 0 0 0 0 0 0 0 1 0 1 1 0 0 0 1 0 0 1 1 1 1 0 0 0\n",
            "  0 0 0 0 0 0 0 0 0 0 1 0 1 0]\n",
            " [0 0 0 0 0 0 0 0 0 0 0 0 0 0 0 0 0 0 1 0 1 0 1 1 0 1 1 0 0 0 1 1 0 1 0 0\n",
            "  0 0 0 0 0 0 0 0 0 0 0 1 0 0]\n",
            " [0 0 0 0 0 0 0 0 0 0 0 0 0 0 0 0 0 0 1 0 1 1 0 0 1 1 0 0 0 0 0 1 0 1 1 0\n",
            "  0 0 0 0 0 0 0 0 0 0 0 0 0 0]\n",
            " [0 0 0 0 0 0 0 0 0 0 0 0 0 0 0 0 0 0 0 1 0 0 0 0 1 1 1 0 0 0 0 0 0 1 0 0\n",
            "  0 0 0 0 0 0 0 0 0 0 0 0 0 0]\n",
            " [0 0 0 0 0 0 0 0 0 0 0 0 0 0 0 0 0 0 0 0 0 0 0 0 0 0 1 1 0 0 0 0 0 0 0 0\n",
            "  0 0 0 0 0 0 0 0 0 0 0 0 0 0]\n",
            " [0 0 0 0 0 0 0 0 0 0 0 0 0 0 0 0 0 0 0 0 0 0 0 0 0 0 0 1 1 0 1 1 0 0 0 0\n",
            "  0 0 1 1 1 0 0 0 0 0 0 0 0 0]\n",
            " [0 0 0 0 0 0 0 0 0 0 0 0 0 0 0 0 0 0 0 0 0 0 0 0 0 0 0 0 0 1 1 1 1 1 0 0\n",
            "  0 0 0 0 0 0 0 0 0 0 0 0 0 0]\n",
            " [0 0 0 0 0 0 0 0 0 0 0 0 0 0 0 0 0 0 0 0 0 0 0 0 0 0 0 0 1 1 1 0 1 1 0 0\n",
            "  0 1 0 0 0 0 0 0 0 0 0 0 0 0]\n",
            " [0 0 0 0 0 0 0 0 0 0 0 0 0 0 0 0 0 0 0 0 0 0 0 0 0 0 0 0 0 0 0 0 0 1 0 0\n",
            "  0 1 0 0 0 0 0 0 0 0 0 0 0 0]\n",
            " [0 0 0 0 0 0 0 0 0 0 0 0 0 0 0 0 0 0 0 0 0 0 0 0 0 0 0 1 1 0 0 0 0 0 0 1\n",
            "  1 0 1 1 0 0 0 0 0 0 0 0 0 0]\n",
            " [0 0 0 0 0 0 0 0 0 0 0 0 0 0 0 0 0 0 0 0 0 0 0 0 0 0 1 0 0 0 1 0 1 1 0 1\n",
            "  0 0 0 0 0 0 0 1 1 0 0 0 0 0]\n",
            " [0 0 0 0 0 0 0 0 0 0 0 0 0 0 0 0 0 0 0 0 0 0 0 0 0 0 0 0 0 0 0 1 0 1 1 1\n",
            "  0 0 0 0 0 0 1 1 0 0 0 0 0 0]\n",
            " [0 0 0 0 0 0 0 0 0 0 0 0 0 0 0 0 0 0 0 0 0 0 0 0 0 0 0 1 0 0 0 0 1 0 1 0\n",
            "  0 0 0 0 0 0 0 1 0 1 0 0 0 0]\n",
            " [0 0 0 0 0 0 0 0 0 0 0 0 0 0 0 0 0 0 0 0 0 0 0 0 0 0 0 0 1 0 0 0 0 0 0 0\n",
            "  0 0 0 0 0 0 0 0 0 0 0 0 0 0]\n",
            " [0 0 0 0 0 0 0 0 0 0 0 0 0 0 0 0 0 0 0 0 0 0 0 0 0 1 1 1 0 0 1 1 1 1 0 0\n",
            "  0 0 0 0 0 0 0 0 0 0 0 0 0 0]\n",
            " [0 0 0 0 0 0 0 0 0 0 0 0 0 0 0 0 0 0 0 0 0 0 0 0 0 0 0 0 0 0 0 0 0 0 0 0\n",
            "  0 0 0 0 0 0 0 0 1 0 0 1 0 0]\n",
            " [0 0 0 0 0 0 0 0 0 0 1 0 0 0 0 0 0 0 0 0 0 0 0 0 0 1 0 1 0 0 0 0 0 0 0 0\n",
            "  0 0 0 0 0 1 1 1 1 1 0 1 0 0]\n",
            " [0 0 0 0 0 0 0 0 0 0 1 0 0 0 0 0 0 0 0 0 0 0 0 0 0 0 1 0 0 0 0 0 0 0 0 0\n",
            "  0 0 0 0 0 1 0 0 1 0 1 1 0 0]\n",
            " [0 0 0 0 0 0 0 0 0 0 1 0 0 0 0 0 0 0 0 0 0 0 0 0 0 0 0 0 0 0 0 0 1 1 0 0\n",
            "  0 0 0 0 0 1 0 1 0 0 0 0 0 0]\n",
            " [0 0 0 0 0 0 0 0 0 0 0 0 0 0 0 0 0 0 0 0 0 0 0 0 0 0 0 0 0 0 0 0 1 0 1 0\n",
            "  0 0 0 0 0 0 0 0 0 0 0 0 0 0]\n",
            " [0 0 0 0 0 0 0 0 0 0 0 0 0 0 0 0 0 0 0 0 0 0 0 0 0 0 0 0 0 1 1 0 0 0 1 0\n",
            "  0 0 0 0 0 0 0 0 0 0 0 0 0 0]\n",
            " [0 0 0 0 0 0 0 0 0 0 0 0 0 0 0 0 0 0 0 0 0 0 0 0 0 0 0 0 0 1 0 0 0 1 1 0\n",
            "  0 0 0 0 0 0 0 0 0 0 0 0 0 0]\n",
            " [0 0 0 0 0 0 0 0 0 0 0 0 0 0 0 0 0 0 0 0 0 0 0 0 0 0 0 0 0 1 1 1 1 0 0 0\n",
            "  0 0 0 0 0 0 0 0 0 0 0 0 0 0]\n",
            " [0 0 0 0 0 0 0 0 0 0 0 0 0 0 0 0 0 0 0 0 0 0 0 0 0 0 0 0 0 0 0 0 0 0 0 0\n",
            "  0 0 0 0 0 0 0 0 0 0 0 0 0 0]]\n"
          ]
        }
      ],
      "source": [
        "def iterate(Z):\n",
        "    # Count neighbours\n",
        "    N = (Z[0:-2,0:-2] + Z[0:-2,1:-1] + Z[0:-2,2:] +\n",
        "         Z[1:-1,0:-2]                + Z[1:-1,2:] +\n",
        "         Z[2:  ,0:-2] + Z[2:  ,1:-1] + Z[2:  ,2:])\n",
        "\n",
        "    # Apply rules\n",
        "    birth = (N==3) & (Z[1:-1,1:-1]==0)\n",
        "    survive = ((N==2) | (N==3)) & (Z[1:-1,1:-1]==1)\n",
        "    Z[...] = 0\n",
        "    Z[1:-1,1:-1][birth | survive] = 1\n",
        "    return Z\n",
        "\n",
        "Z = np.random.randint(0,2,(50,50))\n",
        "for i in range(100): Z = iterate(Z)\n",
        "print(Z)"
      ]
    },
    {
      "cell_type": "markdown",
      "metadata": {
        "id": "cWkkx6j10nKH"
      },
      "source": [
        "#### 89. How to get the n largest values of an array (★★★) \n",
        "(**hint**: np.argsort | np.argpartition)"
      ]
    },
    {
      "cell_type": "code",
      "execution_count": 91,
      "metadata": {
        "id": "G6HHE-Ia0nKH",
        "colab": {
          "base_uri": "https://localhost:8080/"
        },
        "outputId": "baa0554c-6afc-467e-f568-2566e2db1ff1"
      },
      "outputs": [
        {
          "output_type": "stream",
          "name": "stdout",
          "text": [
            "[95 96 97 98 99]\n"
          ]
        }
      ],
      "source": [
        "Z = np.arange(100)\n",
        "np.random.shuffle(Z)\n",
        "n = 5\n",
        "print (Z[np.argsort(Z)[-n:]])"
      ]
    },
    {
      "cell_type": "markdown",
      "metadata": {
        "id": "iX4fnF9O0nKH"
      },
      "source": [
        "#### 90. Given an arbitrary number of vectors, build the cartesian product (every combinations of every item) (★★★) \n",
        "(**hint**: np.indices)"
      ]
    },
    {
      "cell_type": "code",
      "execution_count": 92,
      "metadata": {
        "scrolled": true,
        "id": "m3W3Se6t0nKI",
        "colab": {
          "base_uri": "https://localhost:8080/"
        },
        "outputId": "fa2c7cd9-d036-4c34-9181-397104181616"
      },
      "outputs": [
        {
          "output_type": "stream",
          "name": "stdout",
          "text": [
            "[[1 3 6]\n",
            " [1 3 7]\n",
            " [1 4 6]\n",
            " [1 4 7]\n",
            " [1 5 6]\n",
            " [1 5 7]\n",
            " [2 3 6]\n",
            " [2 3 7]\n",
            " [2 4 6]\n",
            " [2 4 7]\n",
            " [2 5 6]\n",
            " [2 5 7]]\n"
          ]
        }
      ],
      "source": [
        "def cartesian(arrays):\n",
        "    arrays = [np.asarray(a) for a in arrays]\n",
        "    shape = (len(x) for x in arrays)\n",
        "\n",
        "    ix = np.indices(shape, dtype=int).reshape(len(arrays), -1).T\n",
        "    \n",
        "    for n, arr in enumerate(arrays):\n",
        "        ix[:, n] = arrays[n][ix[:, n]]\n",
        "\n",
        "    return ix\n",
        "\n",
        "print (cartesian(([1, 2], [3, 4, 5], [6, 7])))"
      ]
    },
    {
      "cell_type": "markdown",
      "metadata": {
        "id": "y5VL8z-B0nKI"
      },
      "source": [
        "#### 91. How to create a record array from a regular array? (★★★) \n",
        "(**hint**: np.core.records.fromarrays)"
      ]
    },
    {
      "cell_type": "code",
      "execution_count": 93,
      "metadata": {
        "id": "M6V-nJan0nKI",
        "colab": {
          "base_uri": "https://localhost:8080/"
        },
        "outputId": "a889d068-2baa-4863-9c61-84e1bc51a725"
      },
      "outputs": [
        {
          "output_type": "stream",
          "name": "stdout",
          "text": [
            "[(b'Hello', 2.5, 3) (b'World', 3.6, 2)]\n"
          ]
        }
      ],
      "source": [
        "Z = np.array([(\"Hello\", 2.5, 3),\n",
        "              (\"World\", 3.6, 2)])\n",
        "R = np.core.records.fromarrays(Z.T,names='col1, col2, col3',formats = 'S8, f8, i8')\n",
        "print(R)"
      ]
    },
    {
      "cell_type": "markdown",
      "metadata": {
        "id": "8S4PmLnE0nKI"
      },
      "source": [
        "#### 92. Consider a large vector Z, compute Z to the power of 3 using 3 different methods (★★★) \n",
        "(**hint**: np.power, \\*, np.einsum)"
      ]
    },
    {
      "cell_type": "code",
      "execution_count": 110,
      "metadata": {
        "id": "xdL7-XOG0nKJ",
        "colab": {
          "base_uri": "https://localhost:8080/"
        },
        "outputId": "b2a4502f-f0cb-4559-8834-c9eb2df4c802"
      },
      "outputs": [
        {
          "output_type": "stream",
          "name": "stdout",
          "text": [
            "using power: [9.10902912e-03 4.41495279e-02 1.01747583e-01 7.98412572e-01\n",
            " 4.69229380e-02 8.35910763e-02 1.80076923e-02 1.49090363e-02\n",
            " 2.49935569e-03 1.21119137e-01 3.45828901e-02 7.56255359e-02\n",
            " 2.60052197e-02 7.53491935e-01 6.26443739e-01 2.36522725e-07\n",
            " 1.73352190e-02 2.55869475e-01 6.21392564e-01 6.28844832e-01\n",
            " 2.93478434e-03 6.01834327e-04 6.65581119e-01 4.66972853e-02\n",
            " 2.75532989e-06 1.48182336e-02 4.52101988e-02 9.79555869e-04\n",
            " 2.79678493e-04 4.04074824e-03 2.32405306e-01 3.52431680e-01\n",
            " 3.57160726e-02 1.02879228e-03 5.21958262e-02 2.39673907e-02\n",
            " 3.33833775e-02 1.88206568e-01 1.57037365e-01 4.00934463e-02\n",
            " 5.96764493e-01 6.15432740e-02 1.95244693e-02 9.60641913e-03\n",
            " 9.17697629e-02 2.89663699e-02 9.96641646e-06 1.46247855e-02\n",
            " 5.22488372e-01 8.11015047e-02 6.54983606e-04 6.55749451e-01\n",
            " 2.18896575e-02 7.88940628e-01 7.78148754e-02 6.24924995e-02\n",
            " 2.35214092e-02 2.41382920e-01 6.35138840e-04 6.27178809e-02\n",
            " 4.26168871e-01 5.37036027e-02 3.77136590e-02 4.45733990e-02\n",
            " 1.04953053e-02 4.46909925e-05 1.36019525e-01 4.23842138e-03\n",
            " 1.73543689e-01 7.32733145e-03 7.15233762e-02 4.30764912e-01\n",
            " 5.52820304e-01 1.37228483e-01 1.20157287e-01 2.53434124e-02\n",
            " 7.11613480e-01 9.37767275e-03 1.63396661e-01 2.28773775e-01\n",
            " 8.95592731e-01 1.02498574e-01 6.56223528e-01 4.28579988e-01\n",
            " 2.69333143e-01 2.37557869e-01 1.81200391e-01 8.45545556e-02\n",
            " 6.61177843e-01 1.03535673e-02 6.86566034e-02 5.48764107e-01\n",
            " 3.37326995e-01 1.16690060e-01 5.29552206e-02 7.07944829e-02\n",
            " 6.76331993e-01 7.60546306e-01 1.40791843e-01 2.58719280e-01\n",
            " 6.82671330e-03 4.48234042e-01 8.38053358e-02 2.73304936e-02\n",
            " 6.54658977e-01 9.79877496e-04 1.91967047e-01 1.59350988e-01\n",
            " 4.01327989e-01 2.57427752e-01 1.60173025e-02 1.78916509e-03\n",
            " 1.69239381e-01 3.36615098e-01 5.77647078e-01 2.90206764e-02\n",
            " 3.64476325e-01 8.51578076e-01 9.47341009e-01 5.25871996e-02\n",
            " 5.53409912e-01 1.24511116e-01 3.87930865e-01 1.33720143e-03\n",
            " 1.40411022e-01 1.58817221e-01 9.38990758e-01 9.60951644e-01\n",
            " 2.71538129e-02 4.57934925e-02 1.67059975e-02 8.87929051e-06\n",
            " 8.82071454e-01 5.68626065e-01 4.60988229e-01 6.61001012e-03\n",
            " 1.36945641e-05 8.98578071e-04 5.10671827e-01 7.63963673e-02\n",
            " 4.30119977e-01 3.85723167e-02 5.60454982e-02 5.17216120e-01\n",
            " 2.87970318e-01 1.80537997e-02 7.41272054e-04 4.92132711e-02\n",
            " 1.07791097e-01 1.36439251e-03 2.13856600e-02 5.54213685e-01\n",
            " 6.37580262e-01 4.17558310e-02 9.32947724e-01 4.60327516e-01\n",
            " 7.09273184e-01 3.29896044e-01 2.07523036e-02 4.41599581e-04\n",
            " 1.28145036e-01 8.12753119e-01 2.09341719e-02 5.26397519e-02\n",
            " 9.39334904e-02 7.61567318e-01 1.52602627e-01 5.39044992e-01\n",
            " 3.24014791e-01 2.24897599e-01 2.76958214e-01 4.03439766e-02\n",
            " 3.01212701e-03 8.23862099e-05 5.10217548e-02 1.11546671e-01\n",
            " 1.64770148e-03 1.39912876e-02 7.44345889e-02 1.63845681e-01\n",
            " 5.43792569e-01 9.32771554e-03 2.07085798e-03 7.27823532e-01\n",
            " 6.90690663e-02 7.46761755e-01 1.63874428e-01 4.77733001e-01\n",
            " 2.76666080e-02 6.84062251e-01 1.16852747e-03 6.70990871e-03\n",
            " 1.43394638e-01 2.34100290e-01 8.42336573e-01 9.22400316e-04\n",
            " 1.00726197e-01 6.90783782e-02 9.21076718e-01 1.45105752e-02\n",
            " 9.16604690e-04 8.22280743e-03 2.75827166e-02 2.65399828e-01\n",
            " 1.92894001e-03 9.32593206e-03 4.11190944e-01 6.17231868e-04\n",
            " 1.49185756e-01 5.29496034e-01 5.72468643e-04 1.01581635e-01\n",
            " 7.76857807e-01 2.01680002e-01 5.16344346e-03 1.30793754e-02\n",
            " 6.45985648e-03 1.21007821e-03 2.01714196e-01 8.31365399e-01\n",
            " 2.44284737e-01 2.40762345e-01 1.60671276e-03 7.33327996e-01\n",
            " 5.70115896e-01 4.56416338e-02 2.93101040e-01 5.64125700e-01\n",
            " 8.39724653e-02 2.91546769e-01 5.43039748e-04 2.33127166e-01\n",
            " 7.62173152e-01 7.94490004e-01 6.39133945e-02 3.55502761e-01\n",
            " 5.60747103e-04 4.09493456e-06 4.40698789e-01 4.78770128e-03\n",
            " 6.06776315e-02 2.47649329e-01 3.77291543e-04 1.12216384e-02\n",
            " 9.47682317e-01 3.48285181e-01 4.31950746e-01 6.56455554e-01\n",
            " 6.96504345e-01 2.08560093e-03 5.05445422e-04 5.32209090e-01\n",
            " 8.27176554e-01 2.44288730e-01 9.37787587e-01 1.62231695e-03\n",
            " 5.35792596e-01 9.35991123e-01 6.37612126e-02 2.42027932e-02\n",
            " 6.20133201e-03 2.74397873e-01 3.91443148e-03 4.84852821e-01\n",
            " 1.16462618e-02 3.84309883e-02 4.57285394e-01 4.08069574e-01\n",
            " 7.32505284e-03 1.61740361e-02 9.79329438e-01 1.92622677e-02\n",
            " 4.36602187e-03 4.75123199e-02 3.02205900e-04 1.36521147e-01\n",
            " 1.78965347e-01 4.44489680e-01 3.33922044e-03 2.26507393e-02\n",
            " 7.13114381e-04 2.38092961e-01 5.82650734e-02 2.66394894e-01\n",
            " 3.38136786e-02 2.52796120e-03 7.18544884e-06 3.98242411e-02\n",
            " 2.52884824e-04 2.88138364e-01 2.01095188e-01 5.72982270e-01\n",
            " 6.05349581e-01 3.41311460e-01 4.40334375e-02 1.20578617e-02\n",
            " 4.30507552e-02 1.56636308e-01 1.73375429e-04 2.12627283e-03\n",
            " 6.86157402e-01 2.77103831e-01 1.25721998e-02 1.11450859e-01\n",
            " 1.17244082e-01 6.38182954e-01 2.39839074e-02 7.80470515e-03\n",
            " 8.11302409e-02 6.28917667e-01 4.99754808e-05 5.89135210e-03\n",
            " 1.06715961e-01 1.72818867e-01 4.15142911e-01 8.87461465e-03\n",
            " 1.55656972e-02 9.51806604e-01 3.91078259e-01 5.94373001e-02\n",
            " 3.08688516e-01 4.06448127e-01 4.99634342e-01 2.05427312e-03\n",
            " 1.34605880e-02 9.27004386e-01 3.00836838e-01 1.09740187e-02\n",
            " 5.42532655e-01 1.69118226e-01 1.74021354e-05 1.01368412e-05\n",
            " 4.01753267e-01 1.68692704e-03 1.12680530e-02 9.34684835e-01\n",
            " 8.51621939e-05 1.04861288e-01 7.45212519e-01 9.96266280e-01\n",
            " 4.95460000e-01 2.40540747e-01 3.10654826e-06 1.51317027e-01\n",
            " 5.78666017e-03 7.15697284e-02 2.23898700e-02 1.04902369e-01\n",
            " 1.40287046e-01 2.64792729e-01 1.44569970e-01 4.43921741e-01\n",
            " 1.63731650e-02 8.37914183e-01 1.83729162e-01 7.80445954e-01\n",
            " 4.95113473e-02 4.24768470e-03 5.79755449e-01 4.74318734e-02\n",
            " 2.44318654e-01 2.26142343e-01 9.84578618e-01 1.33093376e-01\n",
            " 8.56796933e-01 4.21548002e-03 6.09948967e-04 7.45177920e-02\n",
            " 2.14642962e-03 8.17961921e-01 1.22138368e-02 3.44913593e-01\n",
            " 1.55178608e-01 9.53411909e-01 8.54079300e-01 7.33341214e-01\n",
            " 1.21670289e-02 9.39845903e-02 5.95933360e-05 1.81721250e-03\n",
            " 4.49435651e-01 8.40518171e-04 2.78573651e-01 4.64939156e-01\n",
            " 1.92282829e-01 8.95534547e-01 1.32475480e-01 2.64418222e-02\n",
            " 1.05742472e-01 7.47099723e-01 4.97150718e-03 8.25005962e-01\n",
            " 4.17584594e-01 5.18862299e-03 8.15911026e-01 3.21737468e-03\n",
            " 6.41929851e-03 5.30344450e-01 9.19034091e-01 2.06750380e-02\n",
            " 3.73419620e-05 2.12312687e-01 5.84194078e-01 1.05791241e-01\n",
            " 9.46246840e-01 2.43524794e-01 5.92090249e-01 1.28016298e-01\n",
            " 1.44380701e-02 6.48104793e-01 8.44856993e-01 2.73599426e-02\n",
            " 3.17332606e-03 5.47741296e-02 3.02018138e-01 1.22223165e-02\n",
            " 2.64115152e-02 8.07307069e-03 6.90828532e-01 3.04113959e-01\n",
            " 1.36473440e-02 3.22616364e-01 4.38674649e-02 2.85869260e-01\n",
            " 5.10698168e-02 7.47673016e-01 1.89028181e-01 1.24232061e-01\n",
            " 4.39508452e-01 3.12669406e-01 4.39029530e-02 2.11460585e-03\n",
            " 9.58047000e-04 5.00609292e-04 5.73290974e-03 3.04666808e-01\n",
            " 2.35292971e-01 7.92752167e-01 6.74335133e-04 4.83596362e-03\n",
            " 2.45157639e-01 6.80889552e-04 3.92056097e-02 4.34528101e-01\n",
            " 8.01428552e-01 2.52707149e-01 2.36257016e-01 2.05263119e-01\n",
            " 6.97375368e-01 1.28354714e-01 2.21776478e-02 1.59312733e-04\n",
            " 4.79324878e-01 2.68009123e-01 1.27214956e-04 1.07588273e-01\n",
            " 2.37086447e-02 5.05635971e-01 8.20321341e-04 4.61853480e-01\n",
            " 3.91657119e-02 4.06848388e-01 2.70313794e-05 1.46948354e-01\n",
            " 2.99768132e-03 7.34516736e-01 5.26092775e-04 4.38886853e-01\n",
            " 7.86696672e-01 5.43690420e-01 3.92028821e-03 1.39315025e-03\n",
            " 1.74631890e-01 6.45849187e-01 3.94004103e-01 2.33299041e-01\n",
            " 1.20958073e-01 9.23437386e-03 9.61133589e-01 4.63291578e-01\n",
            " 6.03831965e-02 4.89555185e-02 6.08039046e-01 8.83988734e-01\n",
            " 2.25898356e-02 4.04015490e-01 1.22490261e-05 2.76111339e-01\n",
            " 7.16673625e-02 1.39317510e-01 3.22975878e-01 1.11933625e-01\n",
            " 4.52637761e-02 4.54771366e-02 4.39868269e-01 2.65558280e-02\n",
            " 8.46626500e-01 2.01549593e-01 3.98953943e-01 1.55512826e-01]\n",
            "using *: [9.10902912e-03 4.41495279e-02 1.01747583e-01 7.98412572e-01\n",
            " 4.69229380e-02 8.35910763e-02 1.80076923e-02 1.49090363e-02\n",
            " 2.49935569e-03 1.21119137e-01 3.45828901e-02 7.56255359e-02\n",
            " 2.60052197e-02 7.53491935e-01 6.26443739e-01 2.36522725e-07\n",
            " 1.73352190e-02 2.55869475e-01 6.21392564e-01 6.28844832e-01\n",
            " 2.93478434e-03 6.01834327e-04 6.65581119e-01 4.66972853e-02\n",
            " 2.75532989e-06 1.48182336e-02 4.52101988e-02 9.79555869e-04\n",
            " 2.79678493e-04 4.04074824e-03 2.32405306e-01 3.52431680e-01\n",
            " 3.57160726e-02 1.02879228e-03 5.21958262e-02 2.39673907e-02\n",
            " 3.33833775e-02 1.88206568e-01 1.57037365e-01 4.00934463e-02\n",
            " 5.96764493e-01 6.15432740e-02 1.95244693e-02 9.60641913e-03\n",
            " 9.17697629e-02 2.89663699e-02 9.96641646e-06 1.46247855e-02\n",
            " 5.22488372e-01 8.11015047e-02 6.54983606e-04 6.55749451e-01\n",
            " 2.18896575e-02 7.88940628e-01 7.78148754e-02 6.24924995e-02\n",
            " 2.35214092e-02 2.41382920e-01 6.35138840e-04 6.27178809e-02\n",
            " 4.26168871e-01 5.37036027e-02 3.77136590e-02 4.45733990e-02\n",
            " 1.04953053e-02 4.46909925e-05 1.36019525e-01 4.23842138e-03\n",
            " 1.73543689e-01 7.32733145e-03 7.15233762e-02 4.30764912e-01\n",
            " 5.52820304e-01 1.37228483e-01 1.20157287e-01 2.53434124e-02\n",
            " 7.11613480e-01 9.37767275e-03 1.63396661e-01 2.28773775e-01\n",
            " 8.95592731e-01 1.02498574e-01 6.56223528e-01 4.28579988e-01\n",
            " 2.69333143e-01 2.37557869e-01 1.81200391e-01 8.45545556e-02\n",
            " 6.61177843e-01 1.03535673e-02 6.86566034e-02 5.48764107e-01\n",
            " 3.37326995e-01 1.16690060e-01 5.29552206e-02 7.07944829e-02\n",
            " 6.76331993e-01 7.60546306e-01 1.40791843e-01 2.58719280e-01\n",
            " 6.82671330e-03 4.48234042e-01 8.38053358e-02 2.73304936e-02\n",
            " 6.54658977e-01 9.79877496e-04 1.91967047e-01 1.59350988e-01\n",
            " 4.01327989e-01 2.57427752e-01 1.60173025e-02 1.78916509e-03\n",
            " 1.69239381e-01 3.36615098e-01 5.77647078e-01 2.90206764e-02\n",
            " 3.64476325e-01 8.51578076e-01 9.47341009e-01 5.25871996e-02\n",
            " 5.53409912e-01 1.24511116e-01 3.87930865e-01 1.33720143e-03\n",
            " 1.40411022e-01 1.58817221e-01 9.38990758e-01 9.60951644e-01\n",
            " 2.71538129e-02 4.57934925e-02 1.67059975e-02 8.87929051e-06\n",
            " 8.82071454e-01 5.68626065e-01 4.60988229e-01 6.61001012e-03\n",
            " 1.36945641e-05 8.98578071e-04 5.10671827e-01 7.63963673e-02\n",
            " 4.30119977e-01 3.85723167e-02 5.60454982e-02 5.17216120e-01\n",
            " 2.87970318e-01 1.80537997e-02 7.41272054e-04 4.92132711e-02\n",
            " 1.07791097e-01 1.36439251e-03 2.13856600e-02 5.54213685e-01\n",
            " 6.37580262e-01 4.17558310e-02 9.32947724e-01 4.60327516e-01\n",
            " 7.09273184e-01 3.29896044e-01 2.07523036e-02 4.41599581e-04\n",
            " 1.28145036e-01 8.12753119e-01 2.09341719e-02 5.26397519e-02\n",
            " 9.39334904e-02 7.61567318e-01 1.52602627e-01 5.39044992e-01\n",
            " 3.24014791e-01 2.24897599e-01 2.76958214e-01 4.03439766e-02\n",
            " 3.01212701e-03 8.23862099e-05 5.10217548e-02 1.11546671e-01\n",
            " 1.64770148e-03 1.39912876e-02 7.44345889e-02 1.63845681e-01\n",
            " 5.43792569e-01 9.32771554e-03 2.07085798e-03 7.27823532e-01\n",
            " 6.90690663e-02 7.46761755e-01 1.63874428e-01 4.77733001e-01\n",
            " 2.76666080e-02 6.84062251e-01 1.16852747e-03 6.70990871e-03\n",
            " 1.43394638e-01 2.34100290e-01 8.42336573e-01 9.22400316e-04\n",
            " 1.00726197e-01 6.90783782e-02 9.21076718e-01 1.45105752e-02\n",
            " 9.16604690e-04 8.22280743e-03 2.75827166e-02 2.65399828e-01\n",
            " 1.92894001e-03 9.32593206e-03 4.11190944e-01 6.17231868e-04\n",
            " 1.49185756e-01 5.29496034e-01 5.72468643e-04 1.01581635e-01\n",
            " 7.76857807e-01 2.01680002e-01 5.16344346e-03 1.30793754e-02\n",
            " 6.45985648e-03 1.21007821e-03 2.01714196e-01 8.31365399e-01\n",
            " 2.44284737e-01 2.40762345e-01 1.60671276e-03 7.33327996e-01\n",
            " 5.70115896e-01 4.56416338e-02 2.93101040e-01 5.64125700e-01\n",
            " 8.39724653e-02 2.91546769e-01 5.43039748e-04 2.33127166e-01\n",
            " 7.62173152e-01 7.94490004e-01 6.39133945e-02 3.55502761e-01\n",
            " 5.60747103e-04 4.09493456e-06 4.40698789e-01 4.78770128e-03\n",
            " 6.06776315e-02 2.47649329e-01 3.77291543e-04 1.12216384e-02\n",
            " 9.47682317e-01 3.48285181e-01 4.31950746e-01 6.56455554e-01\n",
            " 6.96504345e-01 2.08560093e-03 5.05445422e-04 5.32209090e-01\n",
            " 8.27176554e-01 2.44288730e-01 9.37787587e-01 1.62231695e-03\n",
            " 5.35792596e-01 9.35991123e-01 6.37612126e-02 2.42027932e-02\n",
            " 6.20133201e-03 2.74397873e-01 3.91443148e-03 4.84852821e-01\n",
            " 1.16462618e-02 3.84309883e-02 4.57285394e-01 4.08069574e-01\n",
            " 7.32505284e-03 1.61740361e-02 9.79329438e-01 1.92622677e-02\n",
            " 4.36602187e-03 4.75123199e-02 3.02205900e-04 1.36521147e-01\n",
            " 1.78965347e-01 4.44489680e-01 3.33922044e-03 2.26507393e-02\n",
            " 7.13114381e-04 2.38092961e-01 5.82650734e-02 2.66394894e-01\n",
            " 3.38136786e-02 2.52796120e-03 7.18544884e-06 3.98242411e-02\n",
            " 2.52884824e-04 2.88138364e-01 2.01095188e-01 5.72982270e-01\n",
            " 6.05349581e-01 3.41311460e-01 4.40334375e-02 1.20578617e-02\n",
            " 4.30507552e-02 1.56636308e-01 1.73375429e-04 2.12627283e-03\n",
            " 6.86157402e-01 2.77103831e-01 1.25721998e-02 1.11450859e-01\n",
            " 1.17244082e-01 6.38182954e-01 2.39839074e-02 7.80470515e-03\n",
            " 8.11302409e-02 6.28917667e-01 4.99754808e-05 5.89135210e-03\n",
            " 1.06715961e-01 1.72818867e-01 4.15142911e-01 8.87461465e-03\n",
            " 1.55656972e-02 9.51806604e-01 3.91078259e-01 5.94373001e-02\n",
            " 3.08688516e-01 4.06448127e-01 4.99634342e-01 2.05427312e-03\n",
            " 1.34605880e-02 9.27004386e-01 3.00836838e-01 1.09740187e-02\n",
            " 5.42532655e-01 1.69118226e-01 1.74021354e-05 1.01368412e-05\n",
            " 4.01753267e-01 1.68692704e-03 1.12680530e-02 9.34684835e-01\n",
            " 8.51621939e-05 1.04861288e-01 7.45212519e-01 9.96266280e-01\n",
            " 4.95460000e-01 2.40540747e-01 3.10654826e-06 1.51317027e-01\n",
            " 5.78666017e-03 7.15697284e-02 2.23898700e-02 1.04902369e-01\n",
            " 1.40287046e-01 2.64792729e-01 1.44569970e-01 4.43921741e-01\n",
            " 1.63731650e-02 8.37914183e-01 1.83729162e-01 7.80445954e-01\n",
            " 4.95113473e-02 4.24768470e-03 5.79755449e-01 4.74318734e-02\n",
            " 2.44318654e-01 2.26142343e-01 9.84578618e-01 1.33093376e-01\n",
            " 8.56796933e-01 4.21548002e-03 6.09948967e-04 7.45177920e-02\n",
            " 2.14642962e-03 8.17961921e-01 1.22138368e-02 3.44913593e-01\n",
            " 1.55178608e-01 9.53411909e-01 8.54079300e-01 7.33341214e-01\n",
            " 1.21670289e-02 9.39845903e-02 5.95933360e-05 1.81721250e-03\n",
            " 4.49435651e-01 8.40518171e-04 2.78573651e-01 4.64939156e-01\n",
            " 1.92282829e-01 8.95534547e-01 1.32475480e-01 2.64418222e-02\n",
            " 1.05742472e-01 7.47099723e-01 4.97150718e-03 8.25005962e-01\n",
            " 4.17584594e-01 5.18862299e-03 8.15911026e-01 3.21737468e-03\n",
            " 6.41929851e-03 5.30344450e-01 9.19034091e-01 2.06750380e-02\n",
            " 3.73419620e-05 2.12312687e-01 5.84194078e-01 1.05791241e-01\n",
            " 9.46246840e-01 2.43524794e-01 5.92090249e-01 1.28016298e-01\n",
            " 1.44380701e-02 6.48104793e-01 8.44856993e-01 2.73599426e-02\n",
            " 3.17332606e-03 5.47741296e-02 3.02018138e-01 1.22223165e-02\n",
            " 2.64115152e-02 8.07307069e-03 6.90828532e-01 3.04113959e-01\n",
            " 1.36473440e-02 3.22616364e-01 4.38674649e-02 2.85869260e-01\n",
            " 5.10698168e-02 7.47673016e-01 1.89028181e-01 1.24232061e-01\n",
            " 4.39508452e-01 3.12669406e-01 4.39029530e-02 2.11460585e-03\n",
            " 9.58047000e-04 5.00609292e-04 5.73290974e-03 3.04666808e-01\n",
            " 2.35292971e-01 7.92752167e-01 6.74335133e-04 4.83596362e-03\n",
            " 2.45157639e-01 6.80889552e-04 3.92056097e-02 4.34528101e-01\n",
            " 8.01428552e-01 2.52707149e-01 2.36257016e-01 2.05263119e-01\n",
            " 6.97375368e-01 1.28354714e-01 2.21776478e-02 1.59312733e-04\n",
            " 4.79324878e-01 2.68009123e-01 1.27214956e-04 1.07588273e-01\n",
            " 2.37086447e-02 5.05635971e-01 8.20321341e-04 4.61853480e-01\n",
            " 3.91657119e-02 4.06848388e-01 2.70313794e-05 1.46948354e-01\n",
            " 2.99768132e-03 7.34516736e-01 5.26092775e-04 4.38886853e-01\n",
            " 7.86696672e-01 5.43690420e-01 3.92028821e-03 1.39315025e-03\n",
            " 1.74631890e-01 6.45849187e-01 3.94004103e-01 2.33299041e-01\n",
            " 1.20958073e-01 9.23437386e-03 9.61133589e-01 4.63291578e-01\n",
            " 6.03831965e-02 4.89555185e-02 6.08039046e-01 8.83988734e-01\n",
            " 2.25898356e-02 4.04015490e-01 1.22490261e-05 2.76111339e-01\n",
            " 7.16673625e-02 1.39317510e-01 3.22975878e-01 1.11933625e-01\n",
            " 4.52637761e-02 4.54771366e-02 4.39868269e-01 2.65558280e-02\n",
            " 8.46626500e-01 2.01549593e-01 3.98953943e-01 1.55512826e-01]\n",
            "using einsum: [9.10902912e-03 4.41495279e-02 1.01747583e-01 7.98412572e-01\n",
            " 4.69229380e-02 8.35910763e-02 1.80076923e-02 1.49090363e-02\n",
            " 2.49935569e-03 1.21119137e-01 3.45828901e-02 7.56255359e-02\n",
            " 2.60052197e-02 7.53491935e-01 6.26443739e-01 2.36522725e-07\n",
            " 1.73352190e-02 2.55869475e-01 6.21392564e-01 6.28844832e-01\n",
            " 2.93478434e-03 6.01834327e-04 6.65581119e-01 4.66972853e-02\n",
            " 2.75532989e-06 1.48182336e-02 4.52101988e-02 9.79555869e-04\n",
            " 2.79678493e-04 4.04074824e-03 2.32405306e-01 3.52431680e-01\n",
            " 3.57160726e-02 1.02879228e-03 5.21958262e-02 2.39673907e-02\n",
            " 3.33833775e-02 1.88206568e-01 1.57037365e-01 4.00934463e-02\n",
            " 5.96764493e-01 6.15432740e-02 1.95244693e-02 9.60641913e-03\n",
            " 9.17697629e-02 2.89663699e-02 9.96641646e-06 1.46247855e-02\n",
            " 5.22488372e-01 8.11015047e-02 6.54983606e-04 6.55749451e-01\n",
            " 2.18896575e-02 7.88940628e-01 7.78148754e-02 6.24924995e-02\n",
            " 2.35214092e-02 2.41382920e-01 6.35138840e-04 6.27178809e-02\n",
            " 4.26168871e-01 5.37036027e-02 3.77136590e-02 4.45733990e-02\n",
            " 1.04953053e-02 4.46909925e-05 1.36019525e-01 4.23842138e-03\n",
            " 1.73543689e-01 7.32733145e-03 7.15233762e-02 4.30764912e-01\n",
            " 5.52820304e-01 1.37228483e-01 1.20157287e-01 2.53434124e-02\n",
            " 7.11613480e-01 9.37767275e-03 1.63396661e-01 2.28773775e-01\n",
            " 8.95592731e-01 1.02498574e-01 6.56223528e-01 4.28579988e-01\n",
            " 2.69333143e-01 2.37557869e-01 1.81200391e-01 8.45545556e-02\n",
            " 6.61177843e-01 1.03535673e-02 6.86566034e-02 5.48764107e-01\n",
            " 3.37326995e-01 1.16690060e-01 5.29552206e-02 7.07944829e-02\n",
            " 6.76331993e-01 7.60546306e-01 1.40791843e-01 2.58719280e-01\n",
            " 6.82671330e-03 4.48234042e-01 8.38053358e-02 2.73304936e-02\n",
            " 6.54658977e-01 9.79877496e-04 1.91967047e-01 1.59350988e-01\n",
            " 4.01327989e-01 2.57427752e-01 1.60173025e-02 1.78916509e-03\n",
            " 1.69239381e-01 3.36615098e-01 5.77647078e-01 2.90206764e-02\n",
            " 3.64476325e-01 8.51578076e-01 9.47341009e-01 5.25871996e-02\n",
            " 5.53409912e-01 1.24511116e-01 3.87930865e-01 1.33720143e-03\n",
            " 1.40411022e-01 1.58817221e-01 9.38990758e-01 9.60951644e-01\n",
            " 2.71538129e-02 4.57934925e-02 1.67059975e-02 8.87929051e-06\n",
            " 8.82071454e-01 5.68626065e-01 4.60988229e-01 6.61001012e-03\n",
            " 1.36945641e-05 8.98578071e-04 5.10671827e-01 7.63963673e-02\n",
            " 4.30119977e-01 3.85723167e-02 5.60454982e-02 5.17216120e-01\n",
            " 2.87970318e-01 1.80537997e-02 7.41272054e-04 4.92132711e-02\n",
            " 1.07791097e-01 1.36439251e-03 2.13856600e-02 5.54213685e-01\n",
            " 6.37580262e-01 4.17558310e-02 9.32947724e-01 4.60327516e-01\n",
            " 7.09273184e-01 3.29896044e-01 2.07523036e-02 4.41599581e-04\n",
            " 1.28145036e-01 8.12753119e-01 2.09341719e-02 5.26397519e-02\n",
            " 9.39334904e-02 7.61567318e-01 1.52602627e-01 5.39044992e-01\n",
            " 3.24014791e-01 2.24897599e-01 2.76958214e-01 4.03439766e-02\n",
            " 3.01212701e-03 8.23862099e-05 5.10217548e-02 1.11546671e-01\n",
            " 1.64770148e-03 1.39912876e-02 7.44345889e-02 1.63845681e-01\n",
            " 5.43792569e-01 9.32771554e-03 2.07085798e-03 7.27823532e-01\n",
            " 6.90690663e-02 7.46761755e-01 1.63874428e-01 4.77733001e-01\n",
            " 2.76666080e-02 6.84062251e-01 1.16852747e-03 6.70990871e-03\n",
            " 1.43394638e-01 2.34100290e-01 8.42336573e-01 9.22400316e-04\n",
            " 1.00726197e-01 6.90783782e-02 9.21076718e-01 1.45105752e-02\n",
            " 9.16604690e-04 8.22280743e-03 2.75827166e-02 2.65399828e-01\n",
            " 1.92894001e-03 9.32593206e-03 4.11190944e-01 6.17231868e-04\n",
            " 1.49185756e-01 5.29496034e-01 5.72468643e-04 1.01581635e-01\n",
            " 7.76857807e-01 2.01680002e-01 5.16344346e-03 1.30793754e-02\n",
            " 6.45985648e-03 1.21007821e-03 2.01714196e-01 8.31365399e-01\n",
            " 2.44284737e-01 2.40762345e-01 1.60671276e-03 7.33327996e-01\n",
            " 5.70115896e-01 4.56416338e-02 2.93101040e-01 5.64125700e-01\n",
            " 8.39724653e-02 2.91546769e-01 5.43039748e-04 2.33127166e-01\n",
            " 7.62173152e-01 7.94490004e-01 6.39133945e-02 3.55502761e-01\n",
            " 5.60747103e-04 4.09493456e-06 4.40698789e-01 4.78770128e-03\n",
            " 6.06776315e-02 2.47649329e-01 3.77291543e-04 1.12216384e-02\n",
            " 9.47682317e-01 3.48285181e-01 4.31950746e-01 6.56455554e-01\n",
            " 6.96504345e-01 2.08560093e-03 5.05445422e-04 5.32209090e-01\n",
            " 8.27176554e-01 2.44288730e-01 9.37787587e-01 1.62231695e-03\n",
            " 5.35792596e-01 9.35991123e-01 6.37612126e-02 2.42027932e-02\n",
            " 6.20133201e-03 2.74397873e-01 3.91443148e-03 4.84852821e-01\n",
            " 1.16462618e-02 3.84309883e-02 4.57285394e-01 4.08069574e-01\n",
            " 7.32505284e-03 1.61740361e-02 9.79329438e-01 1.92622677e-02\n",
            " 4.36602187e-03 4.75123199e-02 3.02205900e-04 1.36521147e-01\n",
            " 1.78965347e-01 4.44489680e-01 3.33922044e-03 2.26507393e-02\n",
            " 7.13114381e-04 2.38092961e-01 5.82650734e-02 2.66394894e-01\n",
            " 3.38136786e-02 2.52796120e-03 7.18544884e-06 3.98242411e-02\n",
            " 2.52884824e-04 2.88138364e-01 2.01095188e-01 5.72982270e-01\n",
            " 6.05349581e-01 3.41311460e-01 4.40334375e-02 1.20578617e-02\n",
            " 4.30507552e-02 1.56636308e-01 1.73375429e-04 2.12627283e-03\n",
            " 6.86157402e-01 2.77103831e-01 1.25721998e-02 1.11450859e-01\n",
            " 1.17244082e-01 6.38182954e-01 2.39839074e-02 7.80470515e-03\n",
            " 8.11302409e-02 6.28917667e-01 4.99754808e-05 5.89135210e-03\n",
            " 1.06715961e-01 1.72818867e-01 4.15142911e-01 8.87461465e-03\n",
            " 1.55656972e-02 9.51806604e-01 3.91078259e-01 5.94373001e-02\n",
            " 3.08688516e-01 4.06448127e-01 4.99634342e-01 2.05427312e-03\n",
            " 1.34605880e-02 9.27004386e-01 3.00836838e-01 1.09740187e-02\n",
            " 5.42532655e-01 1.69118226e-01 1.74021354e-05 1.01368412e-05\n",
            " 4.01753267e-01 1.68692704e-03 1.12680530e-02 9.34684835e-01\n",
            " 8.51621939e-05 1.04861288e-01 7.45212519e-01 9.96266280e-01\n",
            " 4.95460000e-01 2.40540747e-01 3.10654826e-06 1.51317027e-01\n",
            " 5.78666017e-03 7.15697284e-02 2.23898700e-02 1.04902369e-01\n",
            " 1.40287046e-01 2.64792729e-01 1.44569970e-01 4.43921741e-01\n",
            " 1.63731650e-02 8.37914183e-01 1.83729162e-01 7.80445954e-01\n",
            " 4.95113473e-02 4.24768470e-03 5.79755449e-01 4.74318734e-02\n",
            " 2.44318654e-01 2.26142343e-01 9.84578618e-01 1.33093376e-01\n",
            " 8.56796933e-01 4.21548002e-03 6.09948967e-04 7.45177920e-02\n",
            " 2.14642962e-03 8.17961921e-01 1.22138368e-02 3.44913593e-01\n",
            " 1.55178608e-01 9.53411909e-01 8.54079300e-01 7.33341214e-01\n",
            " 1.21670289e-02 9.39845903e-02 5.95933360e-05 1.81721250e-03\n",
            " 4.49435651e-01 8.40518171e-04 2.78573651e-01 4.64939156e-01\n",
            " 1.92282829e-01 8.95534547e-01 1.32475480e-01 2.64418222e-02\n",
            " 1.05742472e-01 7.47099723e-01 4.97150718e-03 8.25005962e-01\n",
            " 4.17584594e-01 5.18862299e-03 8.15911026e-01 3.21737468e-03\n",
            " 6.41929851e-03 5.30344450e-01 9.19034091e-01 2.06750380e-02\n",
            " 3.73419620e-05 2.12312687e-01 5.84194078e-01 1.05791241e-01\n",
            " 9.46246840e-01 2.43524794e-01 5.92090249e-01 1.28016298e-01\n",
            " 1.44380701e-02 6.48104793e-01 8.44856993e-01 2.73599426e-02\n",
            " 3.17332606e-03 5.47741296e-02 3.02018138e-01 1.22223165e-02\n",
            " 2.64115152e-02 8.07307069e-03 6.90828532e-01 3.04113959e-01\n",
            " 1.36473440e-02 3.22616364e-01 4.38674649e-02 2.85869260e-01\n",
            " 5.10698168e-02 7.47673016e-01 1.89028181e-01 1.24232061e-01\n",
            " 4.39508452e-01 3.12669406e-01 4.39029530e-02 2.11460585e-03\n",
            " 9.58047000e-04 5.00609292e-04 5.73290974e-03 3.04666808e-01\n",
            " 2.35292971e-01 7.92752167e-01 6.74335133e-04 4.83596362e-03\n",
            " 2.45157639e-01 6.80889552e-04 3.92056097e-02 4.34528101e-01\n",
            " 8.01428552e-01 2.52707149e-01 2.36257016e-01 2.05263119e-01\n",
            " 6.97375368e-01 1.28354714e-01 2.21776478e-02 1.59312733e-04\n",
            " 4.79324878e-01 2.68009123e-01 1.27214956e-04 1.07588273e-01\n",
            " 2.37086447e-02 5.05635971e-01 8.20321341e-04 4.61853480e-01\n",
            " 3.91657119e-02 4.06848388e-01 2.70313794e-05 1.46948354e-01\n",
            " 2.99768132e-03 7.34516736e-01 5.26092775e-04 4.38886853e-01\n",
            " 7.86696672e-01 5.43690420e-01 3.92028821e-03 1.39315025e-03\n",
            " 1.74631890e-01 6.45849187e-01 3.94004103e-01 2.33299041e-01\n",
            " 1.20958073e-01 9.23437386e-03 9.61133589e-01 4.63291578e-01\n",
            " 6.03831965e-02 4.89555185e-02 6.08039046e-01 8.83988734e-01\n",
            " 2.25898356e-02 4.04015490e-01 1.22490261e-05 2.76111339e-01\n",
            " 7.16673625e-02 1.39317510e-01 3.22975878e-01 1.11933625e-01\n",
            " 4.52637761e-02 4.54771366e-02 4.39868269e-01 2.65558280e-02\n",
            " 8.46626500e-01 2.01549593e-01 3.98953943e-01 1.55512826e-01]\n"
          ]
        }
      ],
      "source": [
        "x = np.random.rand(int(5e2))\n",
        "print('using power:',np.power(x,3))\n",
        "print('using *:', x*x*x)\n",
        "print('using einsum:',np.einsum('i,i,i->i',x,x,x))"
      ]
    },
    {
      "cell_type": "markdown",
      "metadata": {
        "id": "Rd6N3_kg0nKJ"
      },
      "source": [
        "#### 93. Consider two arrays A and B of shape (8,3) and (2,2). How to find rows of A that contain elements of each row of B regardless of the order of the elements in B? (★★★) \n",
        "(**hint**: np.where)"
      ]
    },
    {
      "cell_type": "code",
      "execution_count": 97,
      "metadata": {
        "id": "DKDADJxB0nKK",
        "colab": {
          "base_uri": "https://localhost:8080/"
        },
        "outputId": "4b76a23a-36d9-4581-bc7f-a9c56a0f3550"
      },
      "outputs": [
        {
          "output_type": "stream",
          "name": "stdout",
          "text": [
            "[0 4 5 7]\n"
          ]
        }
      ],
      "source": [
        "A = np.random.randint(0,5,(8,3))\n",
        "B = np.random.randint(0,5,(2,2))\n",
        "C = (A[...,np.newaxis, np.newaxis] == B)\n",
        "rows = np.where(C.any((3,1)).all(1))[0]\n",
        "print(rows)\n"
      ]
    },
    {
      "cell_type": "markdown",
      "metadata": {
        "id": "0kKFE-xz0nKK"
      },
      "source": [
        "#### 94. Considering a 10x3 matrix, extract rows with unequal values (e.g. \\[2,2,3\\]) (★★★)"
      ]
    },
    {
      "cell_type": "code",
      "execution_count": 98,
      "metadata": {
        "id": "adnqZtpv0nKK",
        "colab": {
          "base_uri": "https://localhost:8080/"
        },
        "outputId": "17995e4d-c58c-4daf-dad9-f7f254501002"
      },
      "outputs": [
        {
          "output_type": "stream",
          "name": "stdout",
          "text": [
            "[[3 4 3]\n",
            " [3 0 4]\n",
            " [1 4 1]\n",
            " [2 1 1]\n",
            " [0 4 3]\n",
            " [4 2 4]\n",
            " [1 4 0]\n",
            " [2 4 3]\n",
            " [4 1 3]\n",
            " [2 2 4]]\n",
            "-----------\n",
            "unequal values in rows:\n",
            "[[3 4 3]\n",
            " [3 0 4]\n",
            " [1 4 1]\n",
            " [2 1 1]\n",
            " [0 4 3]\n",
            " [4 2 4]\n",
            " [1 4 0]\n",
            " [2 4 3]\n",
            " [4 1 3]\n",
            " [2 2 4]]\n"
          ]
        }
      ],
      "source": [
        "Z = np.random.randint(0,5,(10,3))\n",
        "print(Z)\n",
        "print('-----------')\n",
        "U = Z[Z.max(axis=1) != Z.min(axis=1),:]\n",
        "print('unequal values in rows:')\n",
        "print(U)"
      ]
    },
    {
      "cell_type": "markdown",
      "metadata": {
        "id": "KdT0D8Zu0nKK"
      },
      "source": [
        "#### 95. Convert a vector of ints into a matrix binary representation (★★★) \n",
        "(**hint**: np.unpackbits)"
      ]
    },
    {
      "cell_type": "code",
      "execution_count": 100,
      "metadata": {
        "id": "IodwxivT0nKL",
        "colab": {
          "base_uri": "https://localhost:8080/"
        },
        "outputId": "23a7172f-2f2f-4f41-a637-cc90dba06e81"
      },
      "outputs": [
        {
          "output_type": "stream",
          "name": "stdout",
          "text": [
            "[[0 0 0 0 0 0 0 0]\n",
            " [0 0 0 0 0 1 0 1]\n",
            " [0 0 0 0 1 0 1 0]\n",
            " [0 0 0 0 1 1 1 1]\n",
            " [0 0 0 1 0 1 0 0]\n",
            " [0 0 0 1 1 0 0 1]\n",
            " [0 0 0 1 1 1 1 0]\n",
            " [0 0 1 0 0 0 1 1]]\n"
          ]
        }
      ],
      "source": [
        "A = np.array([i for i in range(0,40,5)], dtype=np.uint8)\n",
        "print(np.unpackbits(A[:, np.newaxis], axis=1))"
      ]
    },
    {
      "cell_type": "markdown",
      "metadata": {
        "id": "EosszVag0nKL"
      },
      "source": [
        "#### 96. Given a two dimensional array, how to extract unique rows? (★★★) \n",
        "(**hint**: np.ascontiguousarray)"
      ]
    },
    {
      "cell_type": "code",
      "execution_count": 101,
      "metadata": {
        "id": "BdOIl5Ky0nKL",
        "colab": {
          "base_uri": "https://localhost:8080/"
        },
        "outputId": "3eca58fa-12a7-49a8-af0f-70be92027945"
      },
      "outputs": [
        {
          "output_type": "stream",
          "name": "stdout",
          "text": [
            "Z values: [[0 0 1]\n",
            " [1 1 0]\n",
            " [1 0 1]\n",
            " [0 1 1]\n",
            " [0 0 1]\n",
            " [0 1 0]]\n",
            "unique values: [[0 0 1]\n",
            " [0 1 0]\n",
            " [0 1 1]\n",
            " [1 0 1]\n",
            " [1 1 0]]\n"
          ]
        }
      ],
      "source": [
        "Z = np.random.randint(0,2,(6,3))\n",
        "print('Z values:',Z)\n",
        "uZ = np.unique(Z, axis=0)\n",
        "print('unique values:',uZ)"
      ]
    },
    {
      "cell_type": "markdown",
      "metadata": {
        "id": "vJabpRWX0nKL"
      },
      "source": [
        "#### 97. Considering 2 vectors A & B, write the einsum equivalent of inner, outer, sum, and mul function (★★★) \n",
        "(**hint**: np.einsum)"
      ]
    },
    {
      "cell_type": "code",
      "execution_count": 102,
      "metadata": {
        "id": "-vkchfRt0nKM",
        "colab": {
          "base_uri": "https://localhost:8080/"
        },
        "outputId": "a01a9164-5e1c-4458-e409-5783653cd5df"
      },
      "outputs": [
        {
          "output_type": "stream",
          "name": "stdout",
          "text": [
            "A: [2 7 9 3 3]\n",
            "B: [6 9 8 8 5]\n",
            "sum: 24\n",
            "multiplication: [12 63 72 24 15]\n",
            "inner: 186\n",
            "outer: [[12 18 16 16 10]\n",
            " [42 63 56 56 35]\n",
            " [54 81 72 72 45]\n",
            " [18 27 24 24 15]\n",
            " [18 27 24 24 15]]\n"
          ]
        }
      ],
      "source": [
        "A = np.random.randint(0,10,5)\n",
        "B = np.random.randint(0,10,5)\n",
        "print('A:',A)\n",
        "print('B:',B)\n",
        "print('sum:',np.einsum('i->', A))                  # np.sum(A)\n",
        "print('multiplication:',np.einsum('i,i->i', A, B)) # A * B\n",
        "print('inner:',np.einsum('i,i', A, B))             # np.inner(A, B)\n",
        "print('outer:',np.einsum('i,j->ij', A, B))         # np.outer(A, B)"
      ]
    },
    {
      "cell_type": "markdown",
      "metadata": {
        "id": "bRH-fEY80nKM"
      },
      "source": [
        "#### 98. Considering a path described by two vectors (X,Y), how to sample it using equidistant samples (★★★)? \n",
        "(**hint**: np.cumsum, np.interp)"
      ]
    },
    {
      "cell_type": "code",
      "execution_count": 103,
      "metadata": {
        "collapsed": true,
        "id": "ZWLpKzOG0nKM"
      },
      "outputs": [],
      "source": [
        "pi = np.arange(0, 10*np.pi, 0.1)\n",
        "a = 1\n",
        "x = a*pi*np.cos(pi)\n",
        "y = a*pi*np.sin(pi)\n",
        "\n",
        "dr = (np.diff(x)**2 + np.diff(y)**2)**.5 \n",
        "r = np.zeros_like(x)\n",
        "r[1:] = np.cumsum(dr)                \n",
        "r_int = np.linspace(0, r.max(), 200) \n",
        "x_int = np.interp(r_int, r, x)      \n",
        "y_int = np.interp(r_int, r, y)"
      ]
    },
    {
      "cell_type": "markdown",
      "metadata": {
        "id": "iTVDpJcL0nKM"
      },
      "source": [
        "#### 99. Given an integer n and a 2D array X, select from X the rows which can be interpreted as draws from a multinomial distribution with n degrees, i.e., the rows which only contain integers and which sum to n. (★★★) \n",
        "(**hint**: np.logical\\_and.reduce, np.mod)"
      ]
    },
    {
      "cell_type": "code",
      "execution_count": 104,
      "metadata": {
        "id": "j8u5xPdg0nKM",
        "colab": {
          "base_uri": "https://localhost:8080/"
        },
        "outputId": "67f7f121-ee84-4365-b211-d48cd048b002"
      },
      "outputs": [
        {
          "output_type": "stream",
          "name": "stdout",
          "text": [
            "[[2. 0. 1. 1.]]\n"
          ]
        }
      ],
      "source": [
        "X = np.asarray([[1.0, 0.0, 3.0, 8.0],\n",
        "                [2.0, 0.0, 1.0, 1.0],\n",
        "                [1.5, 2.5, 1.0, 0.0]])\n",
        "n = 4\n",
        "M = np.logical_and.reduce(np.mod(X, 1) == 0, axis=-1)\n",
        "M &= (X.sum(axis=-1) == n)\n",
        "print(X[M])"
      ]
    },
    {
      "cell_type": "markdown",
      "metadata": {
        "id": "xYqExPul0nKN"
      },
      "source": [
        "#### 100. Compute bootstrapped 95% confidence intervals for the mean of a 1D array X (i.e., resample the elements of an array with replacement N times, compute the mean of each sample, and then compute percentiles over the means). (★★★) \n",
        "(**hint**: np.percentile)"
      ]
    },
    {
      "cell_type": "code",
      "execution_count": 105,
      "metadata": {
        "id": "5EWhW-UH0nKN",
        "colab": {
          "base_uri": "https://localhost:8080/"
        },
        "outputId": "43b69ab7-cbee-401c-9e76-73878bb8f08e"
      },
      "outputs": [
        {
          "output_type": "stream",
          "name": "stdout",
          "text": [
            "[-0.17435193  0.17729318]\n"
          ]
        }
      ],
      "source": [
        "x = np.random.randn(100) # random 1D array\n",
        "n = 1000                 # number of bootstrap samples\n",
        "idx = np.random.randint(0, x.size, (n, x.size))\n",
        "means = x[idx].mean(axis=1)\n",
        "conf_int = np.percentile(means, [2.5, 97.5])\n",
        "print(conf_int)"
      ]
    }
  ],
  "metadata": {
    "kernelspec": {
      "display_name": "Python 3",
      "language": "python",
      "name": "python3"
    },
    "language_info": {
      "codemirror_mode": {
        "name": "ipython",
        "version": 3
      },
      "file_extension": ".py",
      "mimetype": "text/x-python",
      "name": "python",
      "nbconvert_exporter": "python",
      "pygments_lexer": "ipython3",
      "version": "3.8.3"
    },
    "colab": {
      "provenance": [],
      "collapsed_sections": [],
      "include_colab_link": true
    }
  },
  "nbformat": 4,
  "nbformat_minor": 0
}